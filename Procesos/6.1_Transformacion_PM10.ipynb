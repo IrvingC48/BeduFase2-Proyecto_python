{
  "nbformat": 4,
  "nbformat_minor": 0,
  "metadata": {
    "colab": {
      "name": "6.1_Transformacion_PM10.ipynb",
      "provenance": []
    },
    "kernelspec": {
      "name": "python3",
      "display_name": "Python 3.9.2 64-bit",
      "metadata": {
        "interpreter": {
          "hash": "d0851c8d918f9ad433d63dff71dbacbe17259539d55e689a7d9cbf48e3dba898"
        }
      }
    }
  },
  "cells": [
    {
      "cell_type": "markdown",
      "metadata": {
        "id": "MIIDm9DOGxxB"
      },
      "source": [
        "# Promedio Diario $PM_{10}$\n",
        "\n",
        "Para nuestra transformación de datos, utilizaremos las siguientes librerias:\n",
        "\n"
      ]
    },
    {
      "cell_type": "code",
      "metadata": {
        "id": "qgNSF59zGLNn"
      },
      "source": [
        "import pandas as pd\n",
        "import numpy as np"
      ],
      "execution_count": 1,
      "outputs": []
    },
    {
      "cell_type": "markdown",
      "metadata": {
        "id": "SKqhqjSBHqE4"
      },
      "source": [
        "- Cargando dataset a un DataFrame de pandas\r\n",
        "\r\n",
        "- Posteriormente normalizando la columna `Fecha` a tipo datetime"
      ]
    },
    {
      "cell_type": "code",
      "metadata": {
        "colab": {
          "base_uri": "https://localhost:8080/",
          "height": 206
        },
        "id": "ifgxDQhzGLNq",
        "outputId": "47c613f7-3bad-4d8c-c3b8-60b6bc53fb1a"
      },
      "source": [
        "#Cargando archivos\n",
        "df = pd.read_csv('../Datasets/PM10/PM10_depurado.csv')\n",
        "\n",
        "# Normalizando fechas\n",
        "df['FECHA'] = pd.to_datetime(df['FECHA'], unit='ns')\n",
        "df.head()"
      ],
      "execution_count": 2,
      "outputs": [
        {
          "output_type": "execute_result",
          "data": {
            "text/plain": [
              "   Unnamed: 0      FECHA  HORA    ACO   AJM    ATI    BJU    CAM    CUA  \\\n",
              "0           0 2019-01-01     1  201.0  39.0  105.0   84.0  120.0  113.0   \n",
              "1           1 2019-01-01     2  218.0  27.0  128.0  115.0  135.0  158.0   \n",
              "2           2 2019-01-01     3  240.0  20.0   93.0  134.0  177.0  192.0   \n",
              "3           3 2019-01-01     4  231.0  10.0   86.0  124.0  204.0  143.0   \n",
              "4           4 2019-01-01     5  216.0   7.0   68.0  143.0  162.0  123.0   \n",
              "\n",
              "     CUT  ...    IZT    MER  PED    SAG   SFE    TAH   TLA    UIZ    VIF  \\\n",
              "0  149.0  ...  132.0  113.0  NaN  149.0  50.0  191.0  78.0  129.0  280.0   \n",
              "1  211.0  ...  202.0  141.0  NaN  149.0  54.0  225.0  73.0  125.0  257.0   \n",
              "2  214.0  ...  198.0  118.0  NaN  152.0  65.0  185.0  80.0  132.0  509.0   \n",
              "3  178.0  ...  192.0  154.0  NaN  217.0  33.0  172.0  84.0  136.0  611.0   \n",
              "4  234.0  ...  178.0  227.0  NaN  242.0  29.0   83.0  63.0  191.0  653.0   \n",
              "\n",
              "     XAL  \n",
              "0  155.0  \n",
              "1  236.0  \n",
              "2  337.0  \n",
              "3  271.0  \n",
              "4  226.0  \n",
              "\n",
              "[5 rows x 24 columns]"
            ],
            "text/html": "<div>\n<style scoped>\n    .dataframe tbody tr th:only-of-type {\n        vertical-align: middle;\n    }\n\n    .dataframe tbody tr th {\n        vertical-align: top;\n    }\n\n    .dataframe thead th {\n        text-align: right;\n    }\n</style>\n<table border=\"1\" class=\"dataframe\">\n  <thead>\n    <tr style=\"text-align: right;\">\n      <th></th>\n      <th>Unnamed: 0</th>\n      <th>FECHA</th>\n      <th>HORA</th>\n      <th>ACO</th>\n      <th>AJM</th>\n      <th>ATI</th>\n      <th>BJU</th>\n      <th>CAM</th>\n      <th>CUA</th>\n      <th>CUT</th>\n      <th>...</th>\n      <th>IZT</th>\n      <th>MER</th>\n      <th>PED</th>\n      <th>SAG</th>\n      <th>SFE</th>\n      <th>TAH</th>\n      <th>TLA</th>\n      <th>UIZ</th>\n      <th>VIF</th>\n      <th>XAL</th>\n    </tr>\n  </thead>\n  <tbody>\n    <tr>\n      <th>0</th>\n      <td>0</td>\n      <td>2019-01-01</td>\n      <td>1</td>\n      <td>201.0</td>\n      <td>39.0</td>\n      <td>105.0</td>\n      <td>84.0</td>\n      <td>120.0</td>\n      <td>113.0</td>\n      <td>149.0</td>\n      <td>...</td>\n      <td>132.0</td>\n      <td>113.0</td>\n      <td>NaN</td>\n      <td>149.0</td>\n      <td>50.0</td>\n      <td>191.0</td>\n      <td>78.0</td>\n      <td>129.0</td>\n      <td>280.0</td>\n      <td>155.0</td>\n    </tr>\n    <tr>\n      <th>1</th>\n      <td>1</td>\n      <td>2019-01-01</td>\n      <td>2</td>\n      <td>218.0</td>\n      <td>27.0</td>\n      <td>128.0</td>\n      <td>115.0</td>\n      <td>135.0</td>\n      <td>158.0</td>\n      <td>211.0</td>\n      <td>...</td>\n      <td>202.0</td>\n      <td>141.0</td>\n      <td>NaN</td>\n      <td>149.0</td>\n      <td>54.0</td>\n      <td>225.0</td>\n      <td>73.0</td>\n      <td>125.0</td>\n      <td>257.0</td>\n      <td>236.0</td>\n    </tr>\n    <tr>\n      <th>2</th>\n      <td>2</td>\n      <td>2019-01-01</td>\n      <td>3</td>\n      <td>240.0</td>\n      <td>20.0</td>\n      <td>93.0</td>\n      <td>134.0</td>\n      <td>177.0</td>\n      <td>192.0</td>\n      <td>214.0</td>\n      <td>...</td>\n      <td>198.0</td>\n      <td>118.0</td>\n      <td>NaN</td>\n      <td>152.0</td>\n      <td>65.0</td>\n      <td>185.0</td>\n      <td>80.0</td>\n      <td>132.0</td>\n      <td>509.0</td>\n      <td>337.0</td>\n    </tr>\n    <tr>\n      <th>3</th>\n      <td>3</td>\n      <td>2019-01-01</td>\n      <td>4</td>\n      <td>231.0</td>\n      <td>10.0</td>\n      <td>86.0</td>\n      <td>124.0</td>\n      <td>204.0</td>\n      <td>143.0</td>\n      <td>178.0</td>\n      <td>...</td>\n      <td>192.0</td>\n      <td>154.0</td>\n      <td>NaN</td>\n      <td>217.0</td>\n      <td>33.0</td>\n      <td>172.0</td>\n      <td>84.0</td>\n      <td>136.0</td>\n      <td>611.0</td>\n      <td>271.0</td>\n    </tr>\n    <tr>\n      <th>4</th>\n      <td>4</td>\n      <td>2019-01-01</td>\n      <td>5</td>\n      <td>216.0</td>\n      <td>7.0</td>\n      <td>68.0</td>\n      <td>143.0</td>\n      <td>162.0</td>\n      <td>123.0</td>\n      <td>234.0</td>\n      <td>...</td>\n      <td>178.0</td>\n      <td>227.0</td>\n      <td>NaN</td>\n      <td>242.0</td>\n      <td>29.0</td>\n      <td>83.0</td>\n      <td>63.0</td>\n      <td>191.0</td>\n      <td>653.0</td>\n      <td>226.0</td>\n    </tr>\n  </tbody>\n</table>\n<p>5 rows × 24 columns</p>\n</div>"
          },
          "metadata": {},
          "execution_count": 2
        }
      ]
    },
    {
      "cell_type": "markdown",
      "metadata": {
        "id": "9STZgS3PJNsA"
      },
      "source": [
        "- Reacomodo del DataFrame , donde ahora tendremos una columna para las estaciones y sus correspondientes datos de medición\n",
        "- Eliminando los datos `NaN`\n",
        "- Comprobando que no queden datos `NaN` en el DataFrame"
      ]
    },
    {
      "cell_type": "code",
      "metadata": {
        "colab": {
          "base_uri": "https://localhost:8080/",
          "height": 321
        },
        "id": "SqbL90leGLNr",
        "outputId": "b4918193-2028-43b4-94d7-eb06be1d3a98"
      },
      "source": [
        "# Extraer nombre de columnas\n",
        "cols = df.columns.tolist()\n",
        "\n",
        "# Reacomodando dataframe\n",
        "df = pd.melt(df, id_vars=['FECHA', 'HORA'], value_vars=cols[3:], var_name='station', value_name='measurement')\n",
        "\n",
        "# df = df[~df['measurement'].isna()] otra forma de eliminar nan's\n",
        "df = df.dropna(axis=0, how='any').reset_index(drop=True)\n",
        "\n",
        "print(\"No. de columnas que contienen valores nulos \")\n",
        "print(len(df.columns[df.isna().any()]))\n",
        "\n",
        "print(\"No. de columnas que no contienen valores nulos\")\n",
        "print(len(df.columns[df.notna().all()]))\n",
        "\n",
        "print(\"No total de columnas en el dataframe\")\n",
        "print(len(df.columns))\n",
        "df.head()"
      ],
      "execution_count": 3,
      "outputs": [
        {
          "output_type": "stream",
          "name": "stdout",
          "text": [
            "No. de columnas que contienen valores nulos \n0\nNo. de columnas que no contienen valores nulos\n4\nNo total de columnas en el dataframe\n4\n"
          ]
        },
        {
          "output_type": "execute_result",
          "data": {
            "text/plain": [
              "       FECHA  HORA station  measurement\n",
              "0 2019-01-01     1     ACO        201.0\n",
              "1 2019-01-01     2     ACO        218.0\n",
              "2 2019-01-01     3     ACO        240.0\n",
              "3 2019-01-01     4     ACO        231.0\n",
              "4 2019-01-01     5     ACO        216.0"
            ],
            "text/html": "<div>\n<style scoped>\n    .dataframe tbody tr th:only-of-type {\n        vertical-align: middle;\n    }\n\n    .dataframe tbody tr th {\n        vertical-align: top;\n    }\n\n    .dataframe thead th {\n        text-align: right;\n    }\n</style>\n<table border=\"1\" class=\"dataframe\">\n  <thead>\n    <tr style=\"text-align: right;\">\n      <th></th>\n      <th>FECHA</th>\n      <th>HORA</th>\n      <th>station</th>\n      <th>measurement</th>\n    </tr>\n  </thead>\n  <tbody>\n    <tr>\n      <th>0</th>\n      <td>2019-01-01</td>\n      <td>1</td>\n      <td>ACO</td>\n      <td>201.0</td>\n    </tr>\n    <tr>\n      <th>1</th>\n      <td>2019-01-01</td>\n      <td>2</td>\n      <td>ACO</td>\n      <td>218.0</td>\n    </tr>\n    <tr>\n      <th>2</th>\n      <td>2019-01-01</td>\n      <td>3</td>\n      <td>ACO</td>\n      <td>240.0</td>\n    </tr>\n    <tr>\n      <th>3</th>\n      <td>2019-01-01</td>\n      <td>4</td>\n      <td>ACO</td>\n      <td>231.0</td>\n    </tr>\n    <tr>\n      <th>4</th>\n      <td>2019-01-01</td>\n      <td>5</td>\n      <td>ACO</td>\n      <td>216.0</td>\n    </tr>\n  </tbody>\n</table>\n</div>"
          },
          "metadata": {},
          "execution_count": 3
        }
      ]
    },
    {
      "cell_type": "markdown",
      "metadata": {
        "id": "7lwCdIm2TWnU"
      },
      "source": [
        "- Ordenando el dataframe segun la fecha y la estación"
      ]
    },
    {
      "cell_type": "code",
      "metadata": {
        "colab": {
          "base_uri": "https://localhost:8080/",
          "height": 206
        },
        "id": "kUQGe-1VGLNt",
        "outputId": "204c7f7d-9b5e-404d-ba44-dd8904eeb1e7"
      },
      "source": [
        "# ordenando el dataframe por fecha y nombre de estacion\n",
        "df = df.sort_values(['FECHA', 'station']).reset_index(drop=True)\n",
        "df.head()"
      ],
      "execution_count": 4,
      "outputs": [
        {
          "output_type": "execute_result",
          "data": {
            "text/plain": [
              "       FECHA  HORA station  measurement\n",
              "0 2019-01-01     1     ACO        201.0\n",
              "1 2019-01-01     2     ACO        218.0\n",
              "2 2019-01-01     3     ACO        240.0\n",
              "3 2019-01-01     4     ACO        231.0\n",
              "4 2019-01-01     5     ACO        216.0"
            ],
            "text/html": "<div>\n<style scoped>\n    .dataframe tbody tr th:only-of-type {\n        vertical-align: middle;\n    }\n\n    .dataframe tbody tr th {\n        vertical-align: top;\n    }\n\n    .dataframe thead th {\n        text-align: right;\n    }\n</style>\n<table border=\"1\" class=\"dataframe\">\n  <thead>\n    <tr style=\"text-align: right;\">\n      <th></th>\n      <th>FECHA</th>\n      <th>HORA</th>\n      <th>station</th>\n      <th>measurement</th>\n    </tr>\n  </thead>\n  <tbody>\n    <tr>\n      <th>0</th>\n      <td>2019-01-01</td>\n      <td>1</td>\n      <td>ACO</td>\n      <td>201.0</td>\n    </tr>\n    <tr>\n      <th>1</th>\n      <td>2019-01-01</td>\n      <td>2</td>\n      <td>ACO</td>\n      <td>218.0</td>\n    </tr>\n    <tr>\n      <th>2</th>\n      <td>2019-01-01</td>\n      <td>3</td>\n      <td>ACO</td>\n      <td>240.0</td>\n    </tr>\n    <tr>\n      <th>3</th>\n      <td>2019-01-01</td>\n      <td>4</td>\n      <td>ACO</td>\n      <td>231.0</td>\n    </tr>\n    <tr>\n      <th>4</th>\n      <td>2019-01-01</td>\n      <td>5</td>\n      <td>ACO</td>\n      <td>216.0</td>\n    </tr>\n  </tbody>\n</table>\n</div>"
          },
          "metadata": {},
          "execution_count": 4
        }
      ]
    },
    {
      "cell_type": "markdown",
      "metadata": {
        "id": "sDrgFG3eTuLs"
      },
      "source": [
        "### Calculando el promedio diario\n",
        "Para el cálculo del promedio diario de $PM_{10}$ se utilizó la metodología descrita en la `NOM-025-SSA1-2014`, siguiendo la siguiente ecuación:\n",
        "\n",
        "$$\\bar{x}= \\frac{1}{n} \\displaystyle\\sum_{i=1}^n x_i$$\n",
        "$\\bar{x}:$ promedio de 24 horas, \n",
        "\n",
        "$n:$ número de concentraciones horarias válidas\n",
        "\n",
        "$x_i:$ concentraciones horarias válidas\n",
        "\n",
        "- Camo datos extra obteniendo los valores minimos y maximos\n",
        "- Tambien contabilizando cuantas horas fueron utilizadas para dicho promedio, columna(`N`)"
      ]
    },
    {
      "cell_type": "code",
      "metadata": {
        "colab": {
          "base_uri": "https://localhost:8080/",
          "height": 206
        },
        "id": "SCmwxuNrGLNu",
        "outputId": "94753a02-f0f7-4342-bf1c-45e6fcb4b386"
      },
      "source": [
        "# Calculando promedio diario, contando numero de horas usadas, obteniendo el maximo y minimo\n",
        "df_PM1024h = df.groupby(['FECHA', 'station'], as_index=False).agg(\n",
        "            PromDiario=('measurement', lambda x: round(x.mean(),0)), \n",
        "            N=('HORA', 'count'),\n",
        "            Max = ('measurement', 'max'),\n",
        "            Min = ('measurement', 'min'))\n",
        "df_PM1024h.head()"
      ],
      "execution_count": 5,
      "outputs": [
        {
          "output_type": "execute_result",
          "data": {
            "text/plain": [
              "       FECHA station  PromDiario   N    Max   Min\n",
              "0 2019-01-01     ACO       106.0  24  240.0  39.0\n",
              "1 2019-01-01     AJM        36.0  24   91.0   7.0\n",
              "2 2019-01-01     ATI        70.0  22  128.0  38.0\n",
              "3 2019-01-01     BJU        84.0  24  143.0  21.0\n",
              "4 2019-01-01     CAM        91.0  23  204.0  35.0"
            ],
            "text/html": "<div>\n<style scoped>\n    .dataframe tbody tr th:only-of-type {\n        vertical-align: middle;\n    }\n\n    .dataframe tbody tr th {\n        vertical-align: top;\n    }\n\n    .dataframe thead th {\n        text-align: right;\n    }\n</style>\n<table border=\"1\" class=\"dataframe\">\n  <thead>\n    <tr style=\"text-align: right;\">\n      <th></th>\n      <th>FECHA</th>\n      <th>station</th>\n      <th>PromDiario</th>\n      <th>N</th>\n      <th>Max</th>\n      <th>Min</th>\n    </tr>\n  </thead>\n  <tbody>\n    <tr>\n      <th>0</th>\n      <td>2019-01-01</td>\n      <td>ACO</td>\n      <td>106.0</td>\n      <td>24</td>\n      <td>240.0</td>\n      <td>39.0</td>\n    </tr>\n    <tr>\n      <th>1</th>\n      <td>2019-01-01</td>\n      <td>AJM</td>\n      <td>36.0</td>\n      <td>24</td>\n      <td>91.0</td>\n      <td>7.0</td>\n    </tr>\n    <tr>\n      <th>2</th>\n      <td>2019-01-01</td>\n      <td>ATI</td>\n      <td>70.0</td>\n      <td>22</td>\n      <td>128.0</td>\n      <td>38.0</td>\n    </tr>\n    <tr>\n      <th>3</th>\n      <td>2019-01-01</td>\n      <td>BJU</td>\n      <td>84.0</td>\n      <td>24</td>\n      <td>143.0</td>\n      <td>21.0</td>\n    </tr>\n    <tr>\n      <th>4</th>\n      <td>2019-01-01</td>\n      <td>CAM</td>\n      <td>91.0</td>\n      <td>23</td>\n      <td>204.0</td>\n      <td>35.0</td>\n    </tr>\n  </tbody>\n</table>\n</div>"
          },
          "metadata": {},
          "execution_count": 5
        }
      ]
    },
    {
      "cell_type": "markdown",
      "metadata": {
        "id": "R4_9JSfyZkvh"
      },
      "source": [
        "### Calculando Índice de calidad del aire\n",
        "\n",
        "Donde:\n",
        "$$\\text{Índice}= (k \\times (C \\times BP_{Lo}))+I_{Lo}$$\n",
        "$$k= \\frac{I_{Hi}-I_{Lo}}{BP_{Hi}-BP_{Lo}}$$\n",
        " \n",
        "$\\text{Índice}:$ Valor del índice para el contaminante deseado.<br>\n",
        "$C:$ valor redondeado para la concentración del contaminante.<br>\n",
        "$k:$ constante de proporcionalidad estimada.<br>\n",
        "$BP_{Hi}:$ valor del punto de corte que es mayor o igual a la concentración a evaluar.<br>\n",
        "$BP_{Lo}:$ valor del punto de corte que es menor o igual a la concentración a evaluar.<br>\n",
        "$I_{Hi}:$ valor del índice que corresponde al valor de $BP_{Hi}$<br>\n",
        "$I_{Lo}:$ valor del índice que corresponde al valor de $BP_{Lo}$<br>\n"
      ]
    },
    {
      "cell_type": "code",
      "metadata": {
        "id": "73uW9n8CGLNz"
      },
      "source": [
        "def AQI(df):\n",
        "    CP = df['PromDiario']\n",
        "    i = 0\n",
        "\n",
        "    if 0 <= CP <= 40:\n",
        "        k = (50-0)/(40-0)\n",
        "        i = k * (CP - 0) + 0\n",
        "    if 41 <= CP <= 75:\n",
        "        k = (100-51)/(75-41)\n",
        "        i = k * (CP - 41) + 51\n",
        "    if 76 <= CP <= 214:\n",
        "        k = (150-101)/(214-76)\n",
        "        i = k * (CP - 76) + 101\n",
        "    if 215 <= CP <= 354:\n",
        "        k = (200-151)/(354-215)\n",
        "        i = k * (CP - 215) + 151\n",
        "    if 355 <= CP <= 424:\n",
        "        k = (300-201)/(242-355)\n",
        "        i = k * (CP - 355) + 201\n",
        "    if 425 <= CP <= 504:\n",
        "        k = (400-301)/(504-425)\n",
        "        i = k * (CP - 425) + 301\n",
        "    if 505 <= CP <= 604:\n",
        "        k = (500-401)/(604-505)\n",
        "        i = k * (CP - 505) + 401\n",
        "    \n",
        "    return round(i, 3)"
      ],
      "execution_count": 6,
      "outputs": []
    },
    {
      "cell_type": "code",
      "metadata": {
        "colab": {
          "base_uri": "https://localhost:8080/",
          "height": 206
        },
        "id": "w46PGdaQGLN0",
        "outputId": "85200666-fdd2-4b06-d0de-4d353230c8bd"
      },
      "source": [
        "df_PM1024h['indice'] = df_PM1024h.apply(AQI, axis=1)\n",
        "df_PM1024h.head()"
      ],
      "execution_count": 7,
      "outputs": [
        {
          "output_type": "execute_result",
          "data": {
            "text/plain": [
              "       FECHA station  PromDiario   N    Max   Min   indice\n",
              "0 2019-01-01     ACO       106.0  24  240.0  39.0  111.652\n",
              "1 2019-01-01     AJM        36.0  24   91.0   7.0   45.000\n",
              "2 2019-01-01     ATI        70.0  22  128.0  38.0   92.794\n",
              "3 2019-01-01     BJU        84.0  24  143.0  21.0  103.841\n",
              "4 2019-01-01     CAM        91.0  23  204.0  35.0  106.326"
            ],
            "text/html": "<div>\n<style scoped>\n    .dataframe tbody tr th:only-of-type {\n        vertical-align: middle;\n    }\n\n    .dataframe tbody tr th {\n        vertical-align: top;\n    }\n\n    .dataframe thead th {\n        text-align: right;\n    }\n</style>\n<table border=\"1\" class=\"dataframe\">\n  <thead>\n    <tr style=\"text-align: right;\">\n      <th></th>\n      <th>FECHA</th>\n      <th>station</th>\n      <th>PromDiario</th>\n      <th>N</th>\n      <th>Max</th>\n      <th>Min</th>\n      <th>indice</th>\n    </tr>\n  </thead>\n  <tbody>\n    <tr>\n      <th>0</th>\n      <td>2019-01-01</td>\n      <td>ACO</td>\n      <td>106.0</td>\n      <td>24</td>\n      <td>240.0</td>\n      <td>39.0</td>\n      <td>111.652</td>\n    </tr>\n    <tr>\n      <th>1</th>\n      <td>2019-01-01</td>\n      <td>AJM</td>\n      <td>36.0</td>\n      <td>24</td>\n      <td>91.0</td>\n      <td>7.0</td>\n      <td>45.000</td>\n    </tr>\n    <tr>\n      <th>2</th>\n      <td>2019-01-01</td>\n      <td>ATI</td>\n      <td>70.0</td>\n      <td>22</td>\n      <td>128.0</td>\n      <td>38.0</td>\n      <td>92.794</td>\n    </tr>\n    <tr>\n      <th>3</th>\n      <td>2019-01-01</td>\n      <td>BJU</td>\n      <td>84.0</td>\n      <td>24</td>\n      <td>143.0</td>\n      <td>21.0</td>\n      <td>103.841</td>\n    </tr>\n    <tr>\n      <th>4</th>\n      <td>2019-01-01</td>\n      <td>CAM</td>\n      <td>91.0</td>\n      <td>23</td>\n      <td>204.0</td>\n      <td>35.0</td>\n      <td>106.326</td>\n    </tr>\n  </tbody>\n</table>\n</div>"
          },
          "metadata": {},
          "execution_count": 7
        }
      ]
    },
    {
      "cell_type": "markdown",
      "metadata": {
        "id": "uCcqXkdXaW4R"
      },
      "source": [
        "- Dejando los datos que utilicen mas de 17 horas para calcular el promedio diario\r\n",
        "- Eliminando la columna `N`"
      ]
    },
    {
      "cell_type": "code",
      "metadata": {
        "colab": {
          "base_uri": "https://localhost:8080/",
          "height": 206
        },
        "id": "J3607_TVGLN1",
        "outputId": "2e20bbc0-b99c-4066-fd13-6f9fa81ce27f"
      },
      "source": [
        "df_PM1024h = df_PM1024h.query('N > 17')\n",
        "df_PM1024h = df_PM1024h.drop(columns=['N'])\n",
        "df_PM1024h.head()"
      ],
      "execution_count": 8,
      "outputs": [
        {
          "output_type": "execute_result",
          "data": {
            "text/plain": [
              "       FECHA station  PromDiario    Max   Min   indice\n",
              "0 2019-01-01     ACO       106.0  240.0  39.0  111.652\n",
              "1 2019-01-01     AJM        36.0   91.0   7.0   45.000\n",
              "2 2019-01-01     ATI        70.0  128.0  38.0   92.794\n",
              "3 2019-01-01     BJU        84.0  143.0  21.0  103.841\n",
              "4 2019-01-01     CAM        91.0  204.0  35.0  106.326"
            ],
            "text/html": "<div>\n<style scoped>\n    .dataframe tbody tr th:only-of-type {\n        vertical-align: middle;\n    }\n\n    .dataframe tbody tr th {\n        vertical-align: top;\n    }\n\n    .dataframe thead th {\n        text-align: right;\n    }\n</style>\n<table border=\"1\" class=\"dataframe\">\n  <thead>\n    <tr style=\"text-align: right;\">\n      <th></th>\n      <th>FECHA</th>\n      <th>station</th>\n      <th>PromDiario</th>\n      <th>Max</th>\n      <th>Min</th>\n      <th>indice</th>\n    </tr>\n  </thead>\n  <tbody>\n    <tr>\n      <th>0</th>\n      <td>2019-01-01</td>\n      <td>ACO</td>\n      <td>106.0</td>\n      <td>240.0</td>\n      <td>39.0</td>\n      <td>111.652</td>\n    </tr>\n    <tr>\n      <th>1</th>\n      <td>2019-01-01</td>\n      <td>AJM</td>\n      <td>36.0</td>\n      <td>91.0</td>\n      <td>7.0</td>\n      <td>45.000</td>\n    </tr>\n    <tr>\n      <th>2</th>\n      <td>2019-01-01</td>\n      <td>ATI</td>\n      <td>70.0</td>\n      <td>128.0</td>\n      <td>38.0</td>\n      <td>92.794</td>\n    </tr>\n    <tr>\n      <th>3</th>\n      <td>2019-01-01</td>\n      <td>BJU</td>\n      <td>84.0</td>\n      <td>143.0</td>\n      <td>21.0</td>\n      <td>103.841</td>\n    </tr>\n    <tr>\n      <th>4</th>\n      <td>2019-01-01</td>\n      <td>CAM</td>\n      <td>91.0</td>\n      <td>204.0</td>\n      <td>35.0</td>\n      <td>106.326</td>\n    </tr>\n  </tbody>\n</table>\n</div>"
          },
          "metadata": {},
          "execution_count": 8
        }
      ]
    },
    {
      "cell_type": "markdown",
      "metadata": {
        "id": "Ore-lPW3bDBU"
      },
      "source": [
        "- Cargando dataset de las estaciones con su correspondiente zona"
      ]
    },
    {
      "cell_type": "code",
      "metadata": {
        "colab": {
          "base_uri": "https://localhost:8080/",
          "height": 206
        },
        "id": "FQT9pvl3GLN2",
        "outputId": "8fe2dbcb-71a0-47cb-be3d-2f414a62d78a"
      },
      "source": [
        "# Cargando dataset de zonas\n",
        "df_zonas = pd.read_csv('../Datasets/cat_estacion_depurado.csv')\n",
        "\n",
        "# Eliminando columna 'Unnamed: 0'\n",
        "df_zonas = df_zonas.drop(columns=['Unnamed: 0'])\n",
        "# Remplazando los - por NaN\n",
        "df_zonas = df_zonas.replace('-', np.nan)\n",
        "# Eliminando lo NaN's\n",
        "df_zonas = df_zonas.dropna(axis=0, how='any').reset_index(drop=True)\n",
        "# Renombrando la columna\n",
        "df_zonas = df_zonas.rename(columns={'cve_estac': 'station'})\n",
        "df_zonas.head()"
      ],
      "execution_count": 9,
      "outputs": [
        {
          "output_type": "execute_result",
          "data": {
            "text/plain": [
              "  station      nom_estac Zona\n",
              "0     ACO        Acolman   NE\n",
              "1     AJU         Ajusco   SO\n",
              "2     AJM   Ajusco Medio   SO\n",
              "3     ATI       Atizapan   NO\n",
              "4     BJU  Benito Ju�rez   CE"
            ],
            "text/html": "<div>\n<style scoped>\n    .dataframe tbody tr th:only-of-type {\n        vertical-align: middle;\n    }\n\n    .dataframe tbody tr th {\n        vertical-align: top;\n    }\n\n    .dataframe thead th {\n        text-align: right;\n    }\n</style>\n<table border=\"1\" class=\"dataframe\">\n  <thead>\n    <tr style=\"text-align: right;\">\n      <th></th>\n      <th>station</th>\n      <th>nom_estac</th>\n      <th>Zona</th>\n    </tr>\n  </thead>\n  <tbody>\n    <tr>\n      <th>0</th>\n      <td>ACO</td>\n      <td>Acolman</td>\n      <td>NE</td>\n    </tr>\n    <tr>\n      <th>1</th>\n      <td>AJU</td>\n      <td>Ajusco</td>\n      <td>SO</td>\n    </tr>\n    <tr>\n      <th>2</th>\n      <td>AJM</td>\n      <td>Ajusco Medio</td>\n      <td>SO</td>\n    </tr>\n    <tr>\n      <th>3</th>\n      <td>ATI</td>\n      <td>Atizapan</td>\n      <td>NO</td>\n    </tr>\n    <tr>\n      <th>4</th>\n      <td>BJU</td>\n      <td>Benito Ju�rez</td>\n      <td>CE</td>\n    </tr>\n  </tbody>\n</table>\n</div>"
          },
          "metadata": {},
          "execution_count": 9
        }
      ]
    },
    {
      "cell_type": "markdown",
      "metadata": {
        "id": "QyfI-NTLbrU4"
      },
      "source": [
        "- Uniendo los datos con las zonas a cuales les corresponde"
      ]
    },
    {
      "cell_type": "code",
      "metadata": {
        "colab": {
          "base_uri": "https://localhost:8080/",
          "height": 206
        },
        "id": "rH2Bf9hvGLN3",
        "outputId": "f17df5ed-6dcf-4351-bb5e-4395098cf8d2"
      },
      "source": [
        "df_PM1024h = df_PM1024h.merge(df_zonas[['station', 'Zona']], on='station')\n",
        "df_PM1024h.head()"
      ],
      "execution_count": 10,
      "outputs": [
        {
          "output_type": "execute_result",
          "data": {
            "text/plain": [
              "       FECHA station  PromDiario    Max   Min   indice Zona\n",
              "0 2019-01-01     ACO       106.0  240.0  39.0  111.652   NE\n",
              "1 2019-01-02     ACO        73.0  158.0  41.0   97.118   NE\n",
              "2 2019-01-03     ACO        60.0   88.0  24.0   78.382   NE\n",
              "3 2019-01-04     ACO        70.0  110.0  42.0   92.794   NE\n",
              "4 2019-01-05     ACO        30.0   59.0  17.0   37.500   NE"
            ],
            "text/html": "<div>\n<style scoped>\n    .dataframe tbody tr th:only-of-type {\n        vertical-align: middle;\n    }\n\n    .dataframe tbody tr th {\n        vertical-align: top;\n    }\n\n    .dataframe thead th {\n        text-align: right;\n    }\n</style>\n<table border=\"1\" class=\"dataframe\">\n  <thead>\n    <tr style=\"text-align: right;\">\n      <th></th>\n      <th>FECHA</th>\n      <th>station</th>\n      <th>PromDiario</th>\n      <th>Max</th>\n      <th>Min</th>\n      <th>indice</th>\n      <th>Zona</th>\n    </tr>\n  </thead>\n  <tbody>\n    <tr>\n      <th>0</th>\n      <td>2019-01-01</td>\n      <td>ACO</td>\n      <td>106.0</td>\n      <td>240.0</td>\n      <td>39.0</td>\n      <td>111.652</td>\n      <td>NE</td>\n    </tr>\n    <tr>\n      <th>1</th>\n      <td>2019-01-02</td>\n      <td>ACO</td>\n      <td>73.0</td>\n      <td>158.0</td>\n      <td>41.0</td>\n      <td>97.118</td>\n      <td>NE</td>\n    </tr>\n    <tr>\n      <th>2</th>\n      <td>2019-01-03</td>\n      <td>ACO</td>\n      <td>60.0</td>\n      <td>88.0</td>\n      <td>24.0</td>\n      <td>78.382</td>\n      <td>NE</td>\n    </tr>\n    <tr>\n      <th>3</th>\n      <td>2019-01-04</td>\n      <td>ACO</td>\n      <td>70.0</td>\n      <td>110.0</td>\n      <td>42.0</td>\n      <td>92.794</td>\n      <td>NE</td>\n    </tr>\n    <tr>\n      <th>4</th>\n      <td>2019-01-05</td>\n      <td>ACO</td>\n      <td>30.0</td>\n      <td>59.0</td>\n      <td>17.0</td>\n      <td>37.500</td>\n      <td>NE</td>\n    </tr>\n  </tbody>\n</table>\n</div>"
          },
          "metadata": {},
          "execution_count": 10
        }
      ]
    },
    {
      "cell_type": "markdown",
      "metadata": {
        "id": "19VqOy_Nciet"
      },
      "source": [
        "- Separando la fecha por, año, mes y dia\r\n",
        "\r\n"
      ]
    },
    {
      "cell_type": "code",
      "metadata": {
        "colab": {
          "base_uri": "https://localhost:8080/",
          "height": 424
        },
        "id": "7ZYMkSwWGLN4",
        "outputId": "efc4437a-ae09-4e5e-d086-b92ff5475f16"
      },
      "source": [
        "# Creando dataframe temporal para separar la fecha en años, meses y dias\n",
        "dfdate = pd.DataFrame(columns = ['Year', 'Month', 'Day'])\n",
        "# Extrayendo años\n",
        "dfdate['Year'] = df_PM1024h['FECHA'].dt.year\n",
        "# Extrayendo meses\n",
        "dfdate['Month'] = df_PM1024h['FECHA'].dt.month\n",
        "# Extrayendo dias\n",
        "dfdate['Day'] = df_PM1024h['FECHA'].dt.day\n",
        "\n",
        "# Elimiando columna de fecha en el dataframe original\n",
        "df_PM1024h = df_PM1024h.drop(columns=['FECHA'])\n",
        "\n",
        "# concatenacion del dataframe temporal que contiene la fecha separadas\n",
        "data_PM1024h = pd.concat([dfdate.reset_index(drop=True), df_PM1024h.reset_index(drop=True)], axis=1)\n",
        "data_PM1024h.head()"
      ],
      "execution_count": 11,
      "outputs": [
        {
          "output_type": "execute_result",
          "data": {
            "text/plain": [
              "   Year  Month  Day station  PromDiario    Max   Min   indice Zona\n",
              "0  2019      1    1     ACO       106.0  240.0  39.0  111.652   NE\n",
              "1  2019      1    2     ACO        73.0  158.0  41.0   97.118   NE\n",
              "2  2019      1    3     ACO        60.0   88.0  24.0   78.382   NE\n",
              "3  2019      1    4     ACO        70.0  110.0  42.0   92.794   NE\n",
              "4  2019      1    5     ACO        30.0   59.0  17.0   37.500   NE"
            ],
            "text/html": "<div>\n<style scoped>\n    .dataframe tbody tr th:only-of-type {\n        vertical-align: middle;\n    }\n\n    .dataframe tbody tr th {\n        vertical-align: top;\n    }\n\n    .dataframe thead th {\n        text-align: right;\n    }\n</style>\n<table border=\"1\" class=\"dataframe\">\n  <thead>\n    <tr style=\"text-align: right;\">\n      <th></th>\n      <th>Year</th>\n      <th>Month</th>\n      <th>Day</th>\n      <th>station</th>\n      <th>PromDiario</th>\n      <th>Max</th>\n      <th>Min</th>\n      <th>indice</th>\n      <th>Zona</th>\n    </tr>\n  </thead>\n  <tbody>\n    <tr>\n      <th>0</th>\n      <td>2019</td>\n      <td>1</td>\n      <td>1</td>\n      <td>ACO</td>\n      <td>106.0</td>\n      <td>240.0</td>\n      <td>39.0</td>\n      <td>111.652</td>\n      <td>NE</td>\n    </tr>\n    <tr>\n      <th>1</th>\n      <td>2019</td>\n      <td>1</td>\n      <td>2</td>\n      <td>ACO</td>\n      <td>73.0</td>\n      <td>158.0</td>\n      <td>41.0</td>\n      <td>97.118</td>\n      <td>NE</td>\n    </tr>\n    <tr>\n      <th>2</th>\n      <td>2019</td>\n      <td>1</td>\n      <td>3</td>\n      <td>ACO</td>\n      <td>60.0</td>\n      <td>88.0</td>\n      <td>24.0</td>\n      <td>78.382</td>\n      <td>NE</td>\n    </tr>\n    <tr>\n      <th>3</th>\n      <td>2019</td>\n      <td>1</td>\n      <td>4</td>\n      <td>ACO</td>\n      <td>70.0</td>\n      <td>110.0</td>\n      <td>42.0</td>\n      <td>92.794</td>\n      <td>NE</td>\n    </tr>\n    <tr>\n      <th>4</th>\n      <td>2019</td>\n      <td>1</td>\n      <td>5</td>\n      <td>ACO</td>\n      <td>30.0</td>\n      <td>59.0</td>\n      <td>17.0</td>\n      <td>37.500</td>\n      <td>NE</td>\n    </tr>\n  </tbody>\n</table>\n</div>"
          },
          "metadata": {},
          "execution_count": 11
        }
      ]
    },
    {
      "cell_type": "markdown",
      "metadata": {
        "id": "HeK1wQeTdLWC"
      },
      "source": [
        "- Guardando dataframe en un csv"
      ]
    },
    {
      "cell_type": "code",
      "metadata": {
        "id": "2KKKFFuvc3vi"
      },
      "source": [
        "data_PM1024h.to_csv('../Datasets/PM10/PDEstacion_PM10.csv', index=False)"
      ],
      "execution_count": 12,
      "outputs": []
    },
    {
      "cell_type": "markdown",
      "metadata": {
        "id": "89_fduy9eTBt"
      },
      "source": [
        "### Calculo de promedio mensual"
      ]
    },
    {
      "cell_type": "code",
      "metadata": {
        "colab": {
          "base_uri": "https://localhost:8080/",
          "height": 206
        },
        "id": "oYYlss5VGLOJ",
        "outputId": "f857d3eb-4538-4d50-e6dc-1899d54dc4d0"
      },
      "source": [
        "zona_ave = data_PM1024h.groupby(['Year','Month','Zona'], as_index=False).agg(\n",
        "                                                                PromMensual=('PromDiario', lambda x: round(x.mean(),1)))\n",
        "zona_ave.head()"
      ],
      "execution_count": 13,
      "outputs": [
        {
          "output_type": "execute_result",
          "data": {
            "text/plain": [
              "   Year  Month Zona  PromMensual\n",
              "0  2019      1   CE         44.3\n",
              "1  2019      1   NE         63.8\n",
              "2  2019      1   NO         48.8\n",
              "3  2019      1   SE         47.4\n",
              "4  2019      1   SO         30.0"
            ],
            "text/html": "<div>\n<style scoped>\n    .dataframe tbody tr th:only-of-type {\n        vertical-align: middle;\n    }\n\n    .dataframe tbody tr th {\n        vertical-align: top;\n    }\n\n    .dataframe thead th {\n        text-align: right;\n    }\n</style>\n<table border=\"1\" class=\"dataframe\">\n  <thead>\n    <tr style=\"text-align: right;\">\n      <th></th>\n      <th>Year</th>\n      <th>Month</th>\n      <th>Zona</th>\n      <th>PromMensual</th>\n    </tr>\n  </thead>\n  <tbody>\n    <tr>\n      <th>0</th>\n      <td>2019</td>\n      <td>1</td>\n      <td>CE</td>\n      <td>44.3</td>\n    </tr>\n    <tr>\n      <th>1</th>\n      <td>2019</td>\n      <td>1</td>\n      <td>NE</td>\n      <td>63.8</td>\n    </tr>\n    <tr>\n      <th>2</th>\n      <td>2019</td>\n      <td>1</td>\n      <td>NO</td>\n      <td>48.8</td>\n    </tr>\n    <tr>\n      <th>3</th>\n      <td>2019</td>\n      <td>1</td>\n      <td>SE</td>\n      <td>47.4</td>\n    </tr>\n    <tr>\n      <th>4</th>\n      <td>2019</td>\n      <td>1</td>\n      <td>SO</td>\n      <td>30.0</td>\n    </tr>\n  </tbody>\n</table>\n</div>"
          },
          "metadata": {},
          "execution_count": 13
        }
      ]
    },
    {
      "cell_type": "markdown",
      "metadata": {
        "id": "kse8FIreo0Nl"
      },
      "source": [
        "- Reordenando el dataframe en donde cada zona tenga una columa con sus valores correspondientes"
      ]
    },
    {
      "cell_type": "code",
      "metadata": {
        "colab": {
          "base_uri": "https://localhost:8080/",
          "height": 206
        },
        "id": "PoV3VLNjGLOK",
        "outputId": "ca405b46-6da9-4c65-cd06-ea2805917a30"
      },
      "source": [
        "\n",
        "zona_ave = pd.pivot_table(zona_ave, index=[zona_ave.Year, zona_ave.Month], columns='Zona', values='PromMensual').reset_index()\n",
        "\n",
        "zona_ave.Year = zona_ave.Year.astype(int)\n",
        "\n",
        "zona_ave.head()"
      ],
      "execution_count": 14,
      "outputs": [
        {
          "output_type": "execute_result",
          "data": {
            "text/plain": [
              "Zona  Year  Month    CE    NE    NO    SE    SO\n",
              "0     2019      1  44.3  63.8  48.8  47.4  30.0\n",
              "1     2019      2  40.8  57.4  46.3  45.4  27.8\n",
              "2     2019      3  44.6  58.3  51.1  49.1  35.3\n",
              "3     2019      4  52.7  65.0  59.5  61.6  45.2\n",
              "4     2019      5  51.3  64.2  58.0  58.7  44.0"
            ],
            "text/html": "<div>\n<style scoped>\n    .dataframe tbody tr th:only-of-type {\n        vertical-align: middle;\n    }\n\n    .dataframe tbody tr th {\n        vertical-align: top;\n    }\n\n    .dataframe thead th {\n        text-align: right;\n    }\n</style>\n<table border=\"1\" class=\"dataframe\">\n  <thead>\n    <tr style=\"text-align: right;\">\n      <th>Zona</th>\n      <th>Year</th>\n      <th>Month</th>\n      <th>CE</th>\n      <th>NE</th>\n      <th>NO</th>\n      <th>SE</th>\n      <th>SO</th>\n    </tr>\n  </thead>\n  <tbody>\n    <tr>\n      <th>0</th>\n      <td>2019</td>\n      <td>1</td>\n      <td>44.3</td>\n      <td>63.8</td>\n      <td>48.8</td>\n      <td>47.4</td>\n      <td>30.0</td>\n    </tr>\n    <tr>\n      <th>1</th>\n      <td>2019</td>\n      <td>2</td>\n      <td>40.8</td>\n      <td>57.4</td>\n      <td>46.3</td>\n      <td>45.4</td>\n      <td>27.8</td>\n    </tr>\n    <tr>\n      <th>2</th>\n      <td>2019</td>\n      <td>3</td>\n      <td>44.6</td>\n      <td>58.3</td>\n      <td>51.1</td>\n      <td>49.1</td>\n      <td>35.3</td>\n    </tr>\n    <tr>\n      <th>3</th>\n      <td>2019</td>\n      <td>4</td>\n      <td>52.7</td>\n      <td>65.0</td>\n      <td>59.5</td>\n      <td>61.6</td>\n      <td>45.2</td>\n    </tr>\n    <tr>\n      <th>4</th>\n      <td>2019</td>\n      <td>5</td>\n      <td>51.3</td>\n      <td>64.2</td>\n      <td>58.0</td>\n      <td>58.7</td>\n      <td>44.0</td>\n    </tr>\n  </tbody>\n</table>\n</div>"
          },
          "metadata": {},
          "execution_count": 14
        }
      ]
    },
    {
      "cell_type": "markdown",
      "metadata": {
        "id": "1DIjS9Fio_eL"
      },
      "source": [
        "- Guardando resultados en un csv"
      ]
    },
    {
      "cell_type": "code",
      "metadata": {
        "id": "MzL9xXWtGLOL"
      },
      "source": [
        "zona_ave.to_csv('../Datasets/PM10/PMZona_PM10.csv', index=False)"
      ],
      "execution_count": 15,
      "outputs": []
    }
  ]
}