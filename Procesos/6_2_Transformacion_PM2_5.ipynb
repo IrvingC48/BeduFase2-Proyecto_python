{
  "nbformat": 4,
  "nbformat_minor": 0,
  "metadata": {
    "colab": {
      "name": "6.2_Transformacion_PM2.5.ipynb",
      "provenance": []
    },
    "kernelspec": {
      "name": "python3",
      "display_name": "Python 3",
      "language": "python"
    }
  },
  "cells": [
    {
      "cell_type": "markdown",
      "metadata": {
        "id": "QNFa2NCHk-pq"
      },
      "source": [
        "# Promedio Diario `PM2.5`\r\n",
        "\r\n",
        "Para nuestra transformación de datos, utilizaremos las siguientes librerias:\r\n"
      ]
    },
    {
      "cell_type": "code",
      "metadata": {
        "id": "l87p-m-xkFkE"
      },
      "source": [
        "import pandas as pd\n",
        "import numpy as np"
      ],
      "execution_count": 1,
      "outputs": []
    },
    {
      "cell_type": "markdown",
      "metadata": {
        "id": "CIg80lodlijH"
      },
      "source": [
        "- Cargando dataset a un DataFrame de pandas\r\n",
        "- Posteriormente normalizando la columna `Fecha` a tipo `datetime`"
      ]
    },
    {
      "cell_type": "code",
      "metadata": {
        "colab": {
          "base_uri": "https://localhost:8080/",
          "height": 206
        },
        "id": "71xK0YhikFkG",
        "outputId": "e73c03d1-d3e8-4a75-898c-009efda75ad7"
      },
      "source": [
        "#Cargando archivos\n",
        "df = pd.read_csv('../Datasets/PM2.5/PM25_depurado.csv')\n",
        "\n",
        "# Normalizando fechas\n",
        "df['FECHA'] = pd.to_datetime(df['FECHA'], unit='ns')\n",
        "df.head()"
      ],
      "execution_count": 2,
      "outputs": [
        {
          "output_type": "execute_result",
          "data": {
            "text/plain": [
              "   Unnamed: 0      FECHA  HORA   AJM   AJU    BJU    CAM   CCA  FAR  GAM  ...  \\\n",
              "0           0 2019-01-01     1  19.0  35.0   62.0   90.0  66.0  NaN  NaN  ...   \n",
              "1           1 2019-01-01     2  17.0  24.0   88.0  104.0  84.0  NaN  NaN  ...   \n",
              "2           2 2019-01-01     3  14.0  20.0  107.0  140.0  95.0  NaN  NaN  ...   \n",
              "3           3 2019-01-01     4   6.0  15.0  101.0  162.0  97.0  NaN  NaN  ...   \n",
              "4           4 2019-01-01     5   4.0   8.0  121.0  133.0  88.0  NaN  NaN  ...   \n",
              "\n",
              "     MON    NEZ  PED  SAC    SAG   SFE   TLA    UAX    UIZ    XAL  \n",
              "0  102.0  133.0  NaN  NaN   92.0  33.0  55.0   74.0   99.0   96.0  \n",
              "1  108.0  164.0  NaN  NaN  100.0  40.0  52.0  115.0   99.0  164.0  \n",
              "2  125.0  206.0  NaN  NaN  104.0  52.0  59.0  150.0  109.0  249.0  \n",
              "3   92.0  273.0  NaN  NaN  144.0  25.0  58.0  180.0  112.0  200.0  \n",
              "4   84.0  291.0  NaN  NaN  171.0  21.0  46.0  167.0  164.0  161.0  \n",
              "\n",
              "[5 rows x 23 columns]"
            ],
            "text/html": "<div>\n<style scoped>\n    .dataframe tbody tr th:only-of-type {\n        vertical-align: middle;\n    }\n\n    .dataframe tbody tr th {\n        vertical-align: top;\n    }\n\n    .dataframe thead th {\n        text-align: right;\n    }\n</style>\n<table border=\"1\" class=\"dataframe\">\n  <thead>\n    <tr style=\"text-align: right;\">\n      <th></th>\n      <th>Unnamed: 0</th>\n      <th>FECHA</th>\n      <th>HORA</th>\n      <th>AJM</th>\n      <th>AJU</th>\n      <th>BJU</th>\n      <th>CAM</th>\n      <th>CCA</th>\n      <th>FAR</th>\n      <th>GAM</th>\n      <th>...</th>\n      <th>MON</th>\n      <th>NEZ</th>\n      <th>PED</th>\n      <th>SAC</th>\n      <th>SAG</th>\n      <th>SFE</th>\n      <th>TLA</th>\n      <th>UAX</th>\n      <th>UIZ</th>\n      <th>XAL</th>\n    </tr>\n  </thead>\n  <tbody>\n    <tr>\n      <th>0</th>\n      <td>0</td>\n      <td>2019-01-01</td>\n      <td>1</td>\n      <td>19.0</td>\n      <td>35.0</td>\n      <td>62.0</td>\n      <td>90.0</td>\n      <td>66.0</td>\n      <td>NaN</td>\n      <td>NaN</td>\n      <td>...</td>\n      <td>102.0</td>\n      <td>133.0</td>\n      <td>NaN</td>\n      <td>NaN</td>\n      <td>92.0</td>\n      <td>33.0</td>\n      <td>55.0</td>\n      <td>74.0</td>\n      <td>99.0</td>\n      <td>96.0</td>\n    </tr>\n    <tr>\n      <th>1</th>\n      <td>1</td>\n      <td>2019-01-01</td>\n      <td>2</td>\n      <td>17.0</td>\n      <td>24.0</td>\n      <td>88.0</td>\n      <td>104.0</td>\n      <td>84.0</td>\n      <td>NaN</td>\n      <td>NaN</td>\n      <td>...</td>\n      <td>108.0</td>\n      <td>164.0</td>\n      <td>NaN</td>\n      <td>NaN</td>\n      <td>100.0</td>\n      <td>40.0</td>\n      <td>52.0</td>\n      <td>115.0</td>\n      <td>99.0</td>\n      <td>164.0</td>\n    </tr>\n    <tr>\n      <th>2</th>\n      <td>2</td>\n      <td>2019-01-01</td>\n      <td>3</td>\n      <td>14.0</td>\n      <td>20.0</td>\n      <td>107.0</td>\n      <td>140.0</td>\n      <td>95.0</td>\n      <td>NaN</td>\n      <td>NaN</td>\n      <td>...</td>\n      <td>125.0</td>\n      <td>206.0</td>\n      <td>NaN</td>\n      <td>NaN</td>\n      <td>104.0</td>\n      <td>52.0</td>\n      <td>59.0</td>\n      <td>150.0</td>\n      <td>109.0</td>\n      <td>249.0</td>\n    </tr>\n    <tr>\n      <th>3</th>\n      <td>3</td>\n      <td>2019-01-01</td>\n      <td>4</td>\n      <td>6.0</td>\n      <td>15.0</td>\n      <td>101.0</td>\n      <td>162.0</td>\n      <td>97.0</td>\n      <td>NaN</td>\n      <td>NaN</td>\n      <td>...</td>\n      <td>92.0</td>\n      <td>273.0</td>\n      <td>NaN</td>\n      <td>NaN</td>\n      <td>144.0</td>\n      <td>25.0</td>\n      <td>58.0</td>\n      <td>180.0</td>\n      <td>112.0</td>\n      <td>200.0</td>\n    </tr>\n    <tr>\n      <th>4</th>\n      <td>4</td>\n      <td>2019-01-01</td>\n      <td>5</td>\n      <td>4.0</td>\n      <td>8.0</td>\n      <td>121.0</td>\n      <td>133.0</td>\n      <td>88.0</td>\n      <td>NaN</td>\n      <td>NaN</td>\n      <td>...</td>\n      <td>84.0</td>\n      <td>291.0</td>\n      <td>NaN</td>\n      <td>NaN</td>\n      <td>171.0</td>\n      <td>21.0</td>\n      <td>46.0</td>\n      <td>167.0</td>\n      <td>164.0</td>\n      <td>161.0</td>\n    </tr>\n  </tbody>\n</table>\n<p>5 rows × 23 columns</p>\n</div>"
          },
          "metadata": {},
          "execution_count": 2
        }
      ]
    },
    {
      "cell_type": "markdown",
      "metadata": {
        "id": "HbciN4YvnU2Y"
      },
      "source": [
        "- Reacomodo del DataFrame , donde ahora tendremos una columna para las estaciones y sus correspondientes datos de medición\r\n",
        "- Eliminando los datos NaN\r\n",
        "- Comprobando que no queden datos NaN en el DataFrame"
      ]
    },
    {
      "cell_type": "code",
      "metadata": {
        "colab": {
          "base_uri": "https://localhost:8080/",
          "height": 321
        },
        "id": "XRTJlvbHkFkI",
        "outputId": "95171a9c-0cfe-4afb-b767-a9e3eef40778"
      },
      "source": [
        "# Extraer nombre de columnas\n",
        "cols = df.columns.tolist()\n",
        "\n",
        "# Reacomodando dataframe\n",
        "df = pd.melt(df, id_vars=['FECHA', 'HORA'], value_vars=cols[3:], var_name='station', value_name='measurement')\n",
        "\n",
        "# df = df[~df['measurement'].isna()]\n",
        "df = df.dropna(axis=0, how='any').reset_index(drop=True)\n",
        "\n",
        "print(\"No. de columnas que contienen valores nulos \")\n",
        "print(len(df.columns[df.isna().any()]))\n",
        "\n",
        "print(\"No. de columnas que no contienen valores nulos\")\n",
        "print(len(df.columns[df.notna().all()]))\n",
        "\n",
        "print(\"No total de columnas en el dataframe\")\n",
        "print(len(df.columns))\n",
        "df.head()"
      ],
      "execution_count": 3,
      "outputs": [
        {
          "output_type": "stream",
          "name": "stdout",
          "text": [
            "No. de columnas que contienen valores nulos \n0\nNo. de columnas que no contienen valores nulos\n4\nNo total de columnas en el dataframe\n4\n"
          ]
        },
        {
          "output_type": "execute_result",
          "data": {
            "text/plain": [
              "       FECHA  HORA station  measurement\n",
              "0 2019-01-01     1     AJM         19.0\n",
              "1 2019-01-01     2     AJM         17.0\n",
              "2 2019-01-01     3     AJM         14.0\n",
              "3 2019-01-01     4     AJM          6.0\n",
              "4 2019-01-01     5     AJM          4.0"
            ],
            "text/html": "<div>\n<style scoped>\n    .dataframe tbody tr th:only-of-type {\n        vertical-align: middle;\n    }\n\n    .dataframe tbody tr th {\n        vertical-align: top;\n    }\n\n    .dataframe thead th {\n        text-align: right;\n    }\n</style>\n<table border=\"1\" class=\"dataframe\">\n  <thead>\n    <tr style=\"text-align: right;\">\n      <th></th>\n      <th>FECHA</th>\n      <th>HORA</th>\n      <th>station</th>\n      <th>measurement</th>\n    </tr>\n  </thead>\n  <tbody>\n    <tr>\n      <th>0</th>\n      <td>2019-01-01</td>\n      <td>1</td>\n      <td>AJM</td>\n      <td>19.0</td>\n    </tr>\n    <tr>\n      <th>1</th>\n      <td>2019-01-01</td>\n      <td>2</td>\n      <td>AJM</td>\n      <td>17.0</td>\n    </tr>\n    <tr>\n      <th>2</th>\n      <td>2019-01-01</td>\n      <td>3</td>\n      <td>AJM</td>\n      <td>14.0</td>\n    </tr>\n    <tr>\n      <th>3</th>\n      <td>2019-01-01</td>\n      <td>4</td>\n      <td>AJM</td>\n      <td>6.0</td>\n    </tr>\n    <tr>\n      <th>4</th>\n      <td>2019-01-01</td>\n      <td>5</td>\n      <td>AJM</td>\n      <td>4.0</td>\n    </tr>\n  </tbody>\n</table>\n</div>"
          },
          "metadata": {},
          "execution_count": 3
        }
      ]
    },
    {
      "cell_type": "markdown",
      "metadata": {
        "id": "KVw07qjronwJ"
      },
      "source": [
        "- Ordenando el dataframe segun la fecha y la estación"
      ]
    },
    {
      "cell_type": "code",
      "metadata": {
        "colab": {
          "base_uri": "https://localhost:8080/",
          "height": 206
        },
        "id": "EBvIP-4ckFkJ",
        "outputId": "15564dd0-c796-4ebe-fbff-81c4d4dc26a2"
      },
      "source": [
        "df = df.sort_values(['FECHA', 'station']).reset_index(drop=True)\n",
        "df.head()"
      ],
      "execution_count": 4,
      "outputs": [
        {
          "output_type": "execute_result",
          "data": {
            "text/plain": [
              "       FECHA  HORA station  measurement\n",
              "0 2019-01-01     1     AJM         19.0\n",
              "1 2019-01-01     2     AJM         17.0\n",
              "2 2019-01-01     3     AJM         14.0\n",
              "3 2019-01-01     4     AJM          6.0\n",
              "4 2019-01-01     5     AJM          4.0"
            ],
            "text/html": "<div>\n<style scoped>\n    .dataframe tbody tr th:only-of-type {\n        vertical-align: middle;\n    }\n\n    .dataframe tbody tr th {\n        vertical-align: top;\n    }\n\n    .dataframe thead th {\n        text-align: right;\n    }\n</style>\n<table border=\"1\" class=\"dataframe\">\n  <thead>\n    <tr style=\"text-align: right;\">\n      <th></th>\n      <th>FECHA</th>\n      <th>HORA</th>\n      <th>station</th>\n      <th>measurement</th>\n    </tr>\n  </thead>\n  <tbody>\n    <tr>\n      <th>0</th>\n      <td>2019-01-01</td>\n      <td>1</td>\n      <td>AJM</td>\n      <td>19.0</td>\n    </tr>\n    <tr>\n      <th>1</th>\n      <td>2019-01-01</td>\n      <td>2</td>\n      <td>AJM</td>\n      <td>17.0</td>\n    </tr>\n    <tr>\n      <th>2</th>\n      <td>2019-01-01</td>\n      <td>3</td>\n      <td>AJM</td>\n      <td>14.0</td>\n    </tr>\n    <tr>\n      <th>3</th>\n      <td>2019-01-01</td>\n      <td>4</td>\n      <td>AJM</td>\n      <td>6.0</td>\n    </tr>\n    <tr>\n      <th>4</th>\n      <td>2019-01-01</td>\n      <td>5</td>\n      <td>AJM</td>\n      <td>4.0</td>\n    </tr>\n  </tbody>\n</table>\n</div>"
          },
          "metadata": {},
          "execution_count": 4
        }
      ]
    },
    {
      "cell_type": "markdown",
      "metadata": {
        "id": "SQ5x65IopRo2"
      },
      "source": [
        "### Calculando el promedio diario\r\n",
        "Para el cálculo del promedio diario de PM10 y PM2.5 se utilizó la metodología descrita en la NOM-025-SSA1-2014, siguiendo la siguiente ecuación:\r\n",
        "\r\n",
        "$$\\bar{x}= \\frac{1}{n} \\displaystyle\\sum_{i=1}^n x_i$$\r\n",
        "$\\bar{x}:$ promedio de 24 horas, \r\n",
        "\r\n",
        "$n:$ número de concentraciones horarias válidas\r\n",
        "\r\n",
        "$x_i:$ concentraciones horarias válidas\r\n",
        "\r\n",
        "- Camo datos extra obteniendo los valores minimos y maximos\r\n",
        "- Tambien contabilizando cuantas horas fueron utilizadas para dicho promedio, columna(`N`)"
      ]
    },
    {
      "cell_type": "code",
      "metadata": {
        "colab": {
          "base_uri": "https://localhost:8080/",
          "height": 206
        },
        "id": "S9WEgTBEkFkK",
        "outputId": "6a2e883a-05b3-4e43-ce4c-81a313d0cd43"
      },
      "source": [
        "# Calculando promedio diario, contando numero de horas usadas, obteniendo el maximo y minimo\n",
        "df_PM2524h = df.groupby(['FECHA', 'station'], as_index=False).agg(PromDiario=('measurement', lambda x: round(x.mean(),0)), \n",
        "                                                                    N=('HORA', 'count'),\n",
        "                                                                    Max = ('measurement', 'max'),\n",
        "                                                                    Min = ('measurement', 'min'))\n",
        "df_PM2524h.head()"
      ],
      "execution_count": 5,
      "outputs": [
        {
          "output_type": "execute_result",
          "data": {
            "text/plain": [
              "       FECHA station  PromDiario   N    Max   Min\n",
              "0 2019-01-01     AJM        25.0  24   76.0   4.0\n",
              "1 2019-01-01     AJU        15.0  22   35.0   3.0\n",
              "2 2019-01-01     BJU        66.0  24  121.0   8.0\n",
              "3 2019-01-01     CAM        68.0  23  162.0  13.0\n",
              "4 2019-01-01     CCA        49.0  24   97.0  13.0"
            ],
            "text/html": "<div>\n<style scoped>\n    .dataframe tbody tr th:only-of-type {\n        vertical-align: middle;\n    }\n\n    .dataframe tbody tr th {\n        vertical-align: top;\n    }\n\n    .dataframe thead th {\n        text-align: right;\n    }\n</style>\n<table border=\"1\" class=\"dataframe\">\n  <thead>\n    <tr style=\"text-align: right;\">\n      <th></th>\n      <th>FECHA</th>\n      <th>station</th>\n      <th>PromDiario</th>\n      <th>N</th>\n      <th>Max</th>\n      <th>Min</th>\n    </tr>\n  </thead>\n  <tbody>\n    <tr>\n      <th>0</th>\n      <td>2019-01-01</td>\n      <td>AJM</td>\n      <td>25.0</td>\n      <td>24</td>\n      <td>76.0</td>\n      <td>4.0</td>\n    </tr>\n    <tr>\n      <th>1</th>\n      <td>2019-01-01</td>\n      <td>AJU</td>\n      <td>15.0</td>\n      <td>22</td>\n      <td>35.0</td>\n      <td>3.0</td>\n    </tr>\n    <tr>\n      <th>2</th>\n      <td>2019-01-01</td>\n      <td>BJU</td>\n      <td>66.0</td>\n      <td>24</td>\n      <td>121.0</td>\n      <td>8.0</td>\n    </tr>\n    <tr>\n      <th>3</th>\n      <td>2019-01-01</td>\n      <td>CAM</td>\n      <td>68.0</td>\n      <td>23</td>\n      <td>162.0</td>\n      <td>13.0</td>\n    </tr>\n    <tr>\n      <th>4</th>\n      <td>2019-01-01</td>\n      <td>CCA</td>\n      <td>49.0</td>\n      <td>24</td>\n      <td>97.0</td>\n      <td>13.0</td>\n    </tr>\n  </tbody>\n</table>\n</div>"
          },
          "metadata": {},
          "execution_count": 5
        }
      ]
    },
    {
      "cell_type": "markdown",
      "metadata": {
        "id": "5SjYTDj8qhL3"
      },
      "source": [
        "### Calculando Índice de calidad del aire\n",
        "\n",
        "Donde:\n",
        "$$\\text{Índice}= (k \\times (C \\times BP_{Lo}))+I_{Lo}$$\n",
        "\n",
        "$$k= \\frac{I_{Hi}-I_{Lo}}{BP_{Hi}-BP_{Lo}}$$\n",
        "\n",
        " \n",
        "$\\text{Índice}:$ Valor del índice para el contaminante deseado.<br>\n",
        "$C:$ valor redondeado para la concentración del contaminante.<br>\n",
        "$k:$ constante de proporcionalidad estimada.<br>\n",
        "$BP_{Hi}:$ valor del punto de corte que es mayor o igual a la concentración a evaluar.<br>\n",
        "$BP_{Lo}:$ valor del punto de corte que es menor o igual a la concentración a evaluar.<br>\n",
        "$I_{Hi}:$ valor del índice que corresponde al valor de $BP_{Hi}$<br>\n",
        "$I_{Lo}:$ valor del índice que corresponde al valor de $BP_{Lo}$<br>"
      ]
    },
    {
      "cell_type": "code",
      "metadata": {
        "id": "f7H-UcN3kFkM"
      },
      "source": [
        "def AQI(df):\n",
        "    CP = df['PromDiario']\n",
        "    i = 0\n",
        "\n",
        "    if 0.0 <= CP <= 12.0:\n",
        "        k = (50-0)/(12-0)\n",
        "        i = k * (CP - 0) + 0\n",
        "    if 12.1 <= CP <= 45.0:\n",
        "        k = (100-51)/(45-12.1)\n",
        "        i = k * (CP - 12.1) + 51\n",
        "    if 45.1 <= CP <= 97.4:\n",
        "        k = (150-101)/(97.4-45.1)\n",
        "        i = k * (CP - 45.1) + 101\n",
        "    if 97.5 <= CP <= 150.4:\n",
        "        k = (200-151)/(150.4-97.5)\n",
        "        i = k * (CP - 97.5) + 151\n",
        "    if 150.5 <= CP <= 250.4:\n",
        "        k = (300-201)/(250.4-150.5)\n",
        "        i = k * (CP - 150.5) + 201\n",
        "    if 250.5 <= CP <= 350.4:\n",
        "        k = (400-301)/(350.4-250.5)\n",
        "        i = k * (CP - 250.5) + 301\n",
        "    if 350.5 <= CP <= 500.4:\n",
        "        k = (500-401)/(500.4-350.5)\n",
        "        i = k * (CP - 350.5) + 401\n",
        "\n",
        "    return round(i, 3)"
      ],
      "execution_count": 6,
      "outputs": []
    },
    {
      "cell_type": "code",
      "metadata": {
        "colab": {
          "base_uri": "https://localhost:8080/",
          "height": 206
        },
        "id": "4BA8FdWOkFkN",
        "outputId": "a4379167-74d9-4ccf-ba96-7e94d79a8848"
      },
      "source": [
        "df_PM2524h['indice'] = df_PM2524h.apply(AQI, axis=1)\n",
        "df_PM2524h.head()"
      ],
      "execution_count": 7,
      "outputs": [
        {
          "output_type": "execute_result",
          "data": {
            "text/plain": [
              "       FECHA station  PromDiario   N    Max   Min   indice\n",
              "0 2019-01-01     AJM        25.0  24   76.0   4.0   70.213\n",
              "1 2019-01-01     AJU        15.0  22   35.0   3.0   55.319\n",
              "2 2019-01-01     BJU        66.0  24  121.0   8.0  120.581\n",
              "3 2019-01-01     CAM        68.0  23  162.0  13.0  122.455\n",
              "4 2019-01-01     CCA        49.0  24   97.0  13.0  104.654"
            ],
            "text/html": "<div>\n<style scoped>\n    .dataframe tbody tr th:only-of-type {\n        vertical-align: middle;\n    }\n\n    .dataframe tbody tr th {\n        vertical-align: top;\n    }\n\n    .dataframe thead th {\n        text-align: right;\n    }\n</style>\n<table border=\"1\" class=\"dataframe\">\n  <thead>\n    <tr style=\"text-align: right;\">\n      <th></th>\n      <th>FECHA</th>\n      <th>station</th>\n      <th>PromDiario</th>\n      <th>N</th>\n      <th>Max</th>\n      <th>Min</th>\n      <th>indice</th>\n    </tr>\n  </thead>\n  <tbody>\n    <tr>\n      <th>0</th>\n      <td>2019-01-01</td>\n      <td>AJM</td>\n      <td>25.0</td>\n      <td>24</td>\n      <td>76.0</td>\n      <td>4.0</td>\n      <td>70.213</td>\n    </tr>\n    <tr>\n      <th>1</th>\n      <td>2019-01-01</td>\n      <td>AJU</td>\n      <td>15.0</td>\n      <td>22</td>\n      <td>35.0</td>\n      <td>3.0</td>\n      <td>55.319</td>\n    </tr>\n    <tr>\n      <th>2</th>\n      <td>2019-01-01</td>\n      <td>BJU</td>\n      <td>66.0</td>\n      <td>24</td>\n      <td>121.0</td>\n      <td>8.0</td>\n      <td>120.581</td>\n    </tr>\n    <tr>\n      <th>3</th>\n      <td>2019-01-01</td>\n      <td>CAM</td>\n      <td>68.0</td>\n      <td>23</td>\n      <td>162.0</td>\n      <td>13.0</td>\n      <td>122.455</td>\n    </tr>\n    <tr>\n      <th>4</th>\n      <td>2019-01-01</td>\n      <td>CCA</td>\n      <td>49.0</td>\n      <td>24</td>\n      <td>97.0</td>\n      <td>13.0</td>\n      <td>104.654</td>\n    </tr>\n  </tbody>\n</table>\n</div>"
          },
          "metadata": {},
          "execution_count": 7
        }
      ]
    },
    {
      "cell_type": "markdown",
      "metadata": {
        "id": "TYwo35WtrhYm"
      },
      "source": [
        "- Dejando los datos que utilicen mas de 17 horas para calcular el promedio diario\r\n",
        "- Eliminando la columna N"
      ]
    },
    {
      "cell_type": "code",
      "metadata": {
        "colab": {
          "base_uri": "https://localhost:8080/",
          "height": 206
        },
        "id": "oLguIjYgkFkP",
        "outputId": "3450a3a5-cbb7-421d-f9af-bcf17ed4022c"
      },
      "source": [
        "df_PM2524h = df_PM2524h.query('N > 17')\n",
        "df_PM2524h = df_PM2524h.drop(columns=['N'])\n",
        "df_PM2524h.head()"
      ],
      "execution_count": 8,
      "outputs": [
        {
          "output_type": "execute_result",
          "data": {
            "text/plain": [
              "       FECHA station  PromDiario    Max   Min   indice\n",
              "0 2019-01-01     AJM        25.0   76.0   4.0   70.213\n",
              "1 2019-01-01     AJU        15.0   35.0   3.0   55.319\n",
              "2 2019-01-01     BJU        66.0  121.0   8.0  120.581\n",
              "3 2019-01-01     CAM        68.0  162.0  13.0  122.455\n",
              "4 2019-01-01     CCA        49.0   97.0  13.0  104.654"
            ],
            "text/html": "<div>\n<style scoped>\n    .dataframe tbody tr th:only-of-type {\n        vertical-align: middle;\n    }\n\n    .dataframe tbody tr th {\n        vertical-align: top;\n    }\n\n    .dataframe thead th {\n        text-align: right;\n    }\n</style>\n<table border=\"1\" class=\"dataframe\">\n  <thead>\n    <tr style=\"text-align: right;\">\n      <th></th>\n      <th>FECHA</th>\n      <th>station</th>\n      <th>PromDiario</th>\n      <th>Max</th>\n      <th>Min</th>\n      <th>indice</th>\n    </tr>\n  </thead>\n  <tbody>\n    <tr>\n      <th>0</th>\n      <td>2019-01-01</td>\n      <td>AJM</td>\n      <td>25.0</td>\n      <td>76.0</td>\n      <td>4.0</td>\n      <td>70.213</td>\n    </tr>\n    <tr>\n      <th>1</th>\n      <td>2019-01-01</td>\n      <td>AJU</td>\n      <td>15.0</td>\n      <td>35.0</td>\n      <td>3.0</td>\n      <td>55.319</td>\n    </tr>\n    <tr>\n      <th>2</th>\n      <td>2019-01-01</td>\n      <td>BJU</td>\n      <td>66.0</td>\n      <td>121.0</td>\n      <td>8.0</td>\n      <td>120.581</td>\n    </tr>\n    <tr>\n      <th>3</th>\n      <td>2019-01-01</td>\n      <td>CAM</td>\n      <td>68.0</td>\n      <td>162.0</td>\n      <td>13.0</td>\n      <td>122.455</td>\n    </tr>\n    <tr>\n      <th>4</th>\n      <td>2019-01-01</td>\n      <td>CCA</td>\n      <td>49.0</td>\n      <td>97.0</td>\n      <td>13.0</td>\n      <td>104.654</td>\n    </tr>\n  </tbody>\n</table>\n</div>"
          },
          "metadata": {},
          "execution_count": 8
        }
      ]
    },
    {
      "cell_type": "markdown",
      "metadata": {
        "id": "izyOHxE-r9u5"
      },
      "source": [
        "- Cargando dataset de las estaciones con su correspondiente zona"
      ]
    },
    {
      "cell_type": "code",
      "metadata": {
        "colab": {
          "base_uri": "https://localhost:8080/",
          "height": 206
        },
        "id": "bhVY2Ah_kFkQ",
        "outputId": "bfbf26f3-0fe8-4921-c385-c2775f7f847f"
      },
      "source": [
        "df_zonas = pd.read_csv('../Datasets/cat_estacion_depurado.csv')\n",
        "\n",
        "# Eliminando columna 'Unnamed: 0'\n",
        "df_zonas = df_zonas.drop(columns=['Unnamed: 0'])\n",
        "# Remplezando los - por NaN\n",
        "df_zonas = df_zonas.replace('-', np.nan)\n",
        "# Eliminando NaN's\n",
        "df_zonas = df_zonas.dropna(axis=0, how='any').reset_index(drop=True)\n",
        "# Cambiando de nombre la columna 'cve_estac'\n",
        "df_zonas = df_zonas.rename(columns={'cve_estac': 'station'})\n",
        "df_zonas.head()"
      ],
      "execution_count": 9,
      "outputs": [
        {
          "output_type": "execute_result",
          "data": {
            "text/plain": [
              "  station      nom_estac Zona\n",
              "0     ACO        Acolman   NE\n",
              "1     AJU         Ajusco   SO\n",
              "2     AJM   Ajusco Medio   SO\n",
              "3     ATI       Atizapan   NO\n",
              "4     BJU  Benito Ju�rez   CE"
            ],
            "text/html": "<div>\n<style scoped>\n    .dataframe tbody tr th:only-of-type {\n        vertical-align: middle;\n    }\n\n    .dataframe tbody tr th {\n        vertical-align: top;\n    }\n\n    .dataframe thead th {\n        text-align: right;\n    }\n</style>\n<table border=\"1\" class=\"dataframe\">\n  <thead>\n    <tr style=\"text-align: right;\">\n      <th></th>\n      <th>station</th>\n      <th>nom_estac</th>\n      <th>Zona</th>\n    </tr>\n  </thead>\n  <tbody>\n    <tr>\n      <th>0</th>\n      <td>ACO</td>\n      <td>Acolman</td>\n      <td>NE</td>\n    </tr>\n    <tr>\n      <th>1</th>\n      <td>AJU</td>\n      <td>Ajusco</td>\n      <td>SO</td>\n    </tr>\n    <tr>\n      <th>2</th>\n      <td>AJM</td>\n      <td>Ajusco Medio</td>\n      <td>SO</td>\n    </tr>\n    <tr>\n      <th>3</th>\n      <td>ATI</td>\n      <td>Atizapan</td>\n      <td>NO</td>\n    </tr>\n    <tr>\n      <th>4</th>\n      <td>BJU</td>\n      <td>Benito Ju�rez</td>\n      <td>CE</td>\n    </tr>\n  </tbody>\n</table>\n</div>"
          },
          "metadata": {},
          "execution_count": 9
        }
      ]
    },
    {
      "cell_type": "markdown",
      "metadata": {
        "id": "CobeI4cqsCzd"
      },
      "source": [
        "- Uniendo los datos con las zonas a cuales les corresponde"
      ]
    },
    {
      "cell_type": "code",
      "metadata": {
        "colab": {
          "base_uri": "https://localhost:8080/",
          "height": 206
        },
        "id": "ILslfLqOkFkR",
        "outputId": "7578e502-651d-44bc-c46e-df1513e11fa2"
      },
      "source": [
        "df_PM2524h = df_PM2524h.merge(df_zonas[['station', 'Zona']], on='station')\n",
        "df_PM2524h.head()"
      ],
      "execution_count": 10,
      "outputs": [
        {
          "output_type": "execute_result",
          "data": {
            "text/plain": [
              "       FECHA station  PromDiario   Max   Min  indice Zona\n",
              "0 2019-01-01     AJM        25.0  76.0   4.0  70.213   SO\n",
              "1 2019-01-02     AJM        14.0  33.0   3.0  53.830   SO\n",
              "2 2019-01-03     AJM        23.0  32.0   9.0  67.234   SO\n",
              "3 2019-01-04     AJM        22.0  31.0  14.0  65.745   SO\n",
              "4 2019-01-05     AJM        18.0  39.0   5.0  59.787   SO"
            ],
            "text/html": "<div>\n<style scoped>\n    .dataframe tbody tr th:only-of-type {\n        vertical-align: middle;\n    }\n\n    .dataframe tbody tr th {\n        vertical-align: top;\n    }\n\n    .dataframe thead th {\n        text-align: right;\n    }\n</style>\n<table border=\"1\" class=\"dataframe\">\n  <thead>\n    <tr style=\"text-align: right;\">\n      <th></th>\n      <th>FECHA</th>\n      <th>station</th>\n      <th>PromDiario</th>\n      <th>Max</th>\n      <th>Min</th>\n      <th>indice</th>\n      <th>Zona</th>\n    </tr>\n  </thead>\n  <tbody>\n    <tr>\n      <th>0</th>\n      <td>2019-01-01</td>\n      <td>AJM</td>\n      <td>25.0</td>\n      <td>76.0</td>\n      <td>4.0</td>\n      <td>70.213</td>\n      <td>SO</td>\n    </tr>\n    <tr>\n      <th>1</th>\n      <td>2019-01-02</td>\n      <td>AJM</td>\n      <td>14.0</td>\n      <td>33.0</td>\n      <td>3.0</td>\n      <td>53.830</td>\n      <td>SO</td>\n    </tr>\n    <tr>\n      <th>2</th>\n      <td>2019-01-03</td>\n      <td>AJM</td>\n      <td>23.0</td>\n      <td>32.0</td>\n      <td>9.0</td>\n      <td>67.234</td>\n      <td>SO</td>\n    </tr>\n    <tr>\n      <th>3</th>\n      <td>2019-01-04</td>\n      <td>AJM</td>\n      <td>22.0</td>\n      <td>31.0</td>\n      <td>14.0</td>\n      <td>65.745</td>\n      <td>SO</td>\n    </tr>\n    <tr>\n      <th>4</th>\n      <td>2019-01-05</td>\n      <td>AJM</td>\n      <td>18.0</td>\n      <td>39.0</td>\n      <td>5.0</td>\n      <td>59.787</td>\n      <td>SO</td>\n    </tr>\n  </tbody>\n</table>\n</div>"
          },
          "metadata": {},
          "execution_count": 10
        }
      ]
    },
    {
      "cell_type": "markdown",
      "metadata": {
        "id": "1Zk0qA4os36v"
      },
      "source": [
        "- Separando la fecha por, año, mes y dia"
      ]
    },
    {
      "cell_type": "code",
      "metadata": {
        "colab": {
          "base_uri": "https://localhost:8080/",
          "height": 206
        },
        "id": "Vjle0comkFkT",
        "outputId": "0f3bd07c-3efb-4382-c573-ccd0e6ce9c9a"
      },
      "source": [
        "# Creando dataframe temporal para separar la fecha en años, meses y dias\n",
        "dfdate = pd.DataFrame(columns = ['Year', 'Month', 'Day'])\n",
        "# Extrayendo años\n",
        "dfdate['Year'] = df_PM2524h['FECHA'].dt.year\n",
        "# Extrayendo meses\n",
        "dfdate['Month'] = df_PM2524h['FECHA'].dt.month\n",
        "# Extrayendo dias\n",
        "dfdate['Day'] = df_PM2524h['FECHA'].dt.day\n",
        "\n",
        "# Elimiando columna de fecha en el dataframe original\n",
        "df_PM2524h = df_PM2524h.drop(columns=['FECHA'])\n",
        "\n",
        "# concatenacion del dataframe temporal que contiene la fecha separadas\n",
        "data_PM2524h = pd.concat([dfdate.reset_index(drop=True), df_PM2524h.reset_index(drop=True)], axis=1)\n",
        "data_PM2524h.head()"
      ],
      "execution_count": 11,
      "outputs": [
        {
          "output_type": "execute_result",
          "data": {
            "text/plain": [
              "   Year  Month  Day station  PromDiario   Max   Min  indice Zona\n",
              "0  2019      1    1     AJM        25.0  76.0   4.0  70.213   SO\n",
              "1  2019      1    2     AJM        14.0  33.0   3.0  53.830   SO\n",
              "2  2019      1    3     AJM        23.0  32.0   9.0  67.234   SO\n",
              "3  2019      1    4     AJM        22.0  31.0  14.0  65.745   SO\n",
              "4  2019      1    5     AJM        18.0  39.0   5.0  59.787   SO"
            ],
            "text/html": "<div>\n<style scoped>\n    .dataframe tbody tr th:only-of-type {\n        vertical-align: middle;\n    }\n\n    .dataframe tbody tr th {\n        vertical-align: top;\n    }\n\n    .dataframe thead th {\n        text-align: right;\n    }\n</style>\n<table border=\"1\" class=\"dataframe\">\n  <thead>\n    <tr style=\"text-align: right;\">\n      <th></th>\n      <th>Year</th>\n      <th>Month</th>\n      <th>Day</th>\n      <th>station</th>\n      <th>PromDiario</th>\n      <th>Max</th>\n      <th>Min</th>\n      <th>indice</th>\n      <th>Zona</th>\n    </tr>\n  </thead>\n  <tbody>\n    <tr>\n      <th>0</th>\n      <td>2019</td>\n      <td>1</td>\n      <td>1</td>\n      <td>AJM</td>\n      <td>25.0</td>\n      <td>76.0</td>\n      <td>4.0</td>\n      <td>70.213</td>\n      <td>SO</td>\n    </tr>\n    <tr>\n      <th>1</th>\n      <td>2019</td>\n      <td>1</td>\n      <td>2</td>\n      <td>AJM</td>\n      <td>14.0</td>\n      <td>33.0</td>\n      <td>3.0</td>\n      <td>53.830</td>\n      <td>SO</td>\n    </tr>\n    <tr>\n      <th>2</th>\n      <td>2019</td>\n      <td>1</td>\n      <td>3</td>\n      <td>AJM</td>\n      <td>23.0</td>\n      <td>32.0</td>\n      <td>9.0</td>\n      <td>67.234</td>\n      <td>SO</td>\n    </tr>\n    <tr>\n      <th>3</th>\n      <td>2019</td>\n      <td>1</td>\n      <td>4</td>\n      <td>AJM</td>\n      <td>22.0</td>\n      <td>31.0</td>\n      <td>14.0</td>\n      <td>65.745</td>\n      <td>SO</td>\n    </tr>\n    <tr>\n      <th>4</th>\n      <td>2019</td>\n      <td>1</td>\n      <td>5</td>\n      <td>AJM</td>\n      <td>18.0</td>\n      <td>39.0</td>\n      <td>5.0</td>\n      <td>59.787</td>\n      <td>SO</td>\n    </tr>\n  </tbody>\n</table>\n</div>"
          },
          "metadata": {},
          "execution_count": 11
        }
      ]
    },
    {
      "cell_type": "markdown",
      "metadata": {
        "id": "el_Pt4qHyOpI"
      },
      "source": [
        "- Guardando dataframe en un csv"
      ]
    },
    {
      "cell_type": "code",
      "metadata": {
        "id": "ntcAKJ9auGy5"
      },
      "source": [
        "data_PM2524h.to_csv('../Datasets/PM2.5/PDEstacion_PM25.csv', index=False)"
      ],
      "execution_count": 12,
      "outputs": []
    },
    {
      "cell_type": "markdown",
      "metadata": {
        "id": "lBvJ6zbXyPta"
      },
      "source": [
        "### Calculo de promedio mensual"
      ]
    },
    {
      "cell_type": "code",
      "metadata": {
        "colab": {
          "base_uri": "https://localhost:8080/",
          "height": 206
        },
        "id": "pecW0AXUkFkT",
        "outputId": "cd14d85a-4f9e-45eb-83c3-24caafa089ed"
      },
      "source": [
        "zona_ave = data_PM2524h.groupby(['Year','Month','Zona'], as_index=False).agg(\n",
        "                                                                PromMensual=('PromDiario', lambda x: round(x.mean(),1)))\n",
        "zona_ave.head()"
      ],
      "execution_count": 13,
      "outputs": [
        {
          "output_type": "execute_result",
          "data": {
            "text/plain": [
              "   Year  Month Zona  PromMensual\n",
              "0  2019      1   CE         23.3\n",
              "1  2019      1   NE         25.4\n",
              "2  2019      1   NO         24.5\n",
              "3  2019      1   SE         23.3\n",
              "4  2019      1   SO         16.9"
            ],
            "text/html": "<div>\n<style scoped>\n    .dataframe tbody tr th:only-of-type {\n        vertical-align: middle;\n    }\n\n    .dataframe tbody tr th {\n        vertical-align: top;\n    }\n\n    .dataframe thead th {\n        text-align: right;\n    }\n</style>\n<table border=\"1\" class=\"dataframe\">\n  <thead>\n    <tr style=\"text-align: right;\">\n      <th></th>\n      <th>Year</th>\n      <th>Month</th>\n      <th>Zona</th>\n      <th>PromMensual</th>\n    </tr>\n  </thead>\n  <tbody>\n    <tr>\n      <th>0</th>\n      <td>2019</td>\n      <td>1</td>\n      <td>CE</td>\n      <td>23.3</td>\n    </tr>\n    <tr>\n      <th>1</th>\n      <td>2019</td>\n      <td>1</td>\n      <td>NE</td>\n      <td>25.4</td>\n    </tr>\n    <tr>\n      <th>2</th>\n      <td>2019</td>\n      <td>1</td>\n      <td>NO</td>\n      <td>24.5</td>\n    </tr>\n    <tr>\n      <th>3</th>\n      <td>2019</td>\n      <td>1</td>\n      <td>SE</td>\n      <td>23.3</td>\n    </tr>\n    <tr>\n      <th>4</th>\n      <td>2019</td>\n      <td>1</td>\n      <td>SO</td>\n      <td>16.9</td>\n    </tr>\n  </tbody>\n</table>\n</div>"
          },
          "metadata": {},
          "execution_count": 13
        }
      ]
    },
    {
      "cell_type": "markdown",
      "metadata": {
        "id": "p6F0aHhoygtB"
      },
      "source": [
        "- Reordenando el dataframe en donde cada zona tenga una columa con sus valores correspondientes"
      ]
    },
    {
      "cell_type": "code",
      "metadata": {
        "colab": {
          "base_uri": "https://localhost:8080/",
          "height": 206
        },
        "id": "xLY8etGTkFkU",
        "outputId": "a501fa96-cae3-4f43-8502-e599adbc39a4"
      },
      "source": [
        "zona_ave25 = pd.pivot_table(zona_ave, index=[zona_ave.Year, zona_ave.Month], columns='Zona', values='PromMensual').reset_index()\n",
        "\n",
        "zona_ave25.Year = zona_ave.Year.astype(int)\n",
        "\n",
        "# zona_ave.dtypes\n",
        "zona_ave25.head()"
      ],
      "execution_count": 14,
      "outputs": [
        {
          "output_type": "execute_result",
          "data": {
            "text/plain": [
              "Zona  Year  Month    CE    NE    NO    SE    SO\n",
              "0     2019      1  23.3  25.4  24.5  23.3  16.9\n",
              "1     2019      2  20.9  22.7  22.7  21.0  15.5\n",
              "2     2019      3  22.2  23.9  24.7  22.8  18.4\n",
              "3     2019      4  28.6  30.9  33.3  29.9  26.3\n",
              "4     2019      5  31.4  33.1  33.0  33.6  31.1"
            ],
            "text/html": "<div>\n<style scoped>\n    .dataframe tbody tr th:only-of-type {\n        vertical-align: middle;\n    }\n\n    .dataframe tbody tr th {\n        vertical-align: top;\n    }\n\n    .dataframe thead th {\n        text-align: right;\n    }\n</style>\n<table border=\"1\" class=\"dataframe\">\n  <thead>\n    <tr style=\"text-align: right;\">\n      <th>Zona</th>\n      <th>Year</th>\n      <th>Month</th>\n      <th>CE</th>\n      <th>NE</th>\n      <th>NO</th>\n      <th>SE</th>\n      <th>SO</th>\n    </tr>\n  </thead>\n  <tbody>\n    <tr>\n      <th>0</th>\n      <td>2019</td>\n      <td>1</td>\n      <td>23.3</td>\n      <td>25.4</td>\n      <td>24.5</td>\n      <td>23.3</td>\n      <td>16.9</td>\n    </tr>\n    <tr>\n      <th>1</th>\n      <td>2019</td>\n      <td>2</td>\n      <td>20.9</td>\n      <td>22.7</td>\n      <td>22.7</td>\n      <td>21.0</td>\n      <td>15.5</td>\n    </tr>\n    <tr>\n      <th>2</th>\n      <td>2019</td>\n      <td>3</td>\n      <td>22.2</td>\n      <td>23.9</td>\n      <td>24.7</td>\n      <td>22.8</td>\n      <td>18.4</td>\n    </tr>\n    <tr>\n      <th>3</th>\n      <td>2019</td>\n      <td>4</td>\n      <td>28.6</td>\n      <td>30.9</td>\n      <td>33.3</td>\n      <td>29.9</td>\n      <td>26.3</td>\n    </tr>\n    <tr>\n      <th>4</th>\n      <td>2019</td>\n      <td>5</td>\n      <td>31.4</td>\n      <td>33.1</td>\n      <td>33.0</td>\n      <td>33.6</td>\n      <td>31.1</td>\n    </tr>\n  </tbody>\n</table>\n</div>"
          },
          "metadata": {},
          "execution_count": 14
        }
      ]
    },
    {
      "cell_type": "markdown",
      "metadata": {
        "id": "rYlON5dyyiua"
      },
      "source": [
        "- Guardando resultados en un csv"
      ]
    },
    {
      "cell_type": "code",
      "metadata": {
        "id": "QLIY7kgJkFkV"
      },
      "source": [
        "zona_ave25.to_csv('../Datasets/PM2.5/PMZona_PM25.csv')"
      ],
      "execution_count": 15,
      "outputs": []
    }
  ]
}