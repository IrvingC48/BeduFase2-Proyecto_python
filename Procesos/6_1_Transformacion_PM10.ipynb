{
  "nbformat": 4,
  "nbformat_minor": 0,
  "metadata": {
    "colab": {
      "name": "6.1_Transformacion_PM10.ipynb",
      "provenance": [],
      "collapsed_sections": []
    },
    "kernelspec": {
      "name": "python3",
      "display_name": "Python 3.9.2 64-bit",
      "metadata": {
        "interpreter": {
          "hash": "d0851c8d918f9ad433d63dff71dbacbe17259539d55e689a7d9cbf48e3dba898"
        }
      }
    }
  },
  "cells": [
    {
      "cell_type": "markdown",
      "metadata": {
        "id": "MIIDm9DOGxxB"
      },
      "source": [
        "# Promedio Diario $PM_{10}$\n",
        "\n",
        "Para nuestra transformación de datos, utilizaremos las siguientes librerias:\n",
        "\n"
      ]
    },
    {
      "cell_type": "code",
      "metadata": {
        "id": "qgNSF59zGLNn"
      },
      "source": [
        "import pandas as pd\n",
        "import numpy as np"
      ],
      "execution_count": 1,
      "outputs": []
    },
    {
      "cell_type": "markdown",
      "metadata": {
        "id": "SKqhqjSBHqE4"
      },
      "source": [
        "- Cargando dataset a un DataFrame de pandas\r\n",
        "\r\n",
        "- Posteriormente normalizando la columna `Fecha` a tipo datetime"
      ]
    },
    {
      "cell_type": "code",
      "metadata": {
        "colab": {
          "base_uri": "https://localhost:8080/",
          "height": 195
        },
        "id": "ifgxDQhzGLNq",
        "outputId": "28b4707f-7df8-4f65-ec02-4d5e55048dfe"
      },
      "source": [
        "#Cargando archivos\n",
        "df = pd.read_csv('../Datasets/PM10/PM10_depurado.csv')\n",
        "\n",
        "# Normalizando fechas\n",
        "df['FECHA'] = pd.to_datetime(df['FECHA'], unit='ns')\n",
        "df.head()"
      ],
      "execution_count": 2,
      "outputs": [
        {
          "output_type": "execute_result",
          "data": {
            "text/plain": [
              "   Unnamed: 0      FECHA  HORA    ACO   AJM    ATI    BJU    CAM    CUA  \\\n",
              "0           0 2019-01-01     1  201.0  39.0  105.0   84.0  120.0  113.0   \n",
              "1           1 2019-01-01     2  218.0  27.0  128.0  115.0  135.0  158.0   \n",
              "2           2 2019-01-01     3  240.0  20.0   93.0  134.0  177.0  192.0   \n",
              "3           3 2019-01-01     4  231.0  10.0   86.0  124.0  204.0  143.0   \n",
              "4           4 2019-01-01     5  216.0   7.0   68.0  143.0  162.0  123.0   \n",
              "\n",
              "     CUT  ...    IZT    MER  PED    SAG   SFE    TAH   TLA    UIZ    VIF  \\\n",
              "0  149.0  ...  132.0  113.0  NaN  149.0  50.0  191.0  78.0  129.0  280.0   \n",
              "1  211.0  ...  202.0  141.0  NaN  149.0  54.0  225.0  73.0  125.0  257.0   \n",
              "2  214.0  ...  198.0  118.0  NaN  152.0  65.0  185.0  80.0  132.0  509.0   \n",
              "3  178.0  ...  192.0  154.0  NaN  217.0  33.0  172.0  84.0  136.0  611.0   \n",
              "4  234.0  ...  178.0  227.0  NaN  242.0  29.0   83.0  63.0  191.0  653.0   \n",
              "\n",
              "     XAL  \n",
              "0  155.0  \n",
              "1  236.0  \n",
              "2  337.0  \n",
              "3  271.0  \n",
              "4  226.0  \n",
              "\n",
              "[5 rows x 24 columns]"
            ],
            "text/html": "<div>\n<style scoped>\n    .dataframe tbody tr th:only-of-type {\n        vertical-align: middle;\n    }\n\n    .dataframe tbody tr th {\n        vertical-align: top;\n    }\n\n    .dataframe thead th {\n        text-align: right;\n    }\n</style>\n<table border=\"1\" class=\"dataframe\">\n  <thead>\n    <tr style=\"text-align: right;\">\n      <th></th>\n      <th>Unnamed: 0</th>\n      <th>FECHA</th>\n      <th>HORA</th>\n      <th>ACO</th>\n      <th>AJM</th>\n      <th>ATI</th>\n      <th>BJU</th>\n      <th>CAM</th>\n      <th>CUA</th>\n      <th>CUT</th>\n      <th>...</th>\n      <th>IZT</th>\n      <th>MER</th>\n      <th>PED</th>\n      <th>SAG</th>\n      <th>SFE</th>\n      <th>TAH</th>\n      <th>TLA</th>\n      <th>UIZ</th>\n      <th>VIF</th>\n      <th>XAL</th>\n    </tr>\n  </thead>\n  <tbody>\n    <tr>\n      <th>0</th>\n      <td>0</td>\n      <td>2019-01-01</td>\n      <td>1</td>\n      <td>201.0</td>\n      <td>39.0</td>\n      <td>105.0</td>\n      <td>84.0</td>\n      <td>120.0</td>\n      <td>113.0</td>\n      <td>149.0</td>\n      <td>...</td>\n      <td>132.0</td>\n      <td>113.0</td>\n      <td>NaN</td>\n      <td>149.0</td>\n      <td>50.0</td>\n      <td>191.0</td>\n      <td>78.0</td>\n      <td>129.0</td>\n      <td>280.0</td>\n      <td>155.0</td>\n    </tr>\n    <tr>\n      <th>1</th>\n      <td>1</td>\n      <td>2019-01-01</td>\n      <td>2</td>\n      <td>218.0</td>\n      <td>27.0</td>\n      <td>128.0</td>\n      <td>115.0</td>\n      <td>135.0</td>\n      <td>158.0</td>\n      <td>211.0</td>\n      <td>...</td>\n      <td>202.0</td>\n      <td>141.0</td>\n      <td>NaN</td>\n      <td>149.0</td>\n      <td>54.0</td>\n      <td>225.0</td>\n      <td>73.0</td>\n      <td>125.0</td>\n      <td>257.0</td>\n      <td>236.0</td>\n    </tr>\n    <tr>\n      <th>2</th>\n      <td>2</td>\n      <td>2019-01-01</td>\n      <td>3</td>\n      <td>240.0</td>\n      <td>20.0</td>\n      <td>93.0</td>\n      <td>134.0</td>\n      <td>177.0</td>\n      <td>192.0</td>\n      <td>214.0</td>\n      <td>...</td>\n      <td>198.0</td>\n      <td>118.0</td>\n      <td>NaN</td>\n      <td>152.0</td>\n      <td>65.0</td>\n      <td>185.0</td>\n      <td>80.0</td>\n      <td>132.0</td>\n      <td>509.0</td>\n      <td>337.0</td>\n    </tr>\n    <tr>\n      <th>3</th>\n      <td>3</td>\n      <td>2019-01-01</td>\n      <td>4</td>\n      <td>231.0</td>\n      <td>10.0</td>\n      <td>86.0</td>\n      <td>124.0</td>\n      <td>204.0</td>\n      <td>143.0</td>\n      <td>178.0</td>\n      <td>...</td>\n      <td>192.0</td>\n      <td>154.0</td>\n      <td>NaN</td>\n      <td>217.0</td>\n      <td>33.0</td>\n      <td>172.0</td>\n      <td>84.0</td>\n      <td>136.0</td>\n      <td>611.0</td>\n      <td>271.0</td>\n    </tr>\n    <tr>\n      <th>4</th>\n      <td>4</td>\n      <td>2019-01-01</td>\n      <td>5</td>\n      <td>216.0</td>\n      <td>7.0</td>\n      <td>68.0</td>\n      <td>143.0</td>\n      <td>162.0</td>\n      <td>123.0</td>\n      <td>234.0</td>\n      <td>...</td>\n      <td>178.0</td>\n      <td>227.0</td>\n      <td>NaN</td>\n      <td>242.0</td>\n      <td>29.0</td>\n      <td>83.0</td>\n      <td>63.0</td>\n      <td>191.0</td>\n      <td>653.0</td>\n      <td>226.0</td>\n    </tr>\n  </tbody>\n</table>\n<p>5 rows × 24 columns</p>\n</div>"
          },
          "metadata": {},
          "execution_count": 2
        }
      ]
    },
    {
      "cell_type": "markdown",
      "metadata": {
        "id": "uIMlytTq3FFa"
      },
      "source": [
        "Posteriormente, se filtran los datos por los meses de interés, que son marzo, abril y mayo. Primeramente se crea el rango de fechas de interés y luego éste se utiliza para filtrar el dataset"
      ]
    },
    {
      "cell_type": "code",
      "metadata": {
        "id": "gjozXCu-3D1t"
      },
      "source": [
        "date_rng = pd.date_range(start='2019/03/01', end='2019/05/31', freq='d')#Rango en 2019\r\n",
        "date_rng2= pd.date_range(start='2020/03/01', end='2020/05/31', freq='d') #Rango en 2020\r\n",
        "date_rng= date_rng.append(date_rng2) #unión de rangos"
      ],
      "execution_count": 3,
      "outputs": []
    },
    {
      "cell_type": "code",
      "metadata": {
        "colab": {
          "base_uri": "https://localhost:8080/",
          "height": 195
        },
        "id": "obXQ7IMR3h5F",
        "outputId": "7540e716-bdc6-4bd0-ff96-030c894bfbca"
      },
      "source": [
        "df=df[df[\"FECHA\"].isin(date_rng)]\r\n",
        "df.head()"
      ],
      "execution_count": 4,
      "outputs": [
        {
          "output_type": "execute_result",
          "data": {
            "text/plain": [
              "    Unnamed: 0      FECHA  HORA    ACO   AJM   ATI   BJU   CAM   CUA   CUT  \\\n",
              "48          48 2019-03-01     1  119.0  20.0  62.0  27.0  35.0  23.0  71.0   \n",
              "49          49 2019-03-01     2   90.0  34.0  48.0  29.0  27.0  20.0  53.0   \n",
              "50          50 2019-03-01     3   81.0  47.0  37.0  26.0  21.0  28.0  41.0   \n",
              "51          51 2019-03-01     4   65.0  44.0  39.0  39.0  58.0  38.0  39.0   \n",
              "52          52 2019-03-01     5   53.0  40.0  48.0  32.0  63.0  12.0  35.0   \n",
              "\n",
              "    ...   IZT   MER  PED    SAG   SFE   TAH   TLA   UIZ    VIF    XAL  \n",
              "48  ...  64.0  72.0  NaN  110.0  13.0  23.0  40.0  37.0  130.0   96.0  \n",
              "49  ...  46.0  80.0  NaN  133.0  22.0  25.0  51.0  47.0   87.0  114.0  \n",
              "50  ...  44.0  49.0  NaN  124.0  27.0  36.0  55.0  47.0   66.0  128.0  \n",
              "51  ...  51.0  38.0  NaN   70.0  38.0  17.0  25.0  47.0   56.0  118.0  \n",
              "52  ...  56.0  55.0  NaN   90.0  26.0  23.0  27.0  42.0  156.0  130.0  \n",
              "\n",
              "[5 rows x 24 columns]"
            ],
            "text/html": "<div>\n<style scoped>\n    .dataframe tbody tr th:only-of-type {\n        vertical-align: middle;\n    }\n\n    .dataframe tbody tr th {\n        vertical-align: top;\n    }\n\n    .dataframe thead th {\n        text-align: right;\n    }\n</style>\n<table border=\"1\" class=\"dataframe\">\n  <thead>\n    <tr style=\"text-align: right;\">\n      <th></th>\n      <th>Unnamed: 0</th>\n      <th>FECHA</th>\n      <th>HORA</th>\n      <th>ACO</th>\n      <th>AJM</th>\n      <th>ATI</th>\n      <th>BJU</th>\n      <th>CAM</th>\n      <th>CUA</th>\n      <th>CUT</th>\n      <th>...</th>\n      <th>IZT</th>\n      <th>MER</th>\n      <th>PED</th>\n      <th>SAG</th>\n      <th>SFE</th>\n      <th>TAH</th>\n      <th>TLA</th>\n      <th>UIZ</th>\n      <th>VIF</th>\n      <th>XAL</th>\n    </tr>\n  </thead>\n  <tbody>\n    <tr>\n      <th>48</th>\n      <td>48</td>\n      <td>2019-03-01</td>\n      <td>1</td>\n      <td>119.0</td>\n      <td>20.0</td>\n      <td>62.0</td>\n      <td>27.0</td>\n      <td>35.0</td>\n      <td>23.0</td>\n      <td>71.0</td>\n      <td>...</td>\n      <td>64.0</td>\n      <td>72.0</td>\n      <td>NaN</td>\n      <td>110.0</td>\n      <td>13.0</td>\n      <td>23.0</td>\n      <td>40.0</td>\n      <td>37.0</td>\n      <td>130.0</td>\n      <td>96.0</td>\n    </tr>\n    <tr>\n      <th>49</th>\n      <td>49</td>\n      <td>2019-03-01</td>\n      <td>2</td>\n      <td>90.0</td>\n      <td>34.0</td>\n      <td>48.0</td>\n      <td>29.0</td>\n      <td>27.0</td>\n      <td>20.0</td>\n      <td>53.0</td>\n      <td>...</td>\n      <td>46.0</td>\n      <td>80.0</td>\n      <td>NaN</td>\n      <td>133.0</td>\n      <td>22.0</td>\n      <td>25.0</td>\n      <td>51.0</td>\n      <td>47.0</td>\n      <td>87.0</td>\n      <td>114.0</td>\n    </tr>\n    <tr>\n      <th>50</th>\n      <td>50</td>\n      <td>2019-03-01</td>\n      <td>3</td>\n      <td>81.0</td>\n      <td>47.0</td>\n      <td>37.0</td>\n      <td>26.0</td>\n      <td>21.0</td>\n      <td>28.0</td>\n      <td>41.0</td>\n      <td>...</td>\n      <td>44.0</td>\n      <td>49.0</td>\n      <td>NaN</td>\n      <td>124.0</td>\n      <td>27.0</td>\n      <td>36.0</td>\n      <td>55.0</td>\n      <td>47.0</td>\n      <td>66.0</td>\n      <td>128.0</td>\n    </tr>\n    <tr>\n      <th>51</th>\n      <td>51</td>\n      <td>2019-03-01</td>\n      <td>4</td>\n      <td>65.0</td>\n      <td>44.0</td>\n      <td>39.0</td>\n      <td>39.0</td>\n      <td>58.0</td>\n      <td>38.0</td>\n      <td>39.0</td>\n      <td>...</td>\n      <td>51.0</td>\n      <td>38.0</td>\n      <td>NaN</td>\n      <td>70.0</td>\n      <td>38.0</td>\n      <td>17.0</td>\n      <td>25.0</td>\n      <td>47.0</td>\n      <td>56.0</td>\n      <td>118.0</td>\n    </tr>\n    <tr>\n      <th>52</th>\n      <td>52</td>\n      <td>2019-03-01</td>\n      <td>5</td>\n      <td>53.0</td>\n      <td>40.0</td>\n      <td>48.0</td>\n      <td>32.0</td>\n      <td>63.0</td>\n      <td>12.0</td>\n      <td>35.0</td>\n      <td>...</td>\n      <td>56.0</td>\n      <td>55.0</td>\n      <td>NaN</td>\n      <td>90.0</td>\n      <td>26.0</td>\n      <td>23.0</td>\n      <td>27.0</td>\n      <td>42.0</td>\n      <td>156.0</td>\n      <td>130.0</td>\n    </tr>\n  </tbody>\n</table>\n<p>5 rows × 24 columns</p>\n</div>"
          },
          "metadata": {},
          "execution_count": 4
        }
      ]
    },
    {
      "cell_type": "markdown",
      "metadata": {
        "id": "9STZgS3PJNsA"
      },
      "source": [
        "- Reacomodo del DataFrame , donde ahora tendremos una columna para las estaciones y sus correspondientes datos de medición\n",
        "- Eliminando los datos `NaN`\n",
        "- Comprobando que no queden datos `NaN` en el DataFrame"
      ]
    },
    {
      "cell_type": "code",
      "metadata": {
        "colab": {
          "base_uri": "https://localhost:8080/",
          "height": 296
        },
        "id": "SqbL90leGLNr",
        "outputId": "c722f2ce-0d4f-4106-ed87-f9eb0eee31a5"
      },
      "source": [
        "# Extraer nombre de columnas\n",
        "cols = df.columns.tolist()\n",
        "\n",
        "# Reacomodando dataframe\n",
        "df = pd.melt(df, id_vars=['FECHA', 'HORA'], value_vars=cols[3:], var_name='station', value_name='measurement')\n",
        "\n",
        "# df = df[~df['measurement'].isna()] otra forma de eliminar nan's\n",
        "df = df.dropna(axis=0, how='any').reset_index(drop=True)\n",
        "\n",
        "print(\"No. de columnas que contienen valores nulos \")\n",
        "print(len(df.columns[df.isna().any()]))\n",
        "\n",
        "print(\"No. de columnas que no contienen valores nulos\")\n",
        "print(len(df.columns[df.notna().all()]))\n",
        "\n",
        "print(\"No total de columnas en el dataframe\")\n",
        "print(len(df.columns))\n",
        "df.head()"
      ],
      "execution_count": 5,
      "outputs": [
        {
          "output_type": "stream",
          "name": "stdout",
          "text": [
            "No. de columnas que contienen valores nulos \n0\nNo. de columnas que no contienen valores nulos\n4\nNo total de columnas en el dataframe\n4\n"
          ]
        },
        {
          "output_type": "execute_result",
          "data": {
            "text/plain": [
              "       FECHA  HORA station  measurement\n",
              "0 2019-03-01     1     ACO        119.0\n",
              "1 2019-03-01     2     ACO         90.0\n",
              "2 2019-03-01     3     ACO         81.0\n",
              "3 2019-03-01     4     ACO         65.0\n",
              "4 2019-03-01     5     ACO         53.0"
            ],
            "text/html": "<div>\n<style scoped>\n    .dataframe tbody tr th:only-of-type {\n        vertical-align: middle;\n    }\n\n    .dataframe tbody tr th {\n        vertical-align: top;\n    }\n\n    .dataframe thead th {\n        text-align: right;\n    }\n</style>\n<table border=\"1\" class=\"dataframe\">\n  <thead>\n    <tr style=\"text-align: right;\">\n      <th></th>\n      <th>FECHA</th>\n      <th>HORA</th>\n      <th>station</th>\n      <th>measurement</th>\n    </tr>\n  </thead>\n  <tbody>\n    <tr>\n      <th>0</th>\n      <td>2019-03-01</td>\n      <td>1</td>\n      <td>ACO</td>\n      <td>119.0</td>\n    </tr>\n    <tr>\n      <th>1</th>\n      <td>2019-03-01</td>\n      <td>2</td>\n      <td>ACO</td>\n      <td>90.0</td>\n    </tr>\n    <tr>\n      <th>2</th>\n      <td>2019-03-01</td>\n      <td>3</td>\n      <td>ACO</td>\n      <td>81.0</td>\n    </tr>\n    <tr>\n      <th>3</th>\n      <td>2019-03-01</td>\n      <td>4</td>\n      <td>ACO</td>\n      <td>65.0</td>\n    </tr>\n    <tr>\n      <th>4</th>\n      <td>2019-03-01</td>\n      <td>5</td>\n      <td>ACO</td>\n      <td>53.0</td>\n    </tr>\n  </tbody>\n</table>\n</div>"
          },
          "metadata": {},
          "execution_count": 5
        }
      ]
    },
    {
      "cell_type": "markdown",
      "metadata": {
        "id": "7lwCdIm2TWnU"
      },
      "source": [
        "- Ordenando el dataframe segun la fecha y la estación"
      ]
    },
    {
      "cell_type": "code",
      "metadata": {
        "colab": {
          "base_uri": "https://localhost:8080/",
          "height": 402
        },
        "id": "kUQGe-1VGLNt",
        "outputId": "3cace7a9-ef6c-42c6-934d-d400d8989542"
      },
      "source": [
        "# ordenando el dataframe por fecha y nombre de estacion\n",
        "df = df.sort_values(['FECHA', 'station']).reset_index(drop=True)\n",
        "df"
      ],
      "execution_count": 6,
      "outputs": [
        {
          "output_type": "execute_result",
          "data": {
            "text/plain": [
              "           FECHA  HORA station  measurement\n",
              "0     2019-03-01     1     ACO        119.0\n",
              "1     2019-03-01     2     ACO         90.0\n",
              "2     2019-03-01     3     ACO         81.0\n",
              "3     2019-03-01     4     ACO         65.0\n",
              "4     2019-03-01     5     ACO         53.0\n",
              "...          ...   ...     ...          ...\n",
              "67375 2020-05-31    20     VIF         12.0\n",
              "67376 2020-05-31    21     VIF          5.0\n",
              "67377 2020-05-31    22     VIF         13.0\n",
              "67378 2020-05-31    23     VIF         21.0\n",
              "67379 2020-05-31    24     VIF          9.0\n",
              "\n",
              "[67380 rows x 4 columns]"
            ],
            "text/html": "<div>\n<style scoped>\n    .dataframe tbody tr th:only-of-type {\n        vertical-align: middle;\n    }\n\n    .dataframe tbody tr th {\n        vertical-align: top;\n    }\n\n    .dataframe thead th {\n        text-align: right;\n    }\n</style>\n<table border=\"1\" class=\"dataframe\">\n  <thead>\n    <tr style=\"text-align: right;\">\n      <th></th>\n      <th>FECHA</th>\n      <th>HORA</th>\n      <th>station</th>\n      <th>measurement</th>\n    </tr>\n  </thead>\n  <tbody>\n    <tr>\n      <th>0</th>\n      <td>2019-03-01</td>\n      <td>1</td>\n      <td>ACO</td>\n      <td>119.0</td>\n    </tr>\n    <tr>\n      <th>1</th>\n      <td>2019-03-01</td>\n      <td>2</td>\n      <td>ACO</td>\n      <td>90.0</td>\n    </tr>\n    <tr>\n      <th>2</th>\n      <td>2019-03-01</td>\n      <td>3</td>\n      <td>ACO</td>\n      <td>81.0</td>\n    </tr>\n    <tr>\n      <th>3</th>\n      <td>2019-03-01</td>\n      <td>4</td>\n      <td>ACO</td>\n      <td>65.0</td>\n    </tr>\n    <tr>\n      <th>4</th>\n      <td>2019-03-01</td>\n      <td>5</td>\n      <td>ACO</td>\n      <td>53.0</td>\n    </tr>\n    <tr>\n      <th>...</th>\n      <td>...</td>\n      <td>...</td>\n      <td>...</td>\n      <td>...</td>\n    </tr>\n    <tr>\n      <th>67375</th>\n      <td>2020-05-31</td>\n      <td>20</td>\n      <td>VIF</td>\n      <td>12.0</td>\n    </tr>\n    <tr>\n      <th>67376</th>\n      <td>2020-05-31</td>\n      <td>21</td>\n      <td>VIF</td>\n      <td>5.0</td>\n    </tr>\n    <tr>\n      <th>67377</th>\n      <td>2020-05-31</td>\n      <td>22</td>\n      <td>VIF</td>\n      <td>13.0</td>\n    </tr>\n    <tr>\n      <th>67378</th>\n      <td>2020-05-31</td>\n      <td>23</td>\n      <td>VIF</td>\n      <td>21.0</td>\n    </tr>\n    <tr>\n      <th>67379</th>\n      <td>2020-05-31</td>\n      <td>24</td>\n      <td>VIF</td>\n      <td>9.0</td>\n    </tr>\n  </tbody>\n</table>\n<p>67380 rows × 4 columns</p>\n</div>"
          },
          "metadata": {},
          "execution_count": 6
        }
      ]
    },
    {
      "cell_type": "markdown",
      "metadata": {
        "id": "_ywHB2TBQlvL"
      },
      "source": [
        "Ahora se busca eliminar, según el día y la estación, aquellas filas que tengan mediciones horarias menores a las requeridas por la normativa (18 mediciones). Por ejemplo, si la estación ACO en el 01 de enero de 2019 registró solamente 15 mediciones horarias, todas las mediciones de ese día para la estación ACO no será tomadas en cuenta para los posteriores análisis. "
      ]
    },
    {
      "cell_type": "markdown",
      "metadata": {
        "id": "3jz860hCR4ti"
      },
      "source": [
        "Primero se debe elaborar una función que devuelva el dataframe que contenga solamente los registros válidos"
      ]
    },
    {
      "cell_type": "code",
      "metadata": {
        "id": "lF536xCVR3yb"
      },
      "source": [
        "def dia_estacion_valido(dataframe):\r\n",
        "  #Contar las mediciones horarias por día y estación\r\n",
        "  filtro= dataframe.groupby(['FECHA', 'station'],as_index=False).agg(N_h=('HORA','count'))\r\n",
        "  #Filtrar aquellas que no cumplen normativa\r\n",
        "  filtro= filtro.query('N_h < 17')\r\n",
        "  #Conservar las columnas de fecha y estación\r\n",
        "  filtro=filtro.loc[:,['FECHA','station']]\r\n",
        "  #Eliminar del dataframe original las mediciones que no cumplen normativa\r\n",
        "  filtro=pd.merge(dataframe,filtro, how='outer', indicator=True)\r\n",
        "  filtro=filtro[filtro['_merge'] == 'left_only']\r\n",
        "  return filtro\r\n"
      ],
      "execution_count": 7,
      "outputs": []
    },
    {
      "cell_type": "markdown",
      "metadata": {
        "id": "oowdHbTUaFEZ"
      },
      "source": [
        "Con la función, se filtra las mediciones por día y por estación son válidas para los siguientes análisis."
      ]
    },
    {
      "cell_type": "code",
      "metadata": {
        "colab": {
          "base_uri": "https://localhost:8080/",
          "height": 402
        },
        "id": "qlAtpYGvTDlZ",
        "outputId": "6d06a6cd-7a5a-4e4e-ca35-c479d64dd997"
      },
      "source": [
        "\r\n",
        "df_filtrado= dia_estacion_valido(df)\r\n",
        "df_filtrado = df_filtrado.drop(columns=['_merge'])\r\n",
        "df_filtrado=df_filtrado.reset_index()\r\n",
        "df_filtrado = df_filtrado.drop(columns=['index'])\r\n",
        "df_filtrado\r\n"
      ],
      "execution_count": 8,
      "outputs": [
        {
          "output_type": "execute_result",
          "data": {
            "text/plain": [
              "           FECHA  HORA station  measurement\n",
              "0     2019-03-01     1     ACO        119.0\n",
              "1     2019-03-01     2     ACO         90.0\n",
              "2     2019-03-01     3     ACO         81.0\n",
              "3     2019-03-01     4     ACO         65.0\n",
              "4     2019-03-01     5     ACO         53.0\n",
              "...          ...   ...     ...          ...\n",
              "66148 2020-05-31    20     VIF         12.0\n",
              "66149 2020-05-31    21     VIF          5.0\n",
              "66150 2020-05-31    22     VIF         13.0\n",
              "66151 2020-05-31    23     VIF         21.0\n",
              "66152 2020-05-31    24     VIF          9.0\n",
              "\n",
              "[66153 rows x 4 columns]"
            ],
            "text/html": "<div>\n<style scoped>\n    .dataframe tbody tr th:only-of-type {\n        vertical-align: middle;\n    }\n\n    .dataframe tbody tr th {\n        vertical-align: top;\n    }\n\n    .dataframe thead th {\n        text-align: right;\n    }\n</style>\n<table border=\"1\" class=\"dataframe\">\n  <thead>\n    <tr style=\"text-align: right;\">\n      <th></th>\n      <th>FECHA</th>\n      <th>HORA</th>\n      <th>station</th>\n      <th>measurement</th>\n    </tr>\n  </thead>\n  <tbody>\n    <tr>\n      <th>0</th>\n      <td>2019-03-01</td>\n      <td>1</td>\n      <td>ACO</td>\n      <td>119.0</td>\n    </tr>\n    <tr>\n      <th>1</th>\n      <td>2019-03-01</td>\n      <td>2</td>\n      <td>ACO</td>\n      <td>90.0</td>\n    </tr>\n    <tr>\n      <th>2</th>\n      <td>2019-03-01</td>\n      <td>3</td>\n      <td>ACO</td>\n      <td>81.0</td>\n    </tr>\n    <tr>\n      <th>3</th>\n      <td>2019-03-01</td>\n      <td>4</td>\n      <td>ACO</td>\n      <td>65.0</td>\n    </tr>\n    <tr>\n      <th>4</th>\n      <td>2019-03-01</td>\n      <td>5</td>\n      <td>ACO</td>\n      <td>53.0</td>\n    </tr>\n    <tr>\n      <th>...</th>\n      <td>...</td>\n      <td>...</td>\n      <td>...</td>\n      <td>...</td>\n    </tr>\n    <tr>\n      <th>66148</th>\n      <td>2020-05-31</td>\n      <td>20</td>\n      <td>VIF</td>\n      <td>12.0</td>\n    </tr>\n    <tr>\n      <th>66149</th>\n      <td>2020-05-31</td>\n      <td>21</td>\n      <td>VIF</td>\n      <td>5.0</td>\n    </tr>\n    <tr>\n      <th>66150</th>\n      <td>2020-05-31</td>\n      <td>22</td>\n      <td>VIF</td>\n      <td>13.0</td>\n    </tr>\n    <tr>\n      <th>66151</th>\n      <td>2020-05-31</td>\n      <td>23</td>\n      <td>VIF</td>\n      <td>21.0</td>\n    </tr>\n    <tr>\n      <th>66152</th>\n      <td>2020-05-31</td>\n      <td>24</td>\n      <td>VIF</td>\n      <td>9.0</td>\n    </tr>\n  </tbody>\n</table>\n<p>66153 rows × 4 columns</p>\n</div>"
          },
          "metadata": {},
          "execution_count": 8
        }
      ]
    },
    {
      "cell_type": "markdown",
      "metadata": {
        "id": "Ore-lPW3bDBU"
      },
      "source": [
        "Una vez con el dataframe inicial limpio, se procede a relacionar cada estación con su respectiva zona de activación. Primeramente se leen los datos"
      ]
    },
    {
      "cell_type": "code",
      "metadata": {
        "colab": {
          "base_uri": "https://localhost:8080/",
          "height": 195
        },
        "id": "FQT9pvl3GLN2",
        "outputId": "d2adac31-0a45-4db5-cfd2-1505bc856926"
      },
      "source": [
        "# Cargando dataset de zonas\n",
        "df_zonas = pd.read_csv('../Datasets/cat_estacion_depurado.csv')\n",
        "\n",
        "# Eliminando columna 'Unnamed: 0'\n",
        "df_zonas = df_zonas.drop(columns=['Unnamed: 0'])\n",
        "# Remplazando los - por NaN\n",
        "df_zonas = df_zonas.replace('-', np.nan)\n",
        "# Eliminando lo NaN's\n",
        "df_zonas = df_zonas.dropna(axis=0, how='any').reset_index(drop=True)\n",
        "# Renombrando la columna\n",
        "df_zonas = df_zonas.rename(columns={'cve_estac': 'station'})\n",
        "df_zonas.head()"
      ],
      "execution_count": 9,
      "outputs": [
        {
          "output_type": "execute_result",
          "data": {
            "text/plain": [
              "  station      nom_estac Zona\n",
              "0     ACO        Acolman   NE\n",
              "1     AJU         Ajusco   SO\n",
              "2     AJM   Ajusco Medio   SO\n",
              "3     ATI       Atizapan   NO\n",
              "4     BJU  Benito Ju�rez   CE"
            ],
            "text/html": "<div>\n<style scoped>\n    .dataframe tbody tr th:only-of-type {\n        vertical-align: middle;\n    }\n\n    .dataframe tbody tr th {\n        vertical-align: top;\n    }\n\n    .dataframe thead th {\n        text-align: right;\n    }\n</style>\n<table border=\"1\" class=\"dataframe\">\n  <thead>\n    <tr style=\"text-align: right;\">\n      <th></th>\n      <th>station</th>\n      <th>nom_estac</th>\n      <th>Zona</th>\n    </tr>\n  </thead>\n  <tbody>\n    <tr>\n      <th>0</th>\n      <td>ACO</td>\n      <td>Acolman</td>\n      <td>NE</td>\n    </tr>\n    <tr>\n      <th>1</th>\n      <td>AJU</td>\n      <td>Ajusco</td>\n      <td>SO</td>\n    </tr>\n    <tr>\n      <th>2</th>\n      <td>AJM</td>\n      <td>Ajusco Medio</td>\n      <td>SO</td>\n    </tr>\n    <tr>\n      <th>3</th>\n      <td>ATI</td>\n      <td>Atizapan</td>\n      <td>NO</td>\n    </tr>\n    <tr>\n      <th>4</th>\n      <td>BJU</td>\n      <td>Benito Ju�rez</td>\n      <td>CE</td>\n    </tr>\n  </tbody>\n</table>\n</div>"
          },
          "metadata": {},
          "execution_count": 9
        }
      ]
    },
    {
      "cell_type": "markdown",
      "metadata": {
        "id": "QyfI-NTLbrU4"
      },
      "source": [
        "- Uniendo los datos con las zonas correspondiente\r\n"
      ]
    },
    {
      "cell_type": "code",
      "metadata": {
        "colab": {
          "base_uri": "https://localhost:8080/",
          "height": 195
        },
        "id": "rH2Bf9hvGLN3",
        "outputId": "8bc31309-fa43-4af2-a593-54230a8c06c4"
      },
      "source": [
        "df_filtrado = df_filtrado.merge(df_zonas[['station', 'Zona']], on='station')\n",
        "df_filtrado.head()"
      ],
      "execution_count": 10,
      "outputs": [
        {
          "output_type": "execute_result",
          "data": {
            "text/plain": [
              "       FECHA  HORA station  measurement Zona\n",
              "0 2019-03-01     1     ACO        119.0   NE\n",
              "1 2019-03-01     2     ACO         90.0   NE\n",
              "2 2019-03-01     3     ACO         81.0   NE\n",
              "3 2019-03-01     4     ACO         65.0   NE\n",
              "4 2019-03-01     5     ACO         53.0   NE"
            ],
            "text/html": "<div>\n<style scoped>\n    .dataframe tbody tr th:only-of-type {\n        vertical-align: middle;\n    }\n\n    .dataframe tbody tr th {\n        vertical-align: top;\n    }\n\n    .dataframe thead th {\n        text-align: right;\n    }\n</style>\n<table border=\"1\" class=\"dataframe\">\n  <thead>\n    <tr style=\"text-align: right;\">\n      <th></th>\n      <th>FECHA</th>\n      <th>HORA</th>\n      <th>station</th>\n      <th>measurement</th>\n      <th>Zona</th>\n    </tr>\n  </thead>\n  <tbody>\n    <tr>\n      <th>0</th>\n      <td>2019-03-01</td>\n      <td>1</td>\n      <td>ACO</td>\n      <td>119.0</td>\n      <td>NE</td>\n    </tr>\n    <tr>\n      <th>1</th>\n      <td>2019-03-01</td>\n      <td>2</td>\n      <td>ACO</td>\n      <td>90.0</td>\n      <td>NE</td>\n    </tr>\n    <tr>\n      <th>2</th>\n      <td>2019-03-01</td>\n      <td>3</td>\n      <td>ACO</td>\n      <td>81.0</td>\n      <td>NE</td>\n    </tr>\n    <tr>\n      <th>3</th>\n      <td>2019-03-01</td>\n      <td>4</td>\n      <td>ACO</td>\n      <td>65.0</td>\n      <td>NE</td>\n    </tr>\n    <tr>\n      <th>4</th>\n      <td>2019-03-01</td>\n      <td>5</td>\n      <td>ACO</td>\n      <td>53.0</td>\n      <td>NE</td>\n    </tr>\n  </tbody>\n</table>\n</div>"
          },
          "metadata": {},
          "execution_count": 10
        }
      ]
    },
    {
      "cell_type": "markdown",
      "metadata": {
        "id": "AvwoOP_Jqa-G"
      },
      "source": [
        "Con los datos válidos para realizar las operaciones siguientes y ya con la relación de cada estación con su respectiva zona de activación, se procede a calcular el promedio diario de concentración y el índice de calidad del aire en cada zona y en cada día"
      ]
    },
    {
      "cell_type": "markdown",
      "metadata": {
        "id": "sDrgFG3eTuLs"
      },
      "source": [
        "### Calculando el promedio diario\n",
        "Para el cálculo del promedio diario de $PM_{10}$ se utilizó la metodología descrita en la `NOM-025-SSA1-2014`, siguiendo la siguiente ecuación:\n",
        "\n",
        "$$\\bar{x}= \\frac{1}{n} \\displaystyle\\sum_{i=1}^n x_i$$\n",
        "$\\bar{x}:$ promedio de 24 horas, \n",
        "\n",
        "$n:$ número de concentraciones horarias válidas\n",
        "\n",
        "$x_i:$ concentraciones horarias válidas\n",
        "\n",
        "- Camo datos extra obteniendo los valores mínimos y máximos\n"
      ]
    },
    {
      "cell_type": "code",
      "metadata": {
        "colab": {
          "base_uri": "https://localhost:8080/",
          "height": 195
        },
        "id": "SCmwxuNrGLNu",
        "outputId": "65bf7c33-af77-4fb7-a1ec-a78b779060ea"
      },
      "source": [
        "# Calculando promedio diario, contando numero de horas usadas, obteniendo el máximo \n",
        "#y mínimo para las visualizaciones en el módulo siguiente\n",
        "df_PM1024h = df_filtrado.groupby(['FECHA', 'Zona'], as_index=False).agg(\n",
        "            PromDiario=('measurement', lambda x: round(x.mean(),0)), \n",
        "            Max = ('measurement', 'max'),\n",
        "            Min = ('measurement', 'min'))\n",
        "df_PM1024h.head()"
      ],
      "execution_count": 11,
      "outputs": [
        {
          "output_type": "execute_result",
          "data": {
            "text/plain": [
              "       FECHA Zona  PromDiario    Max   Min\n",
              "0 2019-03-01   CE        59.0  125.0  23.0\n",
              "1 2019-03-01   NE        94.0  215.0  22.0\n",
              "2 2019-03-01   NO        75.0  193.0  21.0\n",
              "3 2019-03-01   SE        56.0  111.0   8.0\n",
              "4 2019-03-01   SO        38.0   85.0   3.0"
            ],
            "text/html": "<div>\n<style scoped>\n    .dataframe tbody tr th:only-of-type {\n        vertical-align: middle;\n    }\n\n    .dataframe tbody tr th {\n        vertical-align: top;\n    }\n\n    .dataframe thead th {\n        text-align: right;\n    }\n</style>\n<table border=\"1\" class=\"dataframe\">\n  <thead>\n    <tr style=\"text-align: right;\">\n      <th></th>\n      <th>FECHA</th>\n      <th>Zona</th>\n      <th>PromDiario</th>\n      <th>Max</th>\n      <th>Min</th>\n    </tr>\n  </thead>\n  <tbody>\n    <tr>\n      <th>0</th>\n      <td>2019-03-01</td>\n      <td>CE</td>\n      <td>59.0</td>\n      <td>125.0</td>\n      <td>23.0</td>\n    </tr>\n    <tr>\n      <th>1</th>\n      <td>2019-03-01</td>\n      <td>NE</td>\n      <td>94.0</td>\n      <td>215.0</td>\n      <td>22.0</td>\n    </tr>\n    <tr>\n      <th>2</th>\n      <td>2019-03-01</td>\n      <td>NO</td>\n      <td>75.0</td>\n      <td>193.0</td>\n      <td>21.0</td>\n    </tr>\n    <tr>\n      <th>3</th>\n      <td>2019-03-01</td>\n      <td>SE</td>\n      <td>56.0</td>\n      <td>111.0</td>\n      <td>8.0</td>\n    </tr>\n    <tr>\n      <th>4</th>\n      <td>2019-03-01</td>\n      <td>SO</td>\n      <td>38.0</td>\n      <td>85.0</td>\n      <td>3.0</td>\n    </tr>\n  </tbody>\n</table>\n</div>"
          },
          "metadata": {},
          "execution_count": 11
        }
      ]
    },
    {
      "cell_type": "markdown",
      "metadata": {
        "id": "R4_9JSfyZkvh"
      },
      "source": [
        "### Calculando Índice de calidad del aire\n",
        "\n",
        "Donde:\n",
        "$$\\text{Índice}= (k \\times (C - BP_{Lo}))+I_{Lo}$$\n",
        "$$k= \\frac{I_{Hi}-I_{Lo}}{BP_{Hi}-BP_{Lo}}$$\n",
        " \n",
        "$\\text{Índice}:$ Valor del índice para el contaminante deseado.<br>\n",
        "$C:$ valor redondeado para la concentración del contaminante.<br>\n",
        "$k:$ constante de proporcionalidad estimada.<br>\n",
        "$BP_{Hi}:$ valor del punto de corte que es mayor o igual a la concentración a evaluar.<br>\n",
        "$BP_{Lo}:$ valor del punto de corte que es menor o igual a la concentración a evaluar.<br>\n",
        "$I_{Hi}:$ valor del índice que corresponde al valor de $BP_{Hi}$<br>\n",
        "$I_{Lo}:$ valor del índice que corresponde al valor de $BP_{Lo}$<br>\n"
      ]
    },
    {
      "cell_type": "markdown",
      "metadata": {
        "id": "pd3XFqV6rhpm"
      },
      "source": [
        "Primero se crea una función que determine el índice de calidad del aire según la metodología y los valores de la tabla descrita en el apartado Metodología para los valores de los puntos de corte"
      ]
    },
    {
      "cell_type": "code",
      "metadata": {
        "id": "73uW9n8CGLNz"
      },
      "source": [
        "def AQI(df):\n",
        "    CP = df['PromDiario']\n",
        "    i = 0\n",
        "\n",
        "    if 0 <= CP <= 40:\n",
        "        k = (50-0)/(40-0)\n",
        "        i = k * (CP - 0) + 0\n",
        "    if 41 <= CP <= 75:\n",
        "        k = (100-51)/(75-41)\n",
        "        i = k * (CP - 41) + 51\n",
        "    if 76 <= CP <= 214:\n",
        "        k = (150-101)/(214-76)\n",
        "        i = k * (CP - 76) + 101\n",
        "    if 215 <= CP <= 354:\n",
        "        k = (200-151)/(354-215)\n",
        "        i = k * (CP - 215) + 151\n",
        "    if 355 <= CP <= 424:\n",
        "        k = (300-201)/(242-355)\n",
        "        i = k * (CP - 355) + 201\n",
        "    if 425 <= CP <= 504:\n",
        "        k = (400-301)/(504-425)\n",
        "        i = k * (CP - 425) + 301\n",
        "    if 505 <= CP <= 604:\n",
        "        k = (500-401)/(604-505)\n",
        "        i = k * (CP - 505) + 401\n",
        "    \n",
        "    return round(i, 3)"
      ],
      "execution_count": 12,
      "outputs": []
    },
    {
      "cell_type": "markdown",
      "metadata": {
        "id": "JNRcsgCirwy0"
      },
      "source": [
        "Luego se aplica la función para cada promedio diario calculado\r\n",
        "\r\n"
      ]
    },
    {
      "cell_type": "code",
      "metadata": {
        "colab": {
          "base_uri": "https://localhost:8080/",
          "height": 195
        },
        "id": "w46PGdaQGLN0",
        "outputId": "9be1bb31-f315-4503-b073-864facf04ffe"
      },
      "source": [
        "df_PM1024h['indice'] = df_PM1024h.apply(AQI, axis=1)\n",
        "df_PM1024h.head()"
      ],
      "execution_count": 13,
      "outputs": [
        {
          "output_type": "execute_result",
          "data": {
            "text/plain": [
              "       FECHA Zona  PromDiario    Max   Min   indice\n",
              "0 2019-03-01   CE        59.0  125.0  23.0   76.941\n",
              "1 2019-03-01   NE        94.0  215.0  22.0  107.391\n",
              "2 2019-03-01   NO        75.0  193.0  21.0  100.000\n",
              "3 2019-03-01   SE        56.0  111.0   8.0   72.618\n",
              "4 2019-03-01   SO        38.0   85.0   3.0   47.500"
            ],
            "text/html": "<div>\n<style scoped>\n    .dataframe tbody tr th:only-of-type {\n        vertical-align: middle;\n    }\n\n    .dataframe tbody tr th {\n        vertical-align: top;\n    }\n\n    .dataframe thead th {\n        text-align: right;\n    }\n</style>\n<table border=\"1\" class=\"dataframe\">\n  <thead>\n    <tr style=\"text-align: right;\">\n      <th></th>\n      <th>FECHA</th>\n      <th>Zona</th>\n      <th>PromDiario</th>\n      <th>Max</th>\n      <th>Min</th>\n      <th>indice</th>\n    </tr>\n  </thead>\n  <tbody>\n    <tr>\n      <th>0</th>\n      <td>2019-03-01</td>\n      <td>CE</td>\n      <td>59.0</td>\n      <td>125.0</td>\n      <td>23.0</td>\n      <td>76.941</td>\n    </tr>\n    <tr>\n      <th>1</th>\n      <td>2019-03-01</td>\n      <td>NE</td>\n      <td>94.0</td>\n      <td>215.0</td>\n      <td>22.0</td>\n      <td>107.391</td>\n    </tr>\n    <tr>\n      <th>2</th>\n      <td>2019-03-01</td>\n      <td>NO</td>\n      <td>75.0</td>\n      <td>193.0</td>\n      <td>21.0</td>\n      <td>100.000</td>\n    </tr>\n    <tr>\n      <th>3</th>\n      <td>2019-03-01</td>\n      <td>SE</td>\n      <td>56.0</td>\n      <td>111.0</td>\n      <td>8.0</td>\n      <td>72.618</td>\n    </tr>\n    <tr>\n      <th>4</th>\n      <td>2019-03-01</td>\n      <td>SO</td>\n      <td>38.0</td>\n      <td>85.0</td>\n      <td>3.0</td>\n      <td>47.500</td>\n    </tr>\n  </tbody>\n</table>\n</div>"
          },
          "metadata": {},
          "execution_count": 13
        }
      ]
    },
    {
      "cell_type": "markdown",
      "metadata": {
        "id": "BnsYKg22r350"
      },
      "source": [
        "Con el índice de calidad del aire, se crea otra función para determinar la categoría de calidad del aire descrita por la norma mexicana."
      ]
    },
    {
      "cell_type": "code",
      "metadata": {
        "id": "3D1rFHsvhZ73"
      },
      "source": [
        "def AQI_categoria(df):\r\n",
        "    indice = df['indice']\r\n",
        "    if indice <= 50:\r\n",
        "      clase='Buena'\r\n",
        "    elif indice <= 100:\r\n",
        "      clase='Regular'\r\n",
        "    elif indice <= 150:\r\n",
        "      clase= 'Mala'\r\n",
        "    elif indice <= 200:\r\n",
        "      clase = 'Muy mala'\r\n",
        "    else: \r\n",
        "      clase = 'Extremadamente mala'\r\n",
        "    \r\n",
        "    return clase"
      ],
      "execution_count": 14,
      "outputs": []
    },
    {
      "cell_type": "markdown",
      "metadata": {
        "id": "V3_jj-RKsIjV"
      },
      "source": [
        "Se aplica la función para determinar la categoría a cada promedio diario calculado."
      ]
    },
    {
      "cell_type": "code",
      "metadata": {
        "colab": {
          "base_uri": "https://localhost:8080/",
          "height": 195
        },
        "id": "MKh485wfjCP8",
        "outputId": "b2c83d81-8788-467f-8375-8c3b9954548c"
      },
      "source": [
        "df_PM1024h['clase'] = df_PM1024h.apply(AQI_categoria, axis=1)\r\n",
        "df_PM1024h.head()"
      ],
      "execution_count": 15,
      "outputs": [
        {
          "output_type": "execute_result",
          "data": {
            "text/plain": [
              "       FECHA Zona  PromDiario    Max   Min   indice    clase\n",
              "0 2019-03-01   CE        59.0  125.0  23.0   76.941  Regular\n",
              "1 2019-03-01   NE        94.0  215.0  22.0  107.391     Mala\n",
              "2 2019-03-01   NO        75.0  193.0  21.0  100.000  Regular\n",
              "3 2019-03-01   SE        56.0  111.0   8.0   72.618  Regular\n",
              "4 2019-03-01   SO        38.0   85.0   3.0   47.500    Buena"
            ],
            "text/html": "<div>\n<style scoped>\n    .dataframe tbody tr th:only-of-type {\n        vertical-align: middle;\n    }\n\n    .dataframe tbody tr th {\n        vertical-align: top;\n    }\n\n    .dataframe thead th {\n        text-align: right;\n    }\n</style>\n<table border=\"1\" class=\"dataframe\">\n  <thead>\n    <tr style=\"text-align: right;\">\n      <th></th>\n      <th>FECHA</th>\n      <th>Zona</th>\n      <th>PromDiario</th>\n      <th>Max</th>\n      <th>Min</th>\n      <th>indice</th>\n      <th>clase</th>\n    </tr>\n  </thead>\n  <tbody>\n    <tr>\n      <th>0</th>\n      <td>2019-03-01</td>\n      <td>CE</td>\n      <td>59.0</td>\n      <td>125.0</td>\n      <td>23.0</td>\n      <td>76.941</td>\n      <td>Regular</td>\n    </tr>\n    <tr>\n      <th>1</th>\n      <td>2019-03-01</td>\n      <td>NE</td>\n      <td>94.0</td>\n      <td>215.0</td>\n      <td>22.0</td>\n      <td>107.391</td>\n      <td>Mala</td>\n    </tr>\n    <tr>\n      <th>2</th>\n      <td>2019-03-01</td>\n      <td>NO</td>\n      <td>75.0</td>\n      <td>193.0</td>\n      <td>21.0</td>\n      <td>100.000</td>\n      <td>Regular</td>\n    </tr>\n    <tr>\n      <th>3</th>\n      <td>2019-03-01</td>\n      <td>SE</td>\n      <td>56.0</td>\n      <td>111.0</td>\n      <td>8.0</td>\n      <td>72.618</td>\n      <td>Regular</td>\n    </tr>\n    <tr>\n      <th>4</th>\n      <td>2019-03-01</td>\n      <td>SO</td>\n      <td>38.0</td>\n      <td>85.0</td>\n      <td>3.0</td>\n      <td>47.500</td>\n      <td>Buena</td>\n    </tr>\n  </tbody>\n</table>\n</div>"
          },
          "metadata": {},
          "execution_count": 15
        }
      ]
    },
    {
      "cell_type": "markdown",
      "metadata": {
        "id": "2wl5w6jXsTUi"
      },
      "source": [
        "Se guardan los resultados en un csv"
      ]
    },
    {
      "cell_type": "code",
      "metadata": {
        "id": "2KKKFFuvc3vi"
      },
      "source": [
        "df_PM1024h.to_csv('../Datasets/PM10/PDEstacion_PM10.csv', index=False)"
      ],
      "execution_count": 16,
      "outputs": []
    }
  ]
}