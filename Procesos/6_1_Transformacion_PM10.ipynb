{
  "nbformat": 4,
  "nbformat_minor": 0,
  "metadata": {
    "colab": {
      "name": "6.1_Transformacion_PM10.ipynb",
      "provenance": [],
      "collapsed_sections": []
    },
    "kernelspec": {
      "name": "python3",
      "display_name": "Python 3.9.2 64-bit",
      "metadata": {
        "interpreter": {
          "hash": "d0851c8d918f9ad433d63dff71dbacbe17259539d55e689a7d9cbf48e3dba898"
        }
      }
    }
  },
  "cells": [
    {
      "cell_type": "markdown",
      "metadata": {
        "id": "MIIDm9DOGxxB"
      },
      "source": [
        "# Promedio Diario $PM_{10}$\n",
        "\n",
        "Para nuestra transformación de datos, utilizaremos las siguientes librerias:\n",
        "\n"
      ]
    },
    {
      "cell_type": "code",
      "metadata": {
        "id": "qgNSF59zGLNn"
      },
      "source": [
        "import pandas as pd\n",
        "import numpy as np"
      ],
      "execution_count": 88,
      "outputs": []
    },
    {
      "cell_type": "markdown",
      "metadata": {
        "id": "SKqhqjSBHqE4"
      },
      "source": [
        "- Cargando dataset a un DataFrame de pandas\r\n",
        "\r\n",
        "- Posteriormente normalizando la columna `Fecha` a tipo datetime"
      ]
    },
    {
      "cell_type": "code",
      "metadata": {
        "colab": {
          "base_uri": "https://localhost:8080/",
          "height": 195
        },
        "id": "ifgxDQhzGLNq",
        "outputId": "58a5a476-c25e-4f8a-bf4d-90bcea10cd5f"
      },
      "source": [
        "#Cargando archivos\n",
        "df = pd.read_csv('https://raw.githubusercontent.com/IrvingC48/BeduFase2-Proyecto_python/main/Datasets/PM10/PM10_depurado.csv')\n",
        "\n",
        "# Normalizando fechas\n",
        "df['FECHA'] = pd.to_datetime(df['FECHA'], unit='ns')\n",
        "df.head()"
      ],
      "execution_count": 89,
      "outputs": [
        {
          "output_type": "execute_result",
          "data": {
            "text/html": [
              "<div>\n",
              "<style scoped>\n",
              "    .dataframe tbody tr th:only-of-type {\n",
              "        vertical-align: middle;\n",
              "    }\n",
              "\n",
              "    .dataframe tbody tr th {\n",
              "        vertical-align: top;\n",
              "    }\n",
              "\n",
              "    .dataframe thead th {\n",
              "        text-align: right;\n",
              "    }\n",
              "</style>\n",
              "<table border=\"1\" class=\"dataframe\">\n",
              "  <thead>\n",
              "    <tr style=\"text-align: right;\">\n",
              "      <th></th>\n",
              "      <th>Unnamed: 0</th>\n",
              "      <th>FECHA</th>\n",
              "      <th>HORA</th>\n",
              "      <th>ACO</th>\n",
              "      <th>AJM</th>\n",
              "      <th>ATI</th>\n",
              "      <th>BJU</th>\n",
              "      <th>CAM</th>\n",
              "      <th>CUA</th>\n",
              "      <th>CUT</th>\n",
              "      <th>FAC</th>\n",
              "      <th>GAM</th>\n",
              "      <th>HGM</th>\n",
              "      <th>INN</th>\n",
              "      <th>IZT</th>\n",
              "      <th>MER</th>\n",
              "      <th>PED</th>\n",
              "      <th>SAG</th>\n",
              "      <th>SFE</th>\n",
              "      <th>TAH</th>\n",
              "      <th>TLA</th>\n",
              "      <th>UIZ</th>\n",
              "      <th>VIF</th>\n",
              "      <th>XAL</th>\n",
              "    </tr>\n",
              "  </thead>\n",
              "  <tbody>\n",
              "    <tr>\n",
              "      <th>0</th>\n",
              "      <td>0</td>\n",
              "      <td>2019-01-01</td>\n",
              "      <td>1</td>\n",
              "      <td>201.0</td>\n",
              "      <td>39.0</td>\n",
              "      <td>105.0</td>\n",
              "      <td>84.0</td>\n",
              "      <td>120.0</td>\n",
              "      <td>113.0</td>\n",
              "      <td>149.0</td>\n",
              "      <td>78.0</td>\n",
              "      <td>NaN</td>\n",
              "      <td>77.0</td>\n",
              "      <td>31.0</td>\n",
              "      <td>132.0</td>\n",
              "      <td>113.0</td>\n",
              "      <td>NaN</td>\n",
              "      <td>149.0</td>\n",
              "      <td>50.0</td>\n",
              "      <td>191.0</td>\n",
              "      <td>78.0</td>\n",
              "      <td>129.0</td>\n",
              "      <td>280.0</td>\n",
              "      <td>155.0</td>\n",
              "    </tr>\n",
              "    <tr>\n",
              "      <th>1</th>\n",
              "      <td>1</td>\n",
              "      <td>2019-01-01</td>\n",
              "      <td>2</td>\n",
              "      <td>218.0</td>\n",
              "      <td>27.0</td>\n",
              "      <td>128.0</td>\n",
              "      <td>115.0</td>\n",
              "      <td>135.0</td>\n",
              "      <td>158.0</td>\n",
              "      <td>211.0</td>\n",
              "      <td>111.0</td>\n",
              "      <td>NaN</td>\n",
              "      <td>81.0</td>\n",
              "      <td>20.0</td>\n",
              "      <td>202.0</td>\n",
              "      <td>141.0</td>\n",
              "      <td>NaN</td>\n",
              "      <td>149.0</td>\n",
              "      <td>54.0</td>\n",
              "      <td>225.0</td>\n",
              "      <td>73.0</td>\n",
              "      <td>125.0</td>\n",
              "      <td>257.0</td>\n",
              "      <td>236.0</td>\n",
              "    </tr>\n",
              "    <tr>\n",
              "      <th>2</th>\n",
              "      <td>2</td>\n",
              "      <td>2019-01-01</td>\n",
              "      <td>3</td>\n",
              "      <td>240.0</td>\n",
              "      <td>20.0</td>\n",
              "      <td>93.0</td>\n",
              "      <td>134.0</td>\n",
              "      <td>177.0</td>\n",
              "      <td>192.0</td>\n",
              "      <td>214.0</td>\n",
              "      <td>137.0</td>\n",
              "      <td>NaN</td>\n",
              "      <td>96.0</td>\n",
              "      <td>12.0</td>\n",
              "      <td>198.0</td>\n",
              "      <td>118.0</td>\n",
              "      <td>NaN</td>\n",
              "      <td>152.0</td>\n",
              "      <td>65.0</td>\n",
              "      <td>185.0</td>\n",
              "      <td>80.0</td>\n",
              "      <td>132.0</td>\n",
              "      <td>509.0</td>\n",
              "      <td>337.0</td>\n",
              "    </tr>\n",
              "    <tr>\n",
              "      <th>3</th>\n",
              "      <td>3</td>\n",
              "      <td>2019-01-01</td>\n",
              "      <td>4</td>\n",
              "      <td>231.0</td>\n",
              "      <td>10.0</td>\n",
              "      <td>86.0</td>\n",
              "      <td>124.0</td>\n",
              "      <td>204.0</td>\n",
              "      <td>143.0</td>\n",
              "      <td>178.0</td>\n",
              "      <td>161.0</td>\n",
              "      <td>NaN</td>\n",
              "      <td>112.0</td>\n",
              "      <td>12.0</td>\n",
              "      <td>192.0</td>\n",
              "      <td>154.0</td>\n",
              "      <td>NaN</td>\n",
              "      <td>217.0</td>\n",
              "      <td>33.0</td>\n",
              "      <td>172.0</td>\n",
              "      <td>84.0</td>\n",
              "      <td>136.0</td>\n",
              "      <td>611.0</td>\n",
              "      <td>271.0</td>\n",
              "    </tr>\n",
              "    <tr>\n",
              "      <th>4</th>\n",
              "      <td>4</td>\n",
              "      <td>2019-01-01</td>\n",
              "      <td>5</td>\n",
              "      <td>216.0</td>\n",
              "      <td>7.0</td>\n",
              "      <td>68.0</td>\n",
              "      <td>143.0</td>\n",
              "      <td>162.0</td>\n",
              "      <td>123.0</td>\n",
              "      <td>234.0</td>\n",
              "      <td>103.0</td>\n",
              "      <td>NaN</td>\n",
              "      <td>110.0</td>\n",
              "      <td>5.0</td>\n",
              "      <td>178.0</td>\n",
              "      <td>227.0</td>\n",
              "      <td>NaN</td>\n",
              "      <td>242.0</td>\n",
              "      <td>29.0</td>\n",
              "      <td>83.0</td>\n",
              "      <td>63.0</td>\n",
              "      <td>191.0</td>\n",
              "      <td>653.0</td>\n",
              "      <td>226.0</td>\n",
              "    </tr>\n",
              "  </tbody>\n",
              "</table>\n",
              "</div>"
            ],
            "text/plain": [
              "   Unnamed: 0      FECHA  HORA    ACO   AJM  ...    TAH   TLA    UIZ    VIF    XAL\n",
              "0           0 2019-01-01     1  201.0  39.0  ...  191.0  78.0  129.0  280.0  155.0\n",
              "1           1 2019-01-01     2  218.0  27.0  ...  225.0  73.0  125.0  257.0  236.0\n",
              "2           2 2019-01-01     3  240.0  20.0  ...  185.0  80.0  132.0  509.0  337.0\n",
              "3           3 2019-01-01     4  231.0  10.0  ...  172.0  84.0  136.0  611.0  271.0\n",
              "4           4 2019-01-01     5  216.0   7.0  ...   83.0  63.0  191.0  653.0  226.0\n",
              "\n",
              "[5 rows x 24 columns]"
            ]
          },
          "metadata": {
            "tags": []
          },
          "execution_count": 89
        }
      ]
    },
    {
      "cell_type": "markdown",
      "metadata": {
        "id": "9STZgS3PJNsA"
      },
      "source": [
        "- Reacomodo del DataFrame , donde ahora tendremos una columna para las estaciones y sus correspondientes datos de medición\n",
        "- Eliminando los datos `NaN`\n",
        "- Comprobando que no queden datos `NaN` en el DataFrame"
      ]
    },
    {
      "cell_type": "code",
      "metadata": {
        "colab": {
          "base_uri": "https://localhost:8080/",
          "height": 296
        },
        "id": "SqbL90leGLNr",
        "outputId": "7c6dcf1a-119e-447d-e08b-34fb78f763fd"
      },
      "source": [
        "# Extraer nombre de columnas\n",
        "cols = df.columns.tolist()\n",
        "\n",
        "# Reacomodando dataframe\n",
        "df = pd.melt(df, id_vars=['FECHA', 'HORA'], value_vars=cols[3:], var_name='station', value_name='measurement')\n",
        "\n",
        "# df = df[~df['measurement'].isna()] otra forma de eliminar nan's\n",
        "df = df.dropna(axis=0, how='any').reset_index(drop=True)\n",
        "\n",
        "print(\"No. de columnas que contienen valores nulos \")\n",
        "print(len(df.columns[df.isna().any()]))\n",
        "\n",
        "print(\"No. de columnas que no contienen valores nulos\")\n",
        "print(len(df.columns[df.notna().all()]))\n",
        "\n",
        "print(\"No total de columnas en el dataframe\")\n",
        "print(len(df.columns))\n",
        "df.head()"
      ],
      "execution_count": 90,
      "outputs": [
        {
          "output_type": "stream",
          "text": [
            "No. de columnas que contienen valores nulos \n",
            "0\n",
            "No. de columnas que no contienen valores nulos\n",
            "4\n",
            "No total de columnas en el dataframe\n",
            "4\n"
          ],
          "name": "stdout"
        },
        {
          "output_type": "execute_result",
          "data": {
            "text/html": [
              "<div>\n",
              "<style scoped>\n",
              "    .dataframe tbody tr th:only-of-type {\n",
              "        vertical-align: middle;\n",
              "    }\n",
              "\n",
              "    .dataframe tbody tr th {\n",
              "        vertical-align: top;\n",
              "    }\n",
              "\n",
              "    .dataframe thead th {\n",
              "        text-align: right;\n",
              "    }\n",
              "</style>\n",
              "<table border=\"1\" class=\"dataframe\">\n",
              "  <thead>\n",
              "    <tr style=\"text-align: right;\">\n",
              "      <th></th>\n",
              "      <th>FECHA</th>\n",
              "      <th>HORA</th>\n",
              "      <th>station</th>\n",
              "      <th>measurement</th>\n",
              "    </tr>\n",
              "  </thead>\n",
              "  <tbody>\n",
              "    <tr>\n",
              "      <th>0</th>\n",
              "      <td>2019-01-01</td>\n",
              "      <td>1</td>\n",
              "      <td>ACO</td>\n",
              "      <td>201.0</td>\n",
              "    </tr>\n",
              "    <tr>\n",
              "      <th>1</th>\n",
              "      <td>2019-01-01</td>\n",
              "      <td>2</td>\n",
              "      <td>ACO</td>\n",
              "      <td>218.0</td>\n",
              "    </tr>\n",
              "    <tr>\n",
              "      <th>2</th>\n",
              "      <td>2019-01-01</td>\n",
              "      <td>3</td>\n",
              "      <td>ACO</td>\n",
              "      <td>240.0</td>\n",
              "    </tr>\n",
              "    <tr>\n",
              "      <th>3</th>\n",
              "      <td>2019-01-01</td>\n",
              "      <td>4</td>\n",
              "      <td>ACO</td>\n",
              "      <td>231.0</td>\n",
              "    </tr>\n",
              "    <tr>\n",
              "      <th>4</th>\n",
              "      <td>2019-01-01</td>\n",
              "      <td>5</td>\n",
              "      <td>ACO</td>\n",
              "      <td>216.0</td>\n",
              "    </tr>\n",
              "  </tbody>\n",
              "</table>\n",
              "</div>"
            ],
            "text/plain": [
              "       FECHA  HORA station  measurement\n",
              "0 2019-01-01     1     ACO        201.0\n",
              "1 2019-01-01     2     ACO        218.0\n",
              "2 2019-01-01     3     ACO        240.0\n",
              "3 2019-01-01     4     ACO        231.0\n",
              "4 2019-01-01     5     ACO        216.0"
            ]
          },
          "metadata": {
            "tags": []
          },
          "execution_count": 90
        }
      ]
    },
    {
      "cell_type": "markdown",
      "metadata": {
        "id": "7lwCdIm2TWnU"
      },
      "source": [
        "- Ordenando el dataframe segun la fecha y la estación"
      ]
    },
    {
      "cell_type": "code",
      "metadata": {
        "colab": {
          "base_uri": "https://localhost:8080/",
          "height": 402
        },
        "id": "kUQGe-1VGLNt",
        "outputId": "aa94b8aa-5615-4950-cf16-9e847caa6e8b"
      },
      "source": [
        "# ordenando el dataframe por fecha y nombre de estacion\n",
        "df = df.sort_values(['FECHA', 'station']).reset_index(drop=True)\n",
        "df"
      ],
      "execution_count": 91,
      "outputs": [
        {
          "output_type": "execute_result",
          "data": {
            "text/html": [
              "<div>\n",
              "<style scoped>\n",
              "    .dataframe tbody tr th:only-of-type {\n",
              "        vertical-align: middle;\n",
              "    }\n",
              "\n",
              "    .dataframe tbody tr th {\n",
              "        vertical-align: top;\n",
              "    }\n",
              "\n",
              "    .dataframe thead th {\n",
              "        text-align: right;\n",
              "    }\n",
              "</style>\n",
              "<table border=\"1\" class=\"dataframe\">\n",
              "  <thead>\n",
              "    <tr style=\"text-align: right;\">\n",
              "      <th></th>\n",
              "      <th>FECHA</th>\n",
              "      <th>HORA</th>\n",
              "      <th>station</th>\n",
              "      <th>measurement</th>\n",
              "    </tr>\n",
              "  </thead>\n",
              "  <tbody>\n",
              "    <tr>\n",
              "      <th>0</th>\n",
              "      <td>2019-01-01</td>\n",
              "      <td>1</td>\n",
              "      <td>ACO</td>\n",
              "      <td>201.0</td>\n",
              "    </tr>\n",
              "    <tr>\n",
              "      <th>1</th>\n",
              "      <td>2019-01-01</td>\n",
              "      <td>2</td>\n",
              "      <td>ACO</td>\n",
              "      <td>218.0</td>\n",
              "    </tr>\n",
              "    <tr>\n",
              "      <th>2</th>\n",
              "      <td>2019-01-01</td>\n",
              "      <td>3</td>\n",
              "      <td>ACO</td>\n",
              "      <td>240.0</td>\n",
              "    </tr>\n",
              "    <tr>\n",
              "      <th>3</th>\n",
              "      <td>2019-01-01</td>\n",
              "      <td>4</td>\n",
              "      <td>ACO</td>\n",
              "      <td>231.0</td>\n",
              "    </tr>\n",
              "    <tr>\n",
              "      <th>4</th>\n",
              "      <td>2019-01-01</td>\n",
              "      <td>5</td>\n",
              "      <td>ACO</td>\n",
              "      <td>216.0</td>\n",
              "    </tr>\n",
              "    <tr>\n",
              "      <th>...</th>\n",
              "      <td>...</td>\n",
              "      <td>...</td>\n",
              "      <td>...</td>\n",
              "      <td>...</td>\n",
              "    </tr>\n",
              "    <tr>\n",
              "      <th>259447</th>\n",
              "      <td>2020-12-31</td>\n",
              "      <td>20</td>\n",
              "      <td>VIF</td>\n",
              "      <td>54.0</td>\n",
              "    </tr>\n",
              "    <tr>\n",
              "      <th>259448</th>\n",
              "      <td>2020-12-31</td>\n",
              "      <td>21</td>\n",
              "      <td>VIF</td>\n",
              "      <td>52.0</td>\n",
              "    </tr>\n",
              "    <tr>\n",
              "      <th>259449</th>\n",
              "      <td>2020-12-31</td>\n",
              "      <td>22</td>\n",
              "      <td>VIF</td>\n",
              "      <td>52.0</td>\n",
              "    </tr>\n",
              "    <tr>\n",
              "      <th>259450</th>\n",
              "      <td>2020-12-31</td>\n",
              "      <td>23</td>\n",
              "      <td>VIF</td>\n",
              "      <td>178.0</td>\n",
              "    </tr>\n",
              "    <tr>\n",
              "      <th>259451</th>\n",
              "      <td>2020-12-31</td>\n",
              "      <td>24</td>\n",
              "      <td>VIF</td>\n",
              "      <td>215.0</td>\n",
              "    </tr>\n",
              "  </tbody>\n",
              "</table>\n",
              "<p>259452 rows × 4 columns</p>\n",
              "</div>"
            ],
            "text/plain": [
              "            FECHA  HORA station  measurement\n",
              "0      2019-01-01     1     ACO        201.0\n",
              "1      2019-01-01     2     ACO        218.0\n",
              "2      2019-01-01     3     ACO        240.0\n",
              "3      2019-01-01     4     ACO        231.0\n",
              "4      2019-01-01     5     ACO        216.0\n",
              "...           ...   ...     ...          ...\n",
              "259447 2020-12-31    20     VIF         54.0\n",
              "259448 2020-12-31    21     VIF         52.0\n",
              "259449 2020-12-31    22     VIF         52.0\n",
              "259450 2020-12-31    23     VIF        178.0\n",
              "259451 2020-12-31    24     VIF        215.0\n",
              "\n",
              "[259452 rows x 4 columns]"
            ]
          },
          "metadata": {
            "tags": []
          },
          "execution_count": 91
        }
      ]
    },
    {
      "cell_type": "markdown",
      "metadata": {
        "id": "_ywHB2TBQlvL"
      },
      "source": [
        "Ahora se busca eliminar, según el día y la estación, aquellas filas que tengan mediciones horarias menores a las requeridas por la normativa (18 mediciones). Por ejemplo, si la estación ACO en el 01 de enero de 2019 registró solamente 15 mediciones horarias, todas las mediciones de ese día para la estación ACO no será tomadas en cuenta para los posteriores análisis. "
      ]
    },
    {
      "cell_type": "markdown",
      "metadata": {
        "id": "3jz860hCR4ti"
      },
      "source": [
        "Primero se debe elaborar una función que devuelva el dataframe que contenga solamente los registros válidos"
      ]
    },
    {
      "cell_type": "code",
      "metadata": {
        "id": "lF536xCVR3yb"
      },
      "source": [
        "def dia_estacion_valido(dataframe):\r\n",
        "  #Contar las mediciones horarias por día y estación\r\n",
        "  filtro= dataframe.groupby(['FECHA', 'station'],as_index=False).agg(N_h=('HORA','count'))\r\n",
        "  #Filtrar aquellas que no cumplen normativa\r\n",
        "  filtro= filtro.query('N_h < 17')\r\n",
        "  #Conservar las columnas de fecha y estación\r\n",
        "  filtro=filtro.loc[:,['FECHA','station']]\r\n",
        "  #Eliminar del dataframe original las mediciones que no cumplen normativa\r\n",
        "  filtro=pd.merge(dataframe,filtro, how='outer', indicator=True)\r\n",
        "  filtro=filtro[filtro['_merge'] == 'left_only']\r\n",
        "  return filtro\r\n"
      ],
      "execution_count": 92,
      "outputs": []
    },
    {
      "cell_type": "markdown",
      "metadata": {
        "id": "oowdHbTUaFEZ"
      },
      "source": [
        "Con la función, se filtra las mediciones por día y por estación son válidas para los siguientes análisis."
      ]
    },
    {
      "cell_type": "code",
      "metadata": {
        "colab": {
          "base_uri": "https://localhost:8080/",
          "height": 402
        },
        "id": "qlAtpYGvTDlZ",
        "outputId": "503ad950-7a7e-40b2-e07c-84bee8fdf8ff"
      },
      "source": [
        "\r\n",
        "df_filtrado= dia_estacion_valido(df)\r\n",
        "df_filtrado = df_filtrado.drop(columns=['_merge'])\r\n",
        "df_filtrado=df_filtrado.reset_index()\r\n",
        "df_filtrado\r\n"
      ],
      "execution_count": 97,
      "outputs": [
        {
          "output_type": "execute_result",
          "data": {
            "text/html": [
              "<div>\n",
              "<style scoped>\n",
              "    .dataframe tbody tr th:only-of-type {\n",
              "        vertical-align: middle;\n",
              "    }\n",
              "\n",
              "    .dataframe tbody tr th {\n",
              "        vertical-align: top;\n",
              "    }\n",
              "\n",
              "    .dataframe thead th {\n",
              "        text-align: right;\n",
              "    }\n",
              "</style>\n",
              "<table border=\"1\" class=\"dataframe\">\n",
              "  <thead>\n",
              "    <tr style=\"text-align: right;\">\n",
              "      <th></th>\n",
              "      <th>index</th>\n",
              "      <th>FECHA</th>\n",
              "      <th>HORA</th>\n",
              "      <th>station</th>\n",
              "      <th>measurement</th>\n",
              "    </tr>\n",
              "  </thead>\n",
              "  <tbody>\n",
              "    <tr>\n",
              "      <th>0</th>\n",
              "      <td>0</td>\n",
              "      <td>2019-01-01</td>\n",
              "      <td>1</td>\n",
              "      <td>ACO</td>\n",
              "      <td>201.0</td>\n",
              "    </tr>\n",
              "    <tr>\n",
              "      <th>1</th>\n",
              "      <td>1</td>\n",
              "      <td>2019-01-01</td>\n",
              "      <td>2</td>\n",
              "      <td>ACO</td>\n",
              "      <td>218.0</td>\n",
              "    </tr>\n",
              "    <tr>\n",
              "      <th>2</th>\n",
              "      <td>2</td>\n",
              "      <td>2019-01-01</td>\n",
              "      <td>3</td>\n",
              "      <td>ACO</td>\n",
              "      <td>240.0</td>\n",
              "    </tr>\n",
              "    <tr>\n",
              "      <th>3</th>\n",
              "      <td>3</td>\n",
              "      <td>2019-01-01</td>\n",
              "      <td>4</td>\n",
              "      <td>ACO</td>\n",
              "      <td>231.0</td>\n",
              "    </tr>\n",
              "    <tr>\n",
              "      <th>4</th>\n",
              "      <td>4</td>\n",
              "      <td>2019-01-01</td>\n",
              "      <td>5</td>\n",
              "      <td>ACO</td>\n",
              "      <td>216.0</td>\n",
              "    </tr>\n",
              "    <tr>\n",
              "      <th>...</th>\n",
              "      <td>...</td>\n",
              "      <td>...</td>\n",
              "      <td>...</td>\n",
              "      <td>...</td>\n",
              "      <td>...</td>\n",
              "    </tr>\n",
              "    <tr>\n",
              "      <th>253977</th>\n",
              "      <td>259447</td>\n",
              "      <td>2020-12-31</td>\n",
              "      <td>20</td>\n",
              "      <td>VIF</td>\n",
              "      <td>54.0</td>\n",
              "    </tr>\n",
              "    <tr>\n",
              "      <th>253978</th>\n",
              "      <td>259448</td>\n",
              "      <td>2020-12-31</td>\n",
              "      <td>21</td>\n",
              "      <td>VIF</td>\n",
              "      <td>52.0</td>\n",
              "    </tr>\n",
              "    <tr>\n",
              "      <th>253979</th>\n",
              "      <td>259449</td>\n",
              "      <td>2020-12-31</td>\n",
              "      <td>22</td>\n",
              "      <td>VIF</td>\n",
              "      <td>52.0</td>\n",
              "    </tr>\n",
              "    <tr>\n",
              "      <th>253980</th>\n",
              "      <td>259450</td>\n",
              "      <td>2020-12-31</td>\n",
              "      <td>23</td>\n",
              "      <td>VIF</td>\n",
              "      <td>178.0</td>\n",
              "    </tr>\n",
              "    <tr>\n",
              "      <th>253981</th>\n",
              "      <td>259451</td>\n",
              "      <td>2020-12-31</td>\n",
              "      <td>24</td>\n",
              "      <td>VIF</td>\n",
              "      <td>215.0</td>\n",
              "    </tr>\n",
              "  </tbody>\n",
              "</table>\n",
              "<p>253982 rows × 5 columns</p>\n",
              "</div>"
            ],
            "text/plain": [
              "         index      FECHA  HORA station  measurement\n",
              "0            0 2019-01-01     1     ACO        201.0\n",
              "1            1 2019-01-01     2     ACO        218.0\n",
              "2            2 2019-01-01     3     ACO        240.0\n",
              "3            3 2019-01-01     4     ACO        231.0\n",
              "4            4 2019-01-01     5     ACO        216.0\n",
              "...        ...        ...   ...     ...          ...\n",
              "253977  259447 2020-12-31    20     VIF         54.0\n",
              "253978  259448 2020-12-31    21     VIF         52.0\n",
              "253979  259449 2020-12-31    22     VIF         52.0\n",
              "253980  259450 2020-12-31    23     VIF        178.0\n",
              "253981  259451 2020-12-31    24     VIF        215.0\n",
              "\n",
              "[253982 rows x 5 columns]"
            ]
          },
          "metadata": {
            "tags": []
          },
          "execution_count": 97
        }
      ]
    },
    {
      "cell_type": "markdown",
      "metadata": {
        "id": "Ore-lPW3bDBU"
      },
      "source": [
        "Una vez con el dataframe inicial limpio, se procede a relacionar cada estación con su respectiva zona de activación. Primeramente se leen los datos"
      ]
    },
    {
      "cell_type": "code",
      "metadata": {
        "colab": {
          "base_uri": "https://localhost:8080/",
          "height": 195
        },
        "id": "FQT9pvl3GLN2",
        "outputId": "4d0e0192-43d1-4bd4-a245-b181a0524bd6"
      },
      "source": [
        "# Cargando dataset de zonas\n",
        "df_zonas = pd.read_csv('https://raw.githubusercontent.com/IrvingC48/BeduFase2-Proyecto_python/main/Datasets/cat_estacion_depurado.csv')\n",
        "\n",
        "# Eliminando columna 'Unnamed: 0'\n",
        "df_zonas = df_zonas.drop(columns=['Unnamed: 0'])\n",
        "# Remplazando los - por NaN\n",
        "df_zonas = df_zonas.replace('-', np.nan)\n",
        "# Eliminando lo NaN's\n",
        "df_zonas = df_zonas.dropna(axis=0, how='any').reset_index(drop=True)\n",
        "# Renombrando la columna\n",
        "df_zonas = df_zonas.rename(columns={'cve_estac': 'station'})\n",
        "df_zonas.head()"
      ],
      "execution_count": 98,
      "outputs": [
        {
          "output_type": "execute_result",
          "data": {
            "text/html": [
              "<div>\n",
              "<style scoped>\n",
              "    .dataframe tbody tr th:only-of-type {\n",
              "        vertical-align: middle;\n",
              "    }\n",
              "\n",
              "    .dataframe tbody tr th {\n",
              "        vertical-align: top;\n",
              "    }\n",
              "\n",
              "    .dataframe thead th {\n",
              "        text-align: right;\n",
              "    }\n",
              "</style>\n",
              "<table border=\"1\" class=\"dataframe\">\n",
              "  <thead>\n",
              "    <tr style=\"text-align: right;\">\n",
              "      <th></th>\n",
              "      <th>station</th>\n",
              "      <th>nom_estac</th>\n",
              "      <th>Zona</th>\n",
              "    </tr>\n",
              "  </thead>\n",
              "  <tbody>\n",
              "    <tr>\n",
              "      <th>0</th>\n",
              "      <td>ACO</td>\n",
              "      <td>Acolman</td>\n",
              "      <td>NE</td>\n",
              "    </tr>\n",
              "    <tr>\n",
              "      <th>1</th>\n",
              "      <td>AJU</td>\n",
              "      <td>Ajusco</td>\n",
              "      <td>SO</td>\n",
              "    </tr>\n",
              "    <tr>\n",
              "      <th>2</th>\n",
              "      <td>AJM</td>\n",
              "      <td>Ajusco Medio</td>\n",
              "      <td>SO</td>\n",
              "    </tr>\n",
              "    <tr>\n",
              "      <th>3</th>\n",
              "      <td>ATI</td>\n",
              "      <td>Atizapan</td>\n",
              "      <td>NO</td>\n",
              "    </tr>\n",
              "    <tr>\n",
              "      <th>4</th>\n",
              "      <td>BJU</td>\n",
              "      <td>Benito Ju�rez</td>\n",
              "      <td>CE</td>\n",
              "    </tr>\n",
              "  </tbody>\n",
              "</table>\n",
              "</div>"
            ],
            "text/plain": [
              "  station      nom_estac Zona\n",
              "0     ACO        Acolman   NE\n",
              "1     AJU         Ajusco   SO\n",
              "2     AJM   Ajusco Medio   SO\n",
              "3     ATI       Atizapan   NO\n",
              "4     BJU  Benito Ju�rez   CE"
            ]
          },
          "metadata": {
            "tags": []
          },
          "execution_count": 98
        }
      ]
    },
    {
      "cell_type": "markdown",
      "metadata": {
        "id": "QyfI-NTLbrU4"
      },
      "source": [
        "- Uniendo los datos con las zonas correspondiente\r\n"
      ]
    },
    {
      "cell_type": "code",
      "metadata": {
        "colab": {
          "base_uri": "https://localhost:8080/",
          "height": 195
        },
        "id": "rH2Bf9hvGLN3",
        "outputId": "e711837f-ff4f-48c0-be79-070bd0cbb014"
      },
      "source": [
        "df_filtrado = df_filtrado.merge(df_zonas[['station', 'Zona']], on='station')\n",
        "df_filtrado.head()"
      ],
      "execution_count": 99,
      "outputs": [
        {
          "output_type": "execute_result",
          "data": {
            "text/html": [
              "<div>\n",
              "<style scoped>\n",
              "    .dataframe tbody tr th:only-of-type {\n",
              "        vertical-align: middle;\n",
              "    }\n",
              "\n",
              "    .dataframe tbody tr th {\n",
              "        vertical-align: top;\n",
              "    }\n",
              "\n",
              "    .dataframe thead th {\n",
              "        text-align: right;\n",
              "    }\n",
              "</style>\n",
              "<table border=\"1\" class=\"dataframe\">\n",
              "  <thead>\n",
              "    <tr style=\"text-align: right;\">\n",
              "      <th></th>\n",
              "      <th>index</th>\n",
              "      <th>FECHA</th>\n",
              "      <th>HORA</th>\n",
              "      <th>station</th>\n",
              "      <th>measurement</th>\n",
              "      <th>Zona</th>\n",
              "    </tr>\n",
              "  </thead>\n",
              "  <tbody>\n",
              "    <tr>\n",
              "      <th>0</th>\n",
              "      <td>0</td>\n",
              "      <td>2019-01-01</td>\n",
              "      <td>1</td>\n",
              "      <td>ACO</td>\n",
              "      <td>201.0</td>\n",
              "      <td>NE</td>\n",
              "    </tr>\n",
              "    <tr>\n",
              "      <th>1</th>\n",
              "      <td>1</td>\n",
              "      <td>2019-01-01</td>\n",
              "      <td>2</td>\n",
              "      <td>ACO</td>\n",
              "      <td>218.0</td>\n",
              "      <td>NE</td>\n",
              "    </tr>\n",
              "    <tr>\n",
              "      <th>2</th>\n",
              "      <td>2</td>\n",
              "      <td>2019-01-01</td>\n",
              "      <td>3</td>\n",
              "      <td>ACO</td>\n",
              "      <td>240.0</td>\n",
              "      <td>NE</td>\n",
              "    </tr>\n",
              "    <tr>\n",
              "      <th>3</th>\n",
              "      <td>3</td>\n",
              "      <td>2019-01-01</td>\n",
              "      <td>4</td>\n",
              "      <td>ACO</td>\n",
              "      <td>231.0</td>\n",
              "      <td>NE</td>\n",
              "    </tr>\n",
              "    <tr>\n",
              "      <th>4</th>\n",
              "      <td>4</td>\n",
              "      <td>2019-01-01</td>\n",
              "      <td>5</td>\n",
              "      <td>ACO</td>\n",
              "      <td>216.0</td>\n",
              "      <td>NE</td>\n",
              "    </tr>\n",
              "  </tbody>\n",
              "</table>\n",
              "</div>"
            ],
            "text/plain": [
              "   index      FECHA  HORA station  measurement Zona\n",
              "0      0 2019-01-01     1     ACO        201.0   NE\n",
              "1      1 2019-01-01     2     ACO        218.0   NE\n",
              "2      2 2019-01-01     3     ACO        240.0   NE\n",
              "3      3 2019-01-01     4     ACO        231.0   NE\n",
              "4      4 2019-01-01     5     ACO        216.0   NE"
            ]
          },
          "metadata": {
            "tags": []
          },
          "execution_count": 99
        }
      ]
    },
    {
      "cell_type": "markdown",
      "metadata": {
        "id": "AvwoOP_Jqa-G"
      },
      "source": [
        "Con los datos válidos para realizar las operaciones siguientes y ya con la relación de cada estación con su respectiva zona de activación, se procede a calcular el promedio diario de concentración y el índice de calidad del aire en cada zona y en cada día"
      ]
    },
    {
      "cell_type": "markdown",
      "metadata": {
        "id": "sDrgFG3eTuLs"
      },
      "source": [
        "### Calculando el promedio diario\n",
        "Para el cálculo del promedio diario de $PM_{10}$ se utilizó la metodología descrita en la `NOM-025-SSA1-2014`, siguiendo la siguiente ecuación:\n",
        "\n",
        "$$\\bar{x}= \\frac{1}{n} \\displaystyle\\sum_{i=1}^n x_i$$\n",
        "$\\bar{x}:$ promedio de 24 horas, \n",
        "\n",
        "$n:$ número de concentraciones horarias válidas\n",
        "\n",
        "$x_i:$ concentraciones horarias válidas\n",
        "\n",
        "- Camo datos extra obteniendo los valores mínimos y máximos\n"
      ]
    },
    {
      "cell_type": "code",
      "metadata": {
        "colab": {
          "base_uri": "https://localhost:8080/",
          "height": 195
        },
        "id": "SCmwxuNrGLNu",
        "outputId": "a9131ab9-a600-4ad3-c5bb-09ec443a7c66"
      },
      "source": [
        "# Calculando promedio diario, contando numero de horas usadas, obteniendo el maximo y minimo para las visualizaciones en el módulo siguiente\n",
        "df_PM1024h = df_filtrado.groupby(['FECHA', 'Zona'], as_index=False).agg(\n",
        "            PromDiario=('measurement', lambda x: round(x.mean(),0)), \n",
        "            Max = ('measurement', 'max'),\n",
        "            Min = ('measurement', 'min'))\n",
        "df_PM1024h.head()"
      ],
      "execution_count": 100,
      "outputs": [
        {
          "output_type": "execute_result",
          "data": {
            "text/html": [
              "<div>\n",
              "<style scoped>\n",
              "    .dataframe tbody tr th:only-of-type {\n",
              "        vertical-align: middle;\n",
              "    }\n",
              "\n",
              "    .dataframe tbody tr th {\n",
              "        vertical-align: top;\n",
              "    }\n",
              "\n",
              "    .dataframe thead th {\n",
              "        text-align: right;\n",
              "    }\n",
              "</style>\n",
              "<table border=\"1\" class=\"dataframe\">\n",
              "  <thead>\n",
              "    <tr style=\"text-align: right;\">\n",
              "      <th></th>\n",
              "      <th>FECHA</th>\n",
              "      <th>Zona</th>\n",
              "      <th>PromDiario</th>\n",
              "      <th>Max</th>\n",
              "      <th>Min</th>\n",
              "    </tr>\n",
              "  </thead>\n",
              "  <tbody>\n",
              "    <tr>\n",
              "      <th>0</th>\n",
              "      <td>2019-01-01</td>\n",
              "      <td>CE</td>\n",
              "      <td>97.0</td>\n",
              "      <td>227.0</td>\n",
              "      <td>21.0</td>\n",
              "    </tr>\n",
              "    <tr>\n",
              "      <th>1</th>\n",
              "      <td>2019-01-01</td>\n",
              "      <td>NE</td>\n",
              "      <td>150.0</td>\n",
              "      <td>653.0</td>\n",
              "      <td>20.0</td>\n",
              "    </tr>\n",
              "    <tr>\n",
              "      <th>2</th>\n",
              "      <td>2019-01-01</td>\n",
              "      <td>NO</td>\n",
              "      <td>84.0</td>\n",
              "      <td>240.0</td>\n",
              "      <td>2.0</td>\n",
              "    </tr>\n",
              "    <tr>\n",
              "      <th>3</th>\n",
              "      <td>2019-01-01</td>\n",
              "      <td>SE</td>\n",
              "      <td>97.0</td>\n",
              "      <td>225.0</td>\n",
              "      <td>3.0</td>\n",
              "    </tr>\n",
              "    <tr>\n",
              "      <th>4</th>\n",
              "      <td>2019-01-01</td>\n",
              "      <td>SO</td>\n",
              "      <td>44.0</td>\n",
              "      <td>192.0</td>\n",
              "      <td>4.0</td>\n",
              "    </tr>\n",
              "  </tbody>\n",
              "</table>\n",
              "</div>"
            ],
            "text/plain": [
              "       FECHA Zona  PromDiario    Max   Min\n",
              "0 2019-01-01   CE        97.0  227.0  21.0\n",
              "1 2019-01-01   NE       150.0  653.0  20.0\n",
              "2 2019-01-01   NO        84.0  240.0   2.0\n",
              "3 2019-01-01   SE        97.0  225.0   3.0\n",
              "4 2019-01-01   SO        44.0  192.0   4.0"
            ]
          },
          "metadata": {
            "tags": []
          },
          "execution_count": 100
        }
      ]
    },
    {
      "cell_type": "markdown",
      "metadata": {
        "id": "R4_9JSfyZkvh"
      },
      "source": [
        "### Calculando Índice de calidad del aire\n",
        "\n",
        "Donde:\n",
        "$$\\text{Índice}= (k \\times (C - BP_{Lo}))+I_{Lo}$$\n",
        "$$k= \\frac{I_{Hi}-I_{Lo}}{BP_{Hi}-BP_{Lo}}$$\n",
        " \n",
        "$\\text{Índice}:$ Valor del índice para el contaminante deseado.<br>\n",
        "$C:$ valor redondeado para la concentración del contaminante.<br>\n",
        "$k:$ constante de proporcionalidad estimada.<br>\n",
        "$BP_{Hi}:$ valor del punto de corte que es mayor o igual a la concentración a evaluar.<br>\n",
        "$BP_{Lo}:$ valor del punto de corte que es menor o igual a la concentración a evaluar.<br>\n",
        "$I_{Hi}:$ valor del índice que corresponde al valor de $BP_{Hi}$<br>\n",
        "$I_{Lo}:$ valor del índice que corresponde al valor de $BP_{Lo}$<br>\n"
      ]
    },
    {
      "cell_type": "markdown",
      "metadata": {
        "id": "pd3XFqV6rhpm"
      },
      "source": [
        "Primero se crea una función que determine el índice de calidad del aire según la metodología y los valores de la tabla descrita en el apartado Metodología para los valores de los puntos de corte"
      ]
    },
    {
      "cell_type": "code",
      "metadata": {
        "id": "73uW9n8CGLNz"
      },
      "source": [
        "def AQI(df):\n",
        "    CP = df['PromDiario']\n",
        "    i = 0\n",
        "\n",
        "    if 0 <= CP <= 40:\n",
        "        k = (50-0)/(40-0)\n",
        "        i = k * (CP - 0) + 0\n",
        "    if 41 <= CP <= 75:\n",
        "        k = (100-51)/(75-41)\n",
        "        i = k * (CP - 41) + 51\n",
        "    if 76 <= CP <= 214:\n",
        "        k = (150-101)/(214-76)\n",
        "        i = k * (CP - 76) + 101\n",
        "    if 215 <= CP <= 354:\n",
        "        k = (200-151)/(354-215)\n",
        "        i = k * (CP - 215) + 151\n",
        "    if 355 <= CP <= 424:\n",
        "        k = (300-201)/(242-355)\n",
        "        i = k * (CP - 355) + 201\n",
        "    if 425 <= CP <= 504:\n",
        "        k = (400-301)/(504-425)\n",
        "        i = k * (CP - 425) + 301\n",
        "    if 505 <= CP <= 604:\n",
        "        k = (500-401)/(604-505)\n",
        "        i = k * (CP - 505) + 401\n",
        "    \n",
        "    return round(i, 3)"
      ],
      "execution_count": 101,
      "outputs": []
    },
    {
      "cell_type": "markdown",
      "metadata": {
        "id": "JNRcsgCirwy0"
      },
      "source": [
        "Luego se aplica la función para cada promedio diario calculado\r\n",
        "\r\n"
      ]
    },
    {
      "cell_type": "code",
      "metadata": {
        "colab": {
          "base_uri": "https://localhost:8080/",
          "height": 195
        },
        "id": "w46PGdaQGLN0",
        "outputId": "5b0fab61-eaa8-404a-c08c-01fd47ff689a"
      },
      "source": [
        "df_PM1024h['indice'] = df_PM1024h.apply(AQI, axis=1)\n",
        "df_PM1024h.head()"
      ],
      "execution_count": 102,
      "outputs": [
        {
          "output_type": "execute_result",
          "data": {
            "text/html": [
              "<div>\n",
              "<style scoped>\n",
              "    .dataframe tbody tr th:only-of-type {\n",
              "        vertical-align: middle;\n",
              "    }\n",
              "\n",
              "    .dataframe tbody tr th {\n",
              "        vertical-align: top;\n",
              "    }\n",
              "\n",
              "    .dataframe thead th {\n",
              "        text-align: right;\n",
              "    }\n",
              "</style>\n",
              "<table border=\"1\" class=\"dataframe\">\n",
              "  <thead>\n",
              "    <tr style=\"text-align: right;\">\n",
              "      <th></th>\n",
              "      <th>FECHA</th>\n",
              "      <th>Zona</th>\n",
              "      <th>PromDiario</th>\n",
              "      <th>Max</th>\n",
              "      <th>Min</th>\n",
              "      <th>indice</th>\n",
              "    </tr>\n",
              "  </thead>\n",
              "  <tbody>\n",
              "    <tr>\n",
              "      <th>0</th>\n",
              "      <td>2019-01-01</td>\n",
              "      <td>CE</td>\n",
              "      <td>97.0</td>\n",
              "      <td>227.0</td>\n",
              "      <td>21.0</td>\n",
              "      <td>108.457</td>\n",
              "    </tr>\n",
              "    <tr>\n",
              "      <th>1</th>\n",
              "      <td>2019-01-01</td>\n",
              "      <td>NE</td>\n",
              "      <td>150.0</td>\n",
              "      <td>653.0</td>\n",
              "      <td>20.0</td>\n",
              "      <td>127.275</td>\n",
              "    </tr>\n",
              "    <tr>\n",
              "      <th>2</th>\n",
              "      <td>2019-01-01</td>\n",
              "      <td>NO</td>\n",
              "      <td>84.0</td>\n",
              "      <td>240.0</td>\n",
              "      <td>2.0</td>\n",
              "      <td>103.841</td>\n",
              "    </tr>\n",
              "    <tr>\n",
              "      <th>3</th>\n",
              "      <td>2019-01-01</td>\n",
              "      <td>SE</td>\n",
              "      <td>97.0</td>\n",
              "      <td>225.0</td>\n",
              "      <td>3.0</td>\n",
              "      <td>108.457</td>\n",
              "    </tr>\n",
              "    <tr>\n",
              "      <th>4</th>\n",
              "      <td>2019-01-01</td>\n",
              "      <td>SO</td>\n",
              "      <td>44.0</td>\n",
              "      <td>192.0</td>\n",
              "      <td>4.0</td>\n",
              "      <td>55.324</td>\n",
              "    </tr>\n",
              "  </tbody>\n",
              "</table>\n",
              "</div>"
            ],
            "text/plain": [
              "       FECHA Zona  PromDiario    Max   Min   indice\n",
              "0 2019-01-01   CE        97.0  227.0  21.0  108.457\n",
              "1 2019-01-01   NE       150.0  653.0  20.0  127.275\n",
              "2 2019-01-01   NO        84.0  240.0   2.0  103.841\n",
              "3 2019-01-01   SE        97.0  225.0   3.0  108.457\n",
              "4 2019-01-01   SO        44.0  192.0   4.0   55.324"
            ]
          },
          "metadata": {
            "tags": []
          },
          "execution_count": 102
        }
      ]
    },
    {
      "cell_type": "markdown",
      "metadata": {
        "id": "BnsYKg22r350"
      },
      "source": [
        "Con el índice de calidad del aire, se crea otra función para determinar la categoría de calidad del aire descrita por la norma mexicana."
      ]
    },
    {
      "cell_type": "code",
      "metadata": {
        "id": "3D1rFHsvhZ73"
      },
      "source": [
        "def AQI_categoria(df):\r\n",
        "    indice = df['indice']\r\n",
        "    if indice <= 50:\r\n",
        "      clase='Buena'\r\n",
        "    elif indice <= 100:\r\n",
        "      clase='Regular'\r\n",
        "    elif indice <= 150:\r\n",
        "      clase= 'Mala'\r\n",
        "    elif indice <= '200':\r\n",
        "      clase = 'Muy mala'\r\n",
        "    else: \r\n",
        "      clase = 'Extremadamente mala'\r\n",
        "    \r\n",
        "    return clase"
      ],
      "execution_count": 85,
      "outputs": []
    },
    {
      "cell_type": "markdown",
      "metadata": {
        "id": "V3_jj-RKsIjV"
      },
      "source": [
        "Se aplica la función para determinar la categoría a cada promedio diario calculado."
      ]
    },
    {
      "cell_type": "code",
      "metadata": {
        "colab": {
          "base_uri": "https://localhost:8080/",
          "height": 195
        },
        "id": "MKh485wfjCP8",
        "outputId": "7286da83-3a96-4a50-d7d1-d8477ae2e421"
      },
      "source": [
        "df_PM1024h['clase'] = df_PM1024h.apply(AQI_categoria, axis=1)\r\n",
        "df_PM1024h.head()"
      ],
      "execution_count": 103,
      "outputs": [
        {
          "output_type": "execute_result",
          "data": {
            "text/html": [
              "<div>\n",
              "<style scoped>\n",
              "    .dataframe tbody tr th:only-of-type {\n",
              "        vertical-align: middle;\n",
              "    }\n",
              "\n",
              "    .dataframe tbody tr th {\n",
              "        vertical-align: top;\n",
              "    }\n",
              "\n",
              "    .dataframe thead th {\n",
              "        text-align: right;\n",
              "    }\n",
              "</style>\n",
              "<table border=\"1\" class=\"dataframe\">\n",
              "  <thead>\n",
              "    <tr style=\"text-align: right;\">\n",
              "      <th></th>\n",
              "      <th>FECHA</th>\n",
              "      <th>Zona</th>\n",
              "      <th>PromDiario</th>\n",
              "      <th>Max</th>\n",
              "      <th>Min</th>\n",
              "      <th>indice</th>\n",
              "      <th>clase</th>\n",
              "    </tr>\n",
              "  </thead>\n",
              "  <tbody>\n",
              "    <tr>\n",
              "      <th>0</th>\n",
              "      <td>2019-01-01</td>\n",
              "      <td>CE</td>\n",
              "      <td>97.0</td>\n",
              "      <td>227.0</td>\n",
              "      <td>21.0</td>\n",
              "      <td>108.457</td>\n",
              "      <td>Mala</td>\n",
              "    </tr>\n",
              "    <tr>\n",
              "      <th>1</th>\n",
              "      <td>2019-01-01</td>\n",
              "      <td>NE</td>\n",
              "      <td>150.0</td>\n",
              "      <td>653.0</td>\n",
              "      <td>20.0</td>\n",
              "      <td>127.275</td>\n",
              "      <td>Mala</td>\n",
              "    </tr>\n",
              "    <tr>\n",
              "      <th>2</th>\n",
              "      <td>2019-01-01</td>\n",
              "      <td>NO</td>\n",
              "      <td>84.0</td>\n",
              "      <td>240.0</td>\n",
              "      <td>2.0</td>\n",
              "      <td>103.841</td>\n",
              "      <td>Mala</td>\n",
              "    </tr>\n",
              "    <tr>\n",
              "      <th>3</th>\n",
              "      <td>2019-01-01</td>\n",
              "      <td>SE</td>\n",
              "      <td>97.0</td>\n",
              "      <td>225.0</td>\n",
              "      <td>3.0</td>\n",
              "      <td>108.457</td>\n",
              "      <td>Mala</td>\n",
              "    </tr>\n",
              "    <tr>\n",
              "      <th>4</th>\n",
              "      <td>2019-01-01</td>\n",
              "      <td>SO</td>\n",
              "      <td>44.0</td>\n",
              "      <td>192.0</td>\n",
              "      <td>4.0</td>\n",
              "      <td>55.324</td>\n",
              "      <td>Regular</td>\n",
              "    </tr>\n",
              "  </tbody>\n",
              "</table>\n",
              "</div>"
            ],
            "text/plain": [
              "       FECHA Zona  PromDiario    Max   Min   indice    clase\n",
              "0 2019-01-01   CE        97.0  227.0  21.0  108.457     Mala\n",
              "1 2019-01-01   NE       150.0  653.0  20.0  127.275     Mala\n",
              "2 2019-01-01   NO        84.0  240.0   2.0  103.841     Mala\n",
              "3 2019-01-01   SE        97.0  225.0   3.0  108.457     Mala\n",
              "4 2019-01-01   SO        44.0  192.0   4.0   55.324  Regular"
            ]
          },
          "metadata": {
            "tags": []
          },
          "execution_count": 103
        }
      ]
    },
    {
      "cell_type": "markdown",
      "metadata": {
        "id": "2wl5w6jXsTUi"
      },
      "source": [
        "Se guardan los resultados en un csv"
      ]
    },
    {
      "cell_type": "code",
      "metadata": {
        "id": "2KKKFFuvc3vi"
      },
      "source": [
        "data_PM1024h.to_csv('../Datasets/PM10/PDEstacion_PM10.csv', index=False)"
      ],
      "execution_count": null,
      "outputs": []
    }
  ]
}