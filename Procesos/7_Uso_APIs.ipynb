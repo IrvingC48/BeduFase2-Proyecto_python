{
 "metadata": {
  "language_info": {
   "codemirror_mode": {
    "name": "ipython",
    "version": 3
   },
   "file_extension": ".py",
   "mimetype": "text/x-python",
   "name": "python",
   "nbconvert_exporter": "python",
   "pygments_lexer": "ipython3",
   "version": "3.9.2-final"
  },
  "orig_nbformat": 2,
  "kernelspec": {
   "name": "python3",
   "display_name": "Python 3.9.2 64-bit",
   "metadata": {
    "interpreter": {
     "hash": "d0851c8d918f9ad433d63dff71dbacbe17259539d55e689a7d9cbf48e3dba898"
    }
   }
  }
 },
 "nbformat": 4,
 "nbformat_minor": 2,
 "cells": [
  {
   "source": [
    "# Uso de APIs\n",
    "\n",
    "## OBJETIVO \n",
    "\n",
    "- Practicar el uso de APIs y peticiones HTTP."
   ],
   "cell_type": "markdown",
   "metadata": {}
  },
  {
   "source": [
    "El uso de una `API` para la obtención de datos no fue posible ya que actualmente no hay una API oficial, solo datasets que se pueden obtener el la página de Calidad de Aire de la Ciudad de México.\n",
    "\n",
    "Con fines didácticos nosotros procedimos a realizar una pequeña API muy sencilla de los datasets obtenidos en dicha página, para poder aplicar lo aprendido en las sesiones de nuestro módulo de python.\n",
    "\n",
    "Para realizar una consulta tenemos que visitar la siguiente dirección: http://34.73.220.231/\n",
    "\n",
    "En la dirección anterior se documentó una serie de endpoints que sirven para obtener diferentes consultas de datos, como datos por año de una de las partículas ($PM_{10}$ o $PM_{2.5}$).\n"
   ],
   "cell_type": "markdown",
   "metadata": {}
  },
  {
   "source": [
    "## Conexión a la API\n",
    "\n",
    "Para conectarnos a nuestra API, utilizaremos las siguientes librerias:"
   ],
   "cell_type": "markdown",
   "metadata": {}
  },
  {
   "cell_type": "code",
   "execution_count": 1,
   "metadata": {},
   "outputs": [],
   "source": [
    "import requests as res\n",
    "import pandas as pd"
   ]
  },
  {
   "source": [
    "Indicamos nuestro endpoint, y para está API no se requiere un diccionario de parámetros, ya que no solicita una Key.  \n",
    "Envíamos nuestro get con el endpoint generado, y leemos el estatus de nuestro objeto de respuesta:  \n",
    "\n",
    "Con esto, confirmamos que nuestra conexión fue exitosa"
   ],
   "cell_type": "markdown",
   "metadata": {}
  },
  {
   "cell_type": "code",
   "execution_count": 2,
   "metadata": {},
   "outputs": [
    {
     "output_type": "execute_result",
     "data": {
      "text/plain": [
       "200"
      ]
     },
     "metadata": {},
     "execution_count": 2
    }
   ],
   "source": [
    "endpoint = 'http://34.73.220.231/api/dpmdiez/primer_año_all'\n",
    "r = res.get(endpoint)\n",
    "r.status_code"
   ]
  },
  {
   "source": [
    "Directamente nuestra `data` es una lista de diccionarios que contiene los datos que queremos utilizar. \n",
    "\n",
    "Lo convertimos en un `DataFrame`, y verificamos el `head`:"
   ],
   "cell_type": "markdown",
   "metadata": {}
  },
  {
   "cell_type": "code",
   "execution_count": 3,
   "metadata": {},
   "outputs": [
    {
     "output_type": "execute_result",
     "data": {
      "text/plain": [
       "        FECHA HORA  ACO AJM  ATI  BJU  CAM  CHO  CUA  CUT  ...  SAC  SAG SFE  \\\n",
       "0  01/01/2019    1  201  39  105   84  120  119  113  149  ...  -99  149  50   \n",
       "1  01/01/2019    2  218  27  128  115  135  241  158  211  ...  -99  149  54   \n",
       "2  01/01/2019    3  240  20   93  134  177  274  192  214  ...  -99  152  65   \n",
       "3  01/01/2019    4  231  10   86  124  204  294  143  178  ...  -99  217  33   \n",
       "4  01/01/2019    5  216   7   68  143  162  254  123  234  ...  -99  242  29   \n",
       "\n",
       "   TAH TLA  TLI  UIZ  VIF  XAL                  _id.$oid  \n",
       "0  191  78  -99  129  280  155  603aa50a5e3c561998e01aad  \n",
       "1  225  73  -99  125  257  236  603aa50a5e3c561998e01aae  \n",
       "2  185  80  -99  132  509  337  603aa50a5e3c561998e01aaf  \n",
       "3  172  84  -99  136  611  271  603aa50a5e3c561998e01ab0  \n",
       "4   83  63  -99  191  653  226  603aa50a5e3c561998e01ab1  \n",
       "\n",
       "[5 rows x 30 columns]"
      ],
      "text/html": "<div>\n<style scoped>\n    .dataframe tbody tr th:only-of-type {\n        vertical-align: middle;\n    }\n\n    .dataframe tbody tr th {\n        vertical-align: top;\n    }\n\n    .dataframe thead th {\n        text-align: right;\n    }\n</style>\n<table border=\"1\" class=\"dataframe\">\n  <thead>\n    <tr style=\"text-align: right;\">\n      <th></th>\n      <th>FECHA</th>\n      <th>HORA</th>\n      <th>ACO</th>\n      <th>AJM</th>\n      <th>ATI</th>\n      <th>BJU</th>\n      <th>CAM</th>\n      <th>CHO</th>\n      <th>CUA</th>\n      <th>CUT</th>\n      <th>...</th>\n      <th>SAC</th>\n      <th>SAG</th>\n      <th>SFE</th>\n      <th>TAH</th>\n      <th>TLA</th>\n      <th>TLI</th>\n      <th>UIZ</th>\n      <th>VIF</th>\n      <th>XAL</th>\n      <th>_id.$oid</th>\n    </tr>\n  </thead>\n  <tbody>\n    <tr>\n      <th>0</th>\n      <td>01/01/2019</td>\n      <td>1</td>\n      <td>201</td>\n      <td>39</td>\n      <td>105</td>\n      <td>84</td>\n      <td>120</td>\n      <td>119</td>\n      <td>113</td>\n      <td>149</td>\n      <td>...</td>\n      <td>-99</td>\n      <td>149</td>\n      <td>50</td>\n      <td>191</td>\n      <td>78</td>\n      <td>-99</td>\n      <td>129</td>\n      <td>280</td>\n      <td>155</td>\n      <td>603aa50a5e3c561998e01aad</td>\n    </tr>\n    <tr>\n      <th>1</th>\n      <td>01/01/2019</td>\n      <td>2</td>\n      <td>218</td>\n      <td>27</td>\n      <td>128</td>\n      <td>115</td>\n      <td>135</td>\n      <td>241</td>\n      <td>158</td>\n      <td>211</td>\n      <td>...</td>\n      <td>-99</td>\n      <td>149</td>\n      <td>54</td>\n      <td>225</td>\n      <td>73</td>\n      <td>-99</td>\n      <td>125</td>\n      <td>257</td>\n      <td>236</td>\n      <td>603aa50a5e3c561998e01aae</td>\n    </tr>\n    <tr>\n      <th>2</th>\n      <td>01/01/2019</td>\n      <td>3</td>\n      <td>240</td>\n      <td>20</td>\n      <td>93</td>\n      <td>134</td>\n      <td>177</td>\n      <td>274</td>\n      <td>192</td>\n      <td>214</td>\n      <td>...</td>\n      <td>-99</td>\n      <td>152</td>\n      <td>65</td>\n      <td>185</td>\n      <td>80</td>\n      <td>-99</td>\n      <td>132</td>\n      <td>509</td>\n      <td>337</td>\n      <td>603aa50a5e3c561998e01aaf</td>\n    </tr>\n    <tr>\n      <th>3</th>\n      <td>01/01/2019</td>\n      <td>4</td>\n      <td>231</td>\n      <td>10</td>\n      <td>86</td>\n      <td>124</td>\n      <td>204</td>\n      <td>294</td>\n      <td>143</td>\n      <td>178</td>\n      <td>...</td>\n      <td>-99</td>\n      <td>217</td>\n      <td>33</td>\n      <td>172</td>\n      <td>84</td>\n      <td>-99</td>\n      <td>136</td>\n      <td>611</td>\n      <td>271</td>\n      <td>603aa50a5e3c561998e01ab0</td>\n    </tr>\n    <tr>\n      <th>4</th>\n      <td>01/01/2019</td>\n      <td>5</td>\n      <td>216</td>\n      <td>7</td>\n      <td>68</td>\n      <td>143</td>\n      <td>162</td>\n      <td>254</td>\n      <td>123</td>\n      <td>234</td>\n      <td>...</td>\n      <td>-99</td>\n      <td>242</td>\n      <td>29</td>\n      <td>83</td>\n      <td>63</td>\n      <td>-99</td>\n      <td>191</td>\n      <td>653</td>\n      <td>226</td>\n      <td>603aa50a5e3c561998e01ab1</td>\n    </tr>\n  </tbody>\n</table>\n<p>5 rows × 30 columns</p>\n</div>"
     },
     "metadata": {},
     "execution_count": 3
    }
   ],
   "source": [
    "json = r.json()\n",
    "normalized = pd.json_normalize(json)\n",
    "df = pd.DataFrame.from_dict(normalized)\n",
    "df.head()"
   ]
  },
  {
   "source": [
    "Por último, cerramos nuestra conexión a la API"
   ],
   "cell_type": "markdown",
   "metadata": {}
  },
  {
   "cell_type": "code",
   "execution_count": 4,
   "metadata": {},
   "outputs": [],
   "source": [
    "r.connection.close()"
   ]
  },
  {
   "source": [
    "Y de esta manera, aplicamos en un pequeño ejemplo el consumo de la `API` que contiene nuestros `datasets` originales "
   ],
   "cell_type": "markdown",
   "metadata": {}
  }
 ]
}