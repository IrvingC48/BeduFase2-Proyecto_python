{
  "nbformat": 4,
  "nbformat_minor": 0,
  "metadata": {
    "colab": {
      "name": "6.2_Transformacion_PM2.5_respaldo.ipynb",
      "provenance": [],
      "collapsed_sections": []
    },
    "kernelspec": {
      "name": "python3",
      "display_name": "Python 3.9.2 64-bit",
      "metadata": {
        "interpreter": {
          "hash": "d0851c8d918f9ad433d63dff71dbacbe17259539d55e689a7d9cbf48e3dba898"
        }
      }
    }
  },
  "cells": [
    {
      "cell_type": "markdown",
      "metadata": {
        "id": "QNFa2NCHk-pq"
      },
      "source": [
        "# Promedio Diario $PM_{2.5}$\n",
        "\n",
        "Para nuestra transformación de datos, utilizaremos las siguientes librerias:\n"
      ]
    },
    {
      "cell_type": "code",
      "metadata": {
        "id": "l87p-m-xkFkE"
      },
      "source": [
        "import pandas as pd\n",
        "import numpy as np"
      ],
      "execution_count": 1,
      "outputs": []
    },
    {
      "cell_type": "markdown",
      "metadata": {
        "id": "CIg80lodlijH"
      },
      "source": [
        "- Cargando dataset a un DataFrame de pandas\r\n",
        "- Posteriormente normalizando la columna `Fecha` a tipo `datetime`"
      ]
    },
    {
      "cell_type": "code",
      "metadata": {
        "colab": {
          "base_uri": "https://localhost:8080/",
          "height": 195
        },
        "id": "71xK0YhikFkG",
        "outputId": "eb4a0539-9bba-4198-db82-9857396ee5de"
      },
      "source": [
        "#Cargando archivos\n",
        "df = pd.read_csv('../Datasets/PM2.5/PM25_depurado.csv')\n",
        "\n",
        "# Normalizando fechas\n",
        "df['FECHA'] = pd.to_datetime(df['FECHA'], unit='ns')\n",
        "df.head()"
      ],
      "execution_count": 2,
      "outputs": [
        {
          "output_type": "execute_result",
          "data": {
            "text/plain": [
              "   Unnamed: 0      FECHA  HORA   AJM   AJU    BJU    CAM   CCA  FAR  GAM  ...  \\\n",
              "0           0 2019-01-01     1  19.0  35.0   62.0   90.0  66.0  NaN  NaN  ...   \n",
              "1           1 2019-01-01     2  17.0  24.0   88.0  104.0  84.0  NaN  NaN  ...   \n",
              "2           2 2019-01-01     3  14.0  20.0  107.0  140.0  95.0  NaN  NaN  ...   \n",
              "3           3 2019-01-01     4   6.0  15.0  101.0  162.0  97.0  NaN  NaN  ...   \n",
              "4           4 2019-01-01     5   4.0   8.0  121.0  133.0  88.0  NaN  NaN  ...   \n",
              "\n",
              "     MON    NEZ  PED  SAC    SAG   SFE   TLA    UAX    UIZ    XAL  \n",
              "0  102.0  133.0  NaN  NaN   92.0  33.0  55.0   74.0   99.0   96.0  \n",
              "1  108.0  164.0  NaN  NaN  100.0  40.0  52.0  115.0   99.0  164.0  \n",
              "2  125.0  206.0  NaN  NaN  104.0  52.0  59.0  150.0  109.0  249.0  \n",
              "3   92.0  273.0  NaN  NaN  144.0  25.0  58.0  180.0  112.0  200.0  \n",
              "4   84.0  291.0  NaN  NaN  171.0  21.0  46.0  167.0  164.0  161.0  \n",
              "\n",
              "[5 rows x 23 columns]"
            ],
            "text/html": "<div>\n<style scoped>\n    .dataframe tbody tr th:only-of-type {\n        vertical-align: middle;\n    }\n\n    .dataframe tbody tr th {\n        vertical-align: top;\n    }\n\n    .dataframe thead th {\n        text-align: right;\n    }\n</style>\n<table border=\"1\" class=\"dataframe\">\n  <thead>\n    <tr style=\"text-align: right;\">\n      <th></th>\n      <th>Unnamed: 0</th>\n      <th>FECHA</th>\n      <th>HORA</th>\n      <th>AJM</th>\n      <th>AJU</th>\n      <th>BJU</th>\n      <th>CAM</th>\n      <th>CCA</th>\n      <th>FAR</th>\n      <th>GAM</th>\n      <th>...</th>\n      <th>MON</th>\n      <th>NEZ</th>\n      <th>PED</th>\n      <th>SAC</th>\n      <th>SAG</th>\n      <th>SFE</th>\n      <th>TLA</th>\n      <th>UAX</th>\n      <th>UIZ</th>\n      <th>XAL</th>\n    </tr>\n  </thead>\n  <tbody>\n    <tr>\n      <th>0</th>\n      <td>0</td>\n      <td>2019-01-01</td>\n      <td>1</td>\n      <td>19.0</td>\n      <td>35.0</td>\n      <td>62.0</td>\n      <td>90.0</td>\n      <td>66.0</td>\n      <td>NaN</td>\n      <td>NaN</td>\n      <td>...</td>\n      <td>102.0</td>\n      <td>133.0</td>\n      <td>NaN</td>\n      <td>NaN</td>\n      <td>92.0</td>\n      <td>33.0</td>\n      <td>55.0</td>\n      <td>74.0</td>\n      <td>99.0</td>\n      <td>96.0</td>\n    </tr>\n    <tr>\n      <th>1</th>\n      <td>1</td>\n      <td>2019-01-01</td>\n      <td>2</td>\n      <td>17.0</td>\n      <td>24.0</td>\n      <td>88.0</td>\n      <td>104.0</td>\n      <td>84.0</td>\n      <td>NaN</td>\n      <td>NaN</td>\n      <td>...</td>\n      <td>108.0</td>\n      <td>164.0</td>\n      <td>NaN</td>\n      <td>NaN</td>\n      <td>100.0</td>\n      <td>40.0</td>\n      <td>52.0</td>\n      <td>115.0</td>\n      <td>99.0</td>\n      <td>164.0</td>\n    </tr>\n    <tr>\n      <th>2</th>\n      <td>2</td>\n      <td>2019-01-01</td>\n      <td>3</td>\n      <td>14.0</td>\n      <td>20.0</td>\n      <td>107.0</td>\n      <td>140.0</td>\n      <td>95.0</td>\n      <td>NaN</td>\n      <td>NaN</td>\n      <td>...</td>\n      <td>125.0</td>\n      <td>206.0</td>\n      <td>NaN</td>\n      <td>NaN</td>\n      <td>104.0</td>\n      <td>52.0</td>\n      <td>59.0</td>\n      <td>150.0</td>\n      <td>109.0</td>\n      <td>249.0</td>\n    </tr>\n    <tr>\n      <th>3</th>\n      <td>3</td>\n      <td>2019-01-01</td>\n      <td>4</td>\n      <td>6.0</td>\n      <td>15.0</td>\n      <td>101.0</td>\n      <td>162.0</td>\n      <td>97.0</td>\n      <td>NaN</td>\n      <td>NaN</td>\n      <td>...</td>\n      <td>92.0</td>\n      <td>273.0</td>\n      <td>NaN</td>\n      <td>NaN</td>\n      <td>144.0</td>\n      <td>25.0</td>\n      <td>58.0</td>\n      <td>180.0</td>\n      <td>112.0</td>\n      <td>200.0</td>\n    </tr>\n    <tr>\n      <th>4</th>\n      <td>4</td>\n      <td>2019-01-01</td>\n      <td>5</td>\n      <td>4.0</td>\n      <td>8.0</td>\n      <td>121.0</td>\n      <td>133.0</td>\n      <td>88.0</td>\n      <td>NaN</td>\n      <td>NaN</td>\n      <td>...</td>\n      <td>84.0</td>\n      <td>291.0</td>\n      <td>NaN</td>\n      <td>NaN</td>\n      <td>171.0</td>\n      <td>21.0</td>\n      <td>46.0</td>\n      <td>167.0</td>\n      <td>164.0</td>\n      <td>161.0</td>\n    </tr>\n  </tbody>\n</table>\n<p>5 rows × 23 columns</p>\n</div>"
          },
          "metadata": {},
          "execution_count": 2
        }
      ]
    },
    {
      "cell_type": "markdown",
      "metadata": {
        "id": "1Zi5Jvir4lah"
      },
      "source": [
        "Posteriormente, se filtran los datos por los meses de interés, que son marzo, abril y mayo. Primeramente se crea el rango de fechas de interés y luego éste se utiliza para filtrar el dataset"
      ]
    },
    {
      "cell_type": "code",
      "metadata": {
        "id": "VzPlW_Yw4mdZ"
      },
      "source": [
        "date_rng = pd.date_range(start='2019/03/01', end='2019/05/31', freq='d')#Rango en 2019\r\n",
        "date_rng2= pd.date_range(start='2020/03/01', end='2020/05/31', freq='d') #Rango en 2020\r\n",
        "date_rng= date_rng.append(date_rng2) #unión de rangos"
      ],
      "execution_count": 3,
      "outputs": []
    },
    {
      "cell_type": "code",
      "metadata": {
        "colab": {
          "base_uri": "https://localhost:8080/",
          "height": 195
        },
        "id": "GimMdgo64oxH",
        "outputId": "1ba0c0a9-17ae-4b0d-8090-f9966faca11d"
      },
      "source": [
        "df=df[df[\"FECHA\"].isin(date_rng)]\r\n",
        "df.head()"
      ],
      "execution_count": 4,
      "outputs": [
        {
          "output_type": "execute_result",
          "data": {
            "text/plain": [
              "    Unnamed: 0      FECHA  HORA   AJM  AJU   BJU   CAM   CCA  FAR   GAM  ...  \\\n",
              "48          48 2019-03-01     1   8.0  1.0  12.0  14.0  12.0  NaN  34.0  ...   \n",
              "49          49 2019-03-01     2  19.0  4.0  14.0  13.0  11.0  NaN  31.0  ...   \n",
              "50          50 2019-03-01     3  29.0  3.0  11.0  12.0  15.0  NaN  35.0  ...   \n",
              "51          51 2019-03-01     4  28.0  6.0  22.0  17.0  18.0  NaN  40.0  ...   \n",
              "52          52 2019-03-01     5  26.0  3.0  18.0  24.0  18.0  NaN  41.0  ...   \n",
              "\n",
              "     MON   NEZ  PED  SAC   SAG   SFE   TLA   UAX   UIZ   XAL  \n",
              "48  12.0  31.0  NaN  NaN  40.0   5.0  18.0  27.0  17.0  46.0  \n",
              "49   7.0  35.0  NaN  NaN  44.0  12.0  33.0  27.0  26.0  51.0  \n",
              "50  13.0  30.0  NaN  NaN  44.0  16.0  35.0  37.0  29.0  54.0  \n",
              "51  18.0  32.0  NaN  NaN  30.0  27.0  13.0  29.0  29.0  54.0  \n",
              "52  14.0  34.0  NaN  NaN  33.0  17.0  14.0  17.0  24.0  62.0  \n",
              "\n",
              "[5 rows x 23 columns]"
            ],
            "text/html": "<div>\n<style scoped>\n    .dataframe tbody tr th:only-of-type {\n        vertical-align: middle;\n    }\n\n    .dataframe tbody tr th {\n        vertical-align: top;\n    }\n\n    .dataframe thead th {\n        text-align: right;\n    }\n</style>\n<table border=\"1\" class=\"dataframe\">\n  <thead>\n    <tr style=\"text-align: right;\">\n      <th></th>\n      <th>Unnamed: 0</th>\n      <th>FECHA</th>\n      <th>HORA</th>\n      <th>AJM</th>\n      <th>AJU</th>\n      <th>BJU</th>\n      <th>CAM</th>\n      <th>CCA</th>\n      <th>FAR</th>\n      <th>GAM</th>\n      <th>...</th>\n      <th>MON</th>\n      <th>NEZ</th>\n      <th>PED</th>\n      <th>SAC</th>\n      <th>SAG</th>\n      <th>SFE</th>\n      <th>TLA</th>\n      <th>UAX</th>\n      <th>UIZ</th>\n      <th>XAL</th>\n    </tr>\n  </thead>\n  <tbody>\n    <tr>\n      <th>48</th>\n      <td>48</td>\n      <td>2019-03-01</td>\n      <td>1</td>\n      <td>8.0</td>\n      <td>1.0</td>\n      <td>12.0</td>\n      <td>14.0</td>\n      <td>12.0</td>\n      <td>NaN</td>\n      <td>34.0</td>\n      <td>...</td>\n      <td>12.0</td>\n      <td>31.0</td>\n      <td>NaN</td>\n      <td>NaN</td>\n      <td>40.0</td>\n      <td>5.0</td>\n      <td>18.0</td>\n      <td>27.0</td>\n      <td>17.0</td>\n      <td>46.0</td>\n    </tr>\n    <tr>\n      <th>49</th>\n      <td>49</td>\n      <td>2019-03-01</td>\n      <td>2</td>\n      <td>19.0</td>\n      <td>4.0</td>\n      <td>14.0</td>\n      <td>13.0</td>\n      <td>11.0</td>\n      <td>NaN</td>\n      <td>31.0</td>\n      <td>...</td>\n      <td>7.0</td>\n      <td>35.0</td>\n      <td>NaN</td>\n      <td>NaN</td>\n      <td>44.0</td>\n      <td>12.0</td>\n      <td>33.0</td>\n      <td>27.0</td>\n      <td>26.0</td>\n      <td>51.0</td>\n    </tr>\n    <tr>\n      <th>50</th>\n      <td>50</td>\n      <td>2019-03-01</td>\n      <td>3</td>\n      <td>29.0</td>\n      <td>3.0</td>\n      <td>11.0</td>\n      <td>12.0</td>\n      <td>15.0</td>\n      <td>NaN</td>\n      <td>35.0</td>\n      <td>...</td>\n      <td>13.0</td>\n      <td>30.0</td>\n      <td>NaN</td>\n      <td>NaN</td>\n      <td>44.0</td>\n      <td>16.0</td>\n      <td>35.0</td>\n      <td>37.0</td>\n      <td>29.0</td>\n      <td>54.0</td>\n    </tr>\n    <tr>\n      <th>51</th>\n      <td>51</td>\n      <td>2019-03-01</td>\n      <td>4</td>\n      <td>28.0</td>\n      <td>6.0</td>\n      <td>22.0</td>\n      <td>17.0</td>\n      <td>18.0</td>\n      <td>NaN</td>\n      <td>40.0</td>\n      <td>...</td>\n      <td>18.0</td>\n      <td>32.0</td>\n      <td>NaN</td>\n      <td>NaN</td>\n      <td>30.0</td>\n      <td>27.0</td>\n      <td>13.0</td>\n      <td>29.0</td>\n      <td>29.0</td>\n      <td>54.0</td>\n    </tr>\n    <tr>\n      <th>52</th>\n      <td>52</td>\n      <td>2019-03-01</td>\n      <td>5</td>\n      <td>26.0</td>\n      <td>3.0</td>\n      <td>18.0</td>\n      <td>24.0</td>\n      <td>18.0</td>\n      <td>NaN</td>\n      <td>41.0</td>\n      <td>...</td>\n      <td>14.0</td>\n      <td>34.0</td>\n      <td>NaN</td>\n      <td>NaN</td>\n      <td>33.0</td>\n      <td>17.0</td>\n      <td>14.0</td>\n      <td>17.0</td>\n      <td>24.0</td>\n      <td>62.0</td>\n    </tr>\n  </tbody>\n</table>\n<p>5 rows × 23 columns</p>\n</div>"
          },
          "metadata": {},
          "execution_count": 4
        }
      ]
    },
    {
      "cell_type": "markdown",
      "metadata": {
        "id": "HbciN4YvnU2Y"
      },
      "source": [
        "- Reacomodo del DataFrame , donde ahora tendremos una columna para las estaciones y sus correspondientes datos de medición\n",
        "- Eliminando los datos `NaN`\n",
        "- Comprobando que no queden datos `NaN` en el DataFrame"
      ]
    },
    {
      "cell_type": "code",
      "metadata": {
        "colab": {
          "base_uri": "https://localhost:8080/",
          "height": 296
        },
        "id": "XRTJlvbHkFkI",
        "outputId": "fed6d556-9c98-4363-c210-559ffb882922"
      },
      "source": [
        "# Extraer nombre de columnas\n",
        "cols = df.columns.tolist()\n",
        "\n",
        "# Reacomodando dataframe\n",
        "df = pd.melt(df, id_vars=['FECHA', 'HORA'], value_vars=cols[3:], var_name='station', value_name='measurement')\n",
        "\n",
        "# df = df[~df['measurement'].isna()]\n",
        "df = df.dropna(axis=0, how='any').reset_index(drop=True)\n",
        "\n",
        "print(\"No. de columnas que contienen valores nulos \")\n",
        "print(len(df.columns[df.isna().any()]))\n",
        "\n",
        "print(\"No. de columnas que no contienen valores nulos\")\n",
        "print(len(df.columns[df.notna().all()]))\n",
        "\n",
        "print(\"No total de columnas en el dataframe\")\n",
        "print(len(df.columns))\n",
        "df.head()"
      ],
      "execution_count": 5,
      "outputs": [
        {
          "output_type": "stream",
          "name": "stdout",
          "text": [
            "No. de columnas que contienen valores nulos \n0\nNo. de columnas que no contienen valores nulos\n4\nNo total de columnas en el dataframe\n4\n"
          ]
        },
        {
          "output_type": "execute_result",
          "data": {
            "text/plain": [
              "       FECHA  HORA station  measurement\n",
              "0 2019-03-01     1     AJM          8.0\n",
              "1 2019-03-01     2     AJM         19.0\n",
              "2 2019-03-01     3     AJM         29.0\n",
              "3 2019-03-01     4     AJM         28.0\n",
              "4 2019-03-01     5     AJM         26.0"
            ],
            "text/html": "<div>\n<style scoped>\n    .dataframe tbody tr th:only-of-type {\n        vertical-align: middle;\n    }\n\n    .dataframe tbody tr th {\n        vertical-align: top;\n    }\n\n    .dataframe thead th {\n        text-align: right;\n    }\n</style>\n<table border=\"1\" class=\"dataframe\">\n  <thead>\n    <tr style=\"text-align: right;\">\n      <th></th>\n      <th>FECHA</th>\n      <th>HORA</th>\n      <th>station</th>\n      <th>measurement</th>\n    </tr>\n  </thead>\n  <tbody>\n    <tr>\n      <th>0</th>\n      <td>2019-03-01</td>\n      <td>1</td>\n      <td>AJM</td>\n      <td>8.0</td>\n    </tr>\n    <tr>\n      <th>1</th>\n      <td>2019-03-01</td>\n      <td>2</td>\n      <td>AJM</td>\n      <td>19.0</td>\n    </tr>\n    <tr>\n      <th>2</th>\n      <td>2019-03-01</td>\n      <td>3</td>\n      <td>AJM</td>\n      <td>29.0</td>\n    </tr>\n    <tr>\n      <th>3</th>\n      <td>2019-03-01</td>\n      <td>4</td>\n      <td>AJM</td>\n      <td>28.0</td>\n    </tr>\n    <tr>\n      <th>4</th>\n      <td>2019-03-01</td>\n      <td>5</td>\n      <td>AJM</td>\n      <td>26.0</td>\n    </tr>\n  </tbody>\n</table>\n</div>"
          },
          "metadata": {},
          "execution_count": 5
        }
      ]
    },
    {
      "cell_type": "markdown",
      "metadata": {
        "id": "KVw07qjronwJ"
      },
      "source": [
        "- Ordenando el dataframe segun la fecha y la estación"
      ]
    },
    {
      "cell_type": "code",
      "metadata": {
        "colab": {
          "base_uri": "https://localhost:8080/",
          "height": 195
        },
        "id": "EBvIP-4ckFkJ",
        "outputId": "74b9c50f-e712-45af-ccac-ccf1b9dba4f5"
      },
      "source": [
        "df = df.sort_values(['FECHA', 'station']).reset_index(drop=True)\n",
        "df.head()"
      ],
      "execution_count": 6,
      "outputs": [
        {
          "output_type": "execute_result",
          "data": {
            "text/plain": [
              "       FECHA  HORA station  measurement\n",
              "0 2019-03-01     1     AJM          8.0\n",
              "1 2019-03-01     2     AJM         19.0\n",
              "2 2019-03-01     3     AJM         29.0\n",
              "3 2019-03-01     4     AJM         28.0\n",
              "4 2019-03-01     5     AJM         26.0"
            ],
            "text/html": "<div>\n<style scoped>\n    .dataframe tbody tr th:only-of-type {\n        vertical-align: middle;\n    }\n\n    .dataframe tbody tr th {\n        vertical-align: top;\n    }\n\n    .dataframe thead th {\n        text-align: right;\n    }\n</style>\n<table border=\"1\" class=\"dataframe\">\n  <thead>\n    <tr style=\"text-align: right;\">\n      <th></th>\n      <th>FECHA</th>\n      <th>HORA</th>\n      <th>station</th>\n      <th>measurement</th>\n    </tr>\n  </thead>\n  <tbody>\n    <tr>\n      <th>0</th>\n      <td>2019-03-01</td>\n      <td>1</td>\n      <td>AJM</td>\n      <td>8.0</td>\n    </tr>\n    <tr>\n      <th>1</th>\n      <td>2019-03-01</td>\n      <td>2</td>\n      <td>AJM</td>\n      <td>19.0</td>\n    </tr>\n    <tr>\n      <th>2</th>\n      <td>2019-03-01</td>\n      <td>3</td>\n      <td>AJM</td>\n      <td>29.0</td>\n    </tr>\n    <tr>\n      <th>3</th>\n      <td>2019-03-01</td>\n      <td>4</td>\n      <td>AJM</td>\n      <td>28.0</td>\n    </tr>\n    <tr>\n      <th>4</th>\n      <td>2019-03-01</td>\n      <td>5</td>\n      <td>AJM</td>\n      <td>26.0</td>\n    </tr>\n  </tbody>\n</table>\n</div>"
          },
          "metadata": {},
          "execution_count": 6
        }
      ]
    },
    {
      "cell_type": "markdown",
      "metadata": {
        "id": "b0czCHjevKnk"
      },
      "source": [
        "Ahora se busca eliminar, según el día y la estación, aquellas filas que tengan mediciones horarias menores a las requeridas por la normativa (18 mediciones). Por ejemplo, si la estación ACO en el 01 de enero de 2019 registró solamente 15 mediciones horarias, todas las mediciones de ese día para la estación ACO no será tomadas en cuenta para los posteriores análisis. \r\n",
        "\r\n",
        "Primero se debe elaborar una función que devuelva el dataframe que contenga solamente los registros válidos"
      ]
    },
    {
      "cell_type": "code",
      "metadata": {
        "id": "gHHeR-o-vO-M"
      },
      "source": [
        "def dia_estacion_valido(dataframe):\r\n",
        "  #Contar las mediciones horarias por día y estación\r\n",
        "  filtro= dataframe.groupby(['FECHA', 'station'],as_index=False).agg(N_h=('HORA','count'))\r\n",
        "  #Filtrar aquellas que no cumplen normativa\r\n",
        "  filtro= filtro.query('N_h < 17')\r\n",
        "  #Conservar las columnas de fecha y estación\r\n",
        "  filtro=filtro.loc[:,['FECHA','station']]\r\n",
        "  #Eliminar del dataframe original las mediciones que no cumplen normativa\r\n",
        "  filtro=pd.merge(dataframe,filtro, how='outer', indicator=True)\r\n",
        "  filtro=filtro[filtro['_merge'] == 'left_only']\r\n",
        "  return filtro"
      ],
      "execution_count": 7,
      "outputs": []
    },
    {
      "cell_type": "markdown",
      "metadata": {
        "id": "NSshJx7vvTuc"
      },
      "source": [
        "Con la función, se filtra las mediciones por día y por estación son válidas para los siguientes análisis."
      ]
    },
    {
      "cell_type": "code",
      "metadata": {
        "colab": {
          "base_uri": "https://localhost:8080/",
          "height": 402
        },
        "id": "PtDRKO7PvYV8",
        "outputId": "61317fe3-2209-4669-d686-13084faa1333"
      },
      "source": [
        "df_filtrado= dia_estacion_valido(df)\r\n",
        "df_filtrado = df_filtrado.drop(columns=['_merge'])\r\n",
        "df_filtrado=df_filtrado.reset_index()\r\n",
        "df_filtrado = df_filtrado.drop(columns=['index'])\r\n",
        "df_filtrado"
      ],
      "execution_count": 8,
      "outputs": [
        {
          "output_type": "execute_result",
          "data": {
            "text/plain": [
              "           FECHA  HORA station  measurement\n",
              "0     2019-03-01     1     AJM          8.0\n",
              "1     2019-03-01     2     AJM         19.0\n",
              "2     2019-03-01     3     AJM         29.0\n",
              "3     2019-03-01     4     AJM         28.0\n",
              "4     2019-03-01     5     AJM         26.0\n",
              "...          ...   ...     ...          ...\n",
              "61750 2020-05-31    20     UIZ         11.0\n",
              "61751 2020-05-31    21     UIZ         14.0\n",
              "61752 2020-05-31    22     UIZ          5.0\n",
              "61753 2020-05-31    23     UIZ         10.0\n",
              "61754 2020-05-31    24     UIZ         12.0\n",
              "\n",
              "[61755 rows x 4 columns]"
            ],
            "text/html": "<div>\n<style scoped>\n    .dataframe tbody tr th:only-of-type {\n        vertical-align: middle;\n    }\n\n    .dataframe tbody tr th {\n        vertical-align: top;\n    }\n\n    .dataframe thead th {\n        text-align: right;\n    }\n</style>\n<table border=\"1\" class=\"dataframe\">\n  <thead>\n    <tr style=\"text-align: right;\">\n      <th></th>\n      <th>FECHA</th>\n      <th>HORA</th>\n      <th>station</th>\n      <th>measurement</th>\n    </tr>\n  </thead>\n  <tbody>\n    <tr>\n      <th>0</th>\n      <td>2019-03-01</td>\n      <td>1</td>\n      <td>AJM</td>\n      <td>8.0</td>\n    </tr>\n    <tr>\n      <th>1</th>\n      <td>2019-03-01</td>\n      <td>2</td>\n      <td>AJM</td>\n      <td>19.0</td>\n    </tr>\n    <tr>\n      <th>2</th>\n      <td>2019-03-01</td>\n      <td>3</td>\n      <td>AJM</td>\n      <td>29.0</td>\n    </tr>\n    <tr>\n      <th>3</th>\n      <td>2019-03-01</td>\n      <td>4</td>\n      <td>AJM</td>\n      <td>28.0</td>\n    </tr>\n    <tr>\n      <th>4</th>\n      <td>2019-03-01</td>\n      <td>5</td>\n      <td>AJM</td>\n      <td>26.0</td>\n    </tr>\n    <tr>\n      <th>...</th>\n      <td>...</td>\n      <td>...</td>\n      <td>...</td>\n      <td>...</td>\n    </tr>\n    <tr>\n      <th>61750</th>\n      <td>2020-05-31</td>\n      <td>20</td>\n      <td>UIZ</td>\n      <td>11.0</td>\n    </tr>\n    <tr>\n      <th>61751</th>\n      <td>2020-05-31</td>\n      <td>21</td>\n      <td>UIZ</td>\n      <td>14.0</td>\n    </tr>\n    <tr>\n      <th>61752</th>\n      <td>2020-05-31</td>\n      <td>22</td>\n      <td>UIZ</td>\n      <td>5.0</td>\n    </tr>\n    <tr>\n      <th>61753</th>\n      <td>2020-05-31</td>\n      <td>23</td>\n      <td>UIZ</td>\n      <td>10.0</td>\n    </tr>\n    <tr>\n      <th>61754</th>\n      <td>2020-05-31</td>\n      <td>24</td>\n      <td>UIZ</td>\n      <td>12.0</td>\n    </tr>\n  </tbody>\n</table>\n<p>61755 rows × 4 columns</p>\n</div>"
          },
          "metadata": {},
          "execution_count": 8
        }
      ]
    },
    {
      "cell_type": "markdown",
      "metadata": {
        "id": "atXZ7i2wvcUZ"
      },
      "source": [
        "Una vez con el dataframe inicial limpio, se procede a relacionar cada estación con su respectiva zona de activación. Primeramente se leen los datos"
      ]
    },
    {
      "cell_type": "code",
      "metadata": {
        "colab": {
          "base_uri": "https://localhost:8080/",
          "height": 195
        },
        "id": "B4pGbguFvuAw",
        "outputId": "37c10919-5d36-4aa3-cdcf-8731aafc74a9"
      },
      "source": [
        "# Cargando dataset de zonas\n",
        "df_zonas = pd.read_csv('../Datasets/cat_estacion_depurado.csv')\n",
        "\n",
        "# Eliminando columna 'Unnamed: 0'\n",
        "df_zonas = df_zonas.drop(columns=['Unnamed: 0'])\n",
        "# Remplazando los - por NaN\n",
        "df_zonas = df_zonas.replace('-', np.nan)\n",
        "# Eliminando lo NaN's\n",
        "df_zonas = df_zonas.dropna(axis=0, how='any').reset_index(drop=True)\n",
        "# Renombrando la columna\n",
        "df_zonas = df_zonas.rename(columns={'cve_estac': 'station'})\n",
        "df_zonas.head()"
      ],
      "execution_count": 9,
      "outputs": [
        {
          "output_type": "execute_result",
          "data": {
            "text/plain": [
              "  station      nom_estac Zona\n",
              "0     ACO        Acolman   NE\n",
              "1     AJU         Ajusco   SO\n",
              "2     AJM   Ajusco Medio   SO\n",
              "3     ATI       Atizapan   NO\n",
              "4     BJU  Benito Ju�rez   CE"
            ],
            "text/html": "<div>\n<style scoped>\n    .dataframe tbody tr th:only-of-type {\n        vertical-align: middle;\n    }\n\n    .dataframe tbody tr th {\n        vertical-align: top;\n    }\n\n    .dataframe thead th {\n        text-align: right;\n    }\n</style>\n<table border=\"1\" class=\"dataframe\">\n  <thead>\n    <tr style=\"text-align: right;\">\n      <th></th>\n      <th>station</th>\n      <th>nom_estac</th>\n      <th>Zona</th>\n    </tr>\n  </thead>\n  <tbody>\n    <tr>\n      <th>0</th>\n      <td>ACO</td>\n      <td>Acolman</td>\n      <td>NE</td>\n    </tr>\n    <tr>\n      <th>1</th>\n      <td>AJU</td>\n      <td>Ajusco</td>\n      <td>SO</td>\n    </tr>\n    <tr>\n      <th>2</th>\n      <td>AJM</td>\n      <td>Ajusco Medio</td>\n      <td>SO</td>\n    </tr>\n    <tr>\n      <th>3</th>\n      <td>ATI</td>\n      <td>Atizapan</td>\n      <td>NO</td>\n    </tr>\n    <tr>\n      <th>4</th>\n      <td>BJU</td>\n      <td>Benito Ju�rez</td>\n      <td>CE</td>\n    </tr>\n  </tbody>\n</table>\n</div>"
          },
          "metadata": {},
          "execution_count": 9
        }
      ]
    },
    {
      "cell_type": "markdown",
      "metadata": {
        "id": "D-iW5csSv0gq"
      },
      "source": [
        "Se unen los registros con su zona correspondiente"
      ]
    },
    {
      "cell_type": "code",
      "metadata": {
        "colab": {
          "base_uri": "https://localhost:8080/",
          "height": 195
        },
        "id": "zP1Z1tLpvw8K",
        "outputId": "df21b0c5-6837-4a02-a7dd-a0a282807971"
      },
      "source": [
        "df_filtrado = df_filtrado.merge(df_zonas[['station', 'Zona']], on='station')\r\n",
        "df_filtrado.head()"
      ],
      "execution_count": 10,
      "outputs": [
        {
          "output_type": "execute_result",
          "data": {
            "text/plain": [
              "       FECHA  HORA station  measurement Zona\n",
              "0 2019-03-01     1     AJM          8.0   SO\n",
              "1 2019-03-01     2     AJM         19.0   SO\n",
              "2 2019-03-01     3     AJM         29.0   SO\n",
              "3 2019-03-01     4     AJM         28.0   SO\n",
              "4 2019-03-01     5     AJM         26.0   SO"
            ],
            "text/html": "<div>\n<style scoped>\n    .dataframe tbody tr th:only-of-type {\n        vertical-align: middle;\n    }\n\n    .dataframe tbody tr th {\n        vertical-align: top;\n    }\n\n    .dataframe thead th {\n        text-align: right;\n    }\n</style>\n<table border=\"1\" class=\"dataframe\">\n  <thead>\n    <tr style=\"text-align: right;\">\n      <th></th>\n      <th>FECHA</th>\n      <th>HORA</th>\n      <th>station</th>\n      <th>measurement</th>\n      <th>Zona</th>\n    </tr>\n  </thead>\n  <tbody>\n    <tr>\n      <th>0</th>\n      <td>2019-03-01</td>\n      <td>1</td>\n      <td>AJM</td>\n      <td>8.0</td>\n      <td>SO</td>\n    </tr>\n    <tr>\n      <th>1</th>\n      <td>2019-03-01</td>\n      <td>2</td>\n      <td>AJM</td>\n      <td>19.0</td>\n      <td>SO</td>\n    </tr>\n    <tr>\n      <th>2</th>\n      <td>2019-03-01</td>\n      <td>3</td>\n      <td>AJM</td>\n      <td>29.0</td>\n      <td>SO</td>\n    </tr>\n    <tr>\n      <th>3</th>\n      <td>2019-03-01</td>\n      <td>4</td>\n      <td>AJM</td>\n      <td>28.0</td>\n      <td>SO</td>\n    </tr>\n    <tr>\n      <th>4</th>\n      <td>2019-03-01</td>\n      <td>5</td>\n      <td>AJM</td>\n      <td>26.0</td>\n      <td>SO</td>\n    </tr>\n  </tbody>\n</table>\n</div>"
          },
          "metadata": {},
          "execution_count": 10
        }
      ]
    },
    {
      "cell_type": "markdown",
      "metadata": {
        "id": "qoZvY6w5v822"
      },
      "source": [
        "Con los datos válidos para realizar las operaciones siguientes y ya con la relación de cada estación con su respectiva zona de activación, se procede a calcular el promedio diario de concentración y el índice de calidad del aire en cada zona y en cada día"
      ]
    },
    {
      "cell_type": "markdown",
      "metadata": {
        "id": "SQ5x65IopRo2"
      },
      "source": [
        "### Calculando el promedio diario\n",
        "Para el cálculo del promedio diario de $PM_{2.5}$ se utilizó la metodología descrita en la `NOM-025-SSA1-2014`, siguiendo la siguiente ecuación:\n",
        "\n",
        "$$\\bar{x}= \\frac{1}{n} \\displaystyle\\sum_{i=1}^n x_i$$\n",
        "$\\bar{x}:$ promedio de 24 horas, \n",
        "\n",
        "$n:$ número de concentraciones horarias válidas\n",
        "\n",
        "$x_i:$ concentraciones horarias válidas\n",
        "\n",
        "- Camo datos extra obteniendo los valores minimos y maximos\n",
        "- Tambien contabilizando cuantas horas fueron utilizadas para dicho promedio, columna(`N`)"
      ]
    },
    {
      "cell_type": "code",
      "metadata": {
        "colab": {
          "base_uri": "https://localhost:8080/",
          "height": 195
        },
        "id": "S9WEgTBEkFkK",
        "outputId": "a63af271-9985-41a5-e03d-7ea81dfa2b6f"
      },
      "source": [
        "# Calculando promedio diario, contando numero de horas usadas, obteniendo el maximo y minimo\n",
        "df_PM2524h = df_filtrado.groupby(['FECHA', 'Zona'], as_index=False).agg(PromDiario=('measurement', lambda x: round(x.mean(),1)), #En este caso, se redondea a un decimal\n",
        "                                                                    Max = ('measurement', 'max'),\n",
        "                                                                    Min = ('measurement', 'min'))\n",
        "df_PM2524h.head()"
      ],
      "execution_count": 11,
      "outputs": [
        {
          "output_type": "execute_result",
          "data": {
            "text/plain": [
              "       FECHA Zona  PromDiario   Max   Min\n",
              "0 2019-03-01   CE        27.8  55.0   8.0\n",
              "1 2019-03-01   NE        32.2  62.0   1.0\n",
              "2 2019-03-01   NO        35.1  61.0  12.0\n",
              "3 2019-03-01   SE        24.4  47.0   6.0\n",
              "4 2019-03-01   SO        20.5  49.0   1.0"
            ],
            "text/html": "<div>\n<style scoped>\n    .dataframe tbody tr th:only-of-type {\n        vertical-align: middle;\n    }\n\n    .dataframe tbody tr th {\n        vertical-align: top;\n    }\n\n    .dataframe thead th {\n        text-align: right;\n    }\n</style>\n<table border=\"1\" class=\"dataframe\">\n  <thead>\n    <tr style=\"text-align: right;\">\n      <th></th>\n      <th>FECHA</th>\n      <th>Zona</th>\n      <th>PromDiario</th>\n      <th>Max</th>\n      <th>Min</th>\n    </tr>\n  </thead>\n  <tbody>\n    <tr>\n      <th>0</th>\n      <td>2019-03-01</td>\n      <td>CE</td>\n      <td>27.8</td>\n      <td>55.0</td>\n      <td>8.0</td>\n    </tr>\n    <tr>\n      <th>1</th>\n      <td>2019-03-01</td>\n      <td>NE</td>\n      <td>32.2</td>\n      <td>62.0</td>\n      <td>1.0</td>\n    </tr>\n    <tr>\n      <th>2</th>\n      <td>2019-03-01</td>\n      <td>NO</td>\n      <td>35.1</td>\n      <td>61.0</td>\n      <td>12.0</td>\n    </tr>\n    <tr>\n      <th>3</th>\n      <td>2019-03-01</td>\n      <td>SE</td>\n      <td>24.4</td>\n      <td>47.0</td>\n      <td>6.0</td>\n    </tr>\n    <tr>\n      <th>4</th>\n      <td>2019-03-01</td>\n      <td>SO</td>\n      <td>20.5</td>\n      <td>49.0</td>\n      <td>1.0</td>\n    </tr>\n  </tbody>\n</table>\n</div>"
          },
          "metadata": {},
          "execution_count": 11
        }
      ]
    },
    {
      "cell_type": "markdown",
      "metadata": {
        "id": "5SjYTDj8qhL3"
      },
      "source": [
        "### Calculando Índice de calidad del aire\n",
        "\n",
        "Donde:\n",
        "$$\\text{Índice}= (k \\times (C \\times BP_{Lo}))+I_{Lo}$$\n",
        "\n",
        "$$k= \\frac{I_{Hi}-I_{Lo}}{BP_{Hi}-BP_{Lo}}$$\n",
        "\n",
        " \n",
        "$\\text{Índice}:$ Valor del índice para el contaminante deseado.<br>\n",
        "$C:$ valor redondeado para la concentración del contaminante.<br>\n",
        "$k:$ constante de proporcionalidad estimada.<br>\n",
        "$BP_{Hi}:$ valor del punto de corte que es mayor o igual a la concentración a evaluar.<br>\n",
        "$BP_{Lo}:$ valor del punto de corte que es menor o igual a la concentración a evaluar.<br>\n",
        "$I_{Hi}:$ valor del índice que corresponde al valor de $BP_{Hi}$<br>\n",
        "$I_{Lo}:$ valor del índice que corresponde al valor de $BP_{Lo}$<br>"
      ]
    },
    {
      "cell_type": "code",
      "metadata": {
        "id": "f7H-UcN3kFkM"
      },
      "source": [
        "def AQI(df):\n",
        "    CP = df['PromDiario']\n",
        "    i = 0\n",
        "\n",
        "    if 0.0 <= CP <= 12.0:\n",
        "        k = (50-0)/(12-0)\n",
        "        i = k * (CP - 0) + 0\n",
        "    if 12.1 <= CP <= 45.0:\n",
        "        k = (100-51)/(45-12.1)\n",
        "        i = k * (CP - 12.1) + 51\n",
        "    if 45.1 <= CP <= 97.4:\n",
        "        k = (150-101)/(97.4-45.1)\n",
        "        i = k * (CP - 45.1) + 101\n",
        "    if 97.5 <= CP <= 150.4:\n",
        "        k = (200-151)/(150.4-97.5)\n",
        "        i = k * (CP - 97.5) + 151\n",
        "    if 150.5 <= CP <= 250.4:\n",
        "        k = (300-201)/(250.4-150.5)\n",
        "        i = k * (CP - 150.5) + 201\n",
        "    if 250.5 <= CP <= 350.4:\n",
        "        k = (400-301)/(350.4-250.5)\n",
        "        i = k * (CP - 250.5) + 301\n",
        "    if 350.5 <= CP <= 500.4:\n",
        "        k = (500-401)/(500.4-350.5)\n",
        "        i = k * (CP - 350.5) + 401\n",
        "\n",
        "    return round(i, 3)"
      ],
      "execution_count": 12,
      "outputs": []
    },
    {
      "cell_type": "code",
      "metadata": {
        "colab": {
          "base_uri": "https://localhost:8080/",
          "height": 195
        },
        "id": "4BA8FdWOkFkN",
        "outputId": "37c71af0-fe23-423b-de36-7f270a1b44c8"
      },
      "source": [
        "df_PM2524h['indice'] = df_PM2524h.apply(AQI, axis=1)\n",
        "df_PM2524h.head()"
      ],
      "execution_count": 13,
      "outputs": [
        {
          "output_type": "execute_result",
          "data": {
            "text/plain": [
              "       FECHA Zona  PromDiario   Max   Min  indice\n",
              "0 2019-03-01   CE        27.8  55.0   8.0  74.383\n",
              "1 2019-03-01   NE        32.2  62.0   1.0  80.936\n",
              "2 2019-03-01   NO        35.1  61.0  12.0  85.255\n",
              "3 2019-03-01   SE        24.4  47.0   6.0  69.319\n",
              "4 2019-03-01   SO        20.5  49.0   1.0  63.511"
            ],
            "text/html": "<div>\n<style scoped>\n    .dataframe tbody tr th:only-of-type {\n        vertical-align: middle;\n    }\n\n    .dataframe tbody tr th {\n        vertical-align: top;\n    }\n\n    .dataframe thead th {\n        text-align: right;\n    }\n</style>\n<table border=\"1\" class=\"dataframe\">\n  <thead>\n    <tr style=\"text-align: right;\">\n      <th></th>\n      <th>FECHA</th>\n      <th>Zona</th>\n      <th>PromDiario</th>\n      <th>Max</th>\n      <th>Min</th>\n      <th>indice</th>\n    </tr>\n  </thead>\n  <tbody>\n    <tr>\n      <th>0</th>\n      <td>2019-03-01</td>\n      <td>CE</td>\n      <td>27.8</td>\n      <td>55.0</td>\n      <td>8.0</td>\n      <td>74.383</td>\n    </tr>\n    <tr>\n      <th>1</th>\n      <td>2019-03-01</td>\n      <td>NE</td>\n      <td>32.2</td>\n      <td>62.0</td>\n      <td>1.0</td>\n      <td>80.936</td>\n    </tr>\n    <tr>\n      <th>2</th>\n      <td>2019-03-01</td>\n      <td>NO</td>\n      <td>35.1</td>\n      <td>61.0</td>\n      <td>12.0</td>\n      <td>85.255</td>\n    </tr>\n    <tr>\n      <th>3</th>\n      <td>2019-03-01</td>\n      <td>SE</td>\n      <td>24.4</td>\n      <td>47.0</td>\n      <td>6.0</td>\n      <td>69.319</td>\n    </tr>\n    <tr>\n      <th>4</th>\n      <td>2019-03-01</td>\n      <td>SO</td>\n      <td>20.5</td>\n      <td>49.0</td>\n      <td>1.0</td>\n      <td>63.511</td>\n    </tr>\n  </tbody>\n</table>\n</div>"
          },
          "metadata": {},
          "execution_count": 13
        }
      ]
    },
    {
      "cell_type": "markdown",
      "metadata": {
        "id": "1Zk0qA4os36v"
      },
      "source": [
        "Con el índice de calidad del aire, se crea otra función para determinar la categoría de calidad del aire descrita por la norma mexicana."
      ]
    },
    {
      "cell_type": "code",
      "metadata": {
        "id": "HhLxTvbGw2DT"
      },
      "source": [
        "def AQI_categoria(df):\r\n",
        "    indice = df['indice']\r\n",
        "    if indice <= 50.0:\r\n",
        "      clase='Buena'\r\n",
        "    elif indice <= 100.0:\r\n",
        "      clase='Regular'\r\n",
        "    elif indice <= 150.0:\r\n",
        "      clase= 'Mala'\r\n",
        "    elif indice <= 200.0:\r\n",
        "      clase = 'Muy mala'\r\n",
        "    else: \r\n",
        "      clase = 'Extremadamente mala'\r\n",
        "    \r\n",
        "    return clase"
      ],
      "execution_count": 14,
      "outputs": []
    },
    {
      "cell_type": "markdown",
      "metadata": {
        "id": "n0F8swwFxLwT"
      },
      "source": [
        "Se aplica la función para determinar la categoría a cada promedio diario calculado."
      ]
    },
    {
      "cell_type": "code",
      "metadata": {
        "colab": {
          "base_uri": "https://localhost:8080/",
          "height": 195
        },
        "id": "jV8r2Wc8xPZb",
        "outputId": "d5a7bcdb-9295-4a99-c2fd-74586e423049"
      },
      "source": [
        "df_PM2524h['clase'] = df_PM2524h.apply(AQI_categoria, axis=1)\r\n",
        "df_PM2524h.head()"
      ],
      "execution_count": 15,
      "outputs": [
        {
          "output_type": "execute_result",
          "data": {
            "text/plain": [
              "       FECHA Zona  PromDiario   Max   Min  indice    clase\n",
              "0 2019-03-01   CE        27.8  55.0   8.0  74.383  Regular\n",
              "1 2019-03-01   NE        32.2  62.0   1.0  80.936  Regular\n",
              "2 2019-03-01   NO        35.1  61.0  12.0  85.255  Regular\n",
              "3 2019-03-01   SE        24.4  47.0   6.0  69.319  Regular\n",
              "4 2019-03-01   SO        20.5  49.0   1.0  63.511  Regular"
            ],
            "text/html": "<div>\n<style scoped>\n    .dataframe tbody tr th:only-of-type {\n        vertical-align: middle;\n    }\n\n    .dataframe tbody tr th {\n        vertical-align: top;\n    }\n\n    .dataframe thead th {\n        text-align: right;\n    }\n</style>\n<table border=\"1\" class=\"dataframe\">\n  <thead>\n    <tr style=\"text-align: right;\">\n      <th></th>\n      <th>FECHA</th>\n      <th>Zona</th>\n      <th>PromDiario</th>\n      <th>Max</th>\n      <th>Min</th>\n      <th>indice</th>\n      <th>clase</th>\n    </tr>\n  </thead>\n  <tbody>\n    <tr>\n      <th>0</th>\n      <td>2019-03-01</td>\n      <td>CE</td>\n      <td>27.8</td>\n      <td>55.0</td>\n      <td>8.0</td>\n      <td>74.383</td>\n      <td>Regular</td>\n    </tr>\n    <tr>\n      <th>1</th>\n      <td>2019-03-01</td>\n      <td>NE</td>\n      <td>32.2</td>\n      <td>62.0</td>\n      <td>1.0</td>\n      <td>80.936</td>\n      <td>Regular</td>\n    </tr>\n    <tr>\n      <th>2</th>\n      <td>2019-03-01</td>\n      <td>NO</td>\n      <td>35.1</td>\n      <td>61.0</td>\n      <td>12.0</td>\n      <td>85.255</td>\n      <td>Regular</td>\n    </tr>\n    <tr>\n      <th>3</th>\n      <td>2019-03-01</td>\n      <td>SE</td>\n      <td>24.4</td>\n      <td>47.0</td>\n      <td>6.0</td>\n      <td>69.319</td>\n      <td>Regular</td>\n    </tr>\n    <tr>\n      <th>4</th>\n      <td>2019-03-01</td>\n      <td>SO</td>\n      <td>20.5</td>\n      <td>49.0</td>\n      <td>1.0</td>\n      <td>63.511</td>\n      <td>Regular</td>\n    </tr>\n  </tbody>\n</table>\n</div>"
          },
          "metadata": {},
          "execution_count": 15
        }
      ]
    },
    {
      "cell_type": "code",
      "metadata": {
        "id": "Vm8iCpdfyFS-"
      },
      "source": [
        "df_PM2524h.to_csv('../Datasets/PM2.5/PDEstacion_PM25.csv', index=False)"
      ],
      "execution_count": 16,
      "outputs": []
    }
  ]
}