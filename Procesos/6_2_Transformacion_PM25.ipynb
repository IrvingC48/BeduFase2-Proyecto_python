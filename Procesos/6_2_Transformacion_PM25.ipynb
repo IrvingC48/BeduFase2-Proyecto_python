{
  "nbformat": 4,
  "nbformat_minor": 0,
  "metadata": {
    "colab": {
      "name": "6.2_Transformacion_PM2.5_respaldo.ipynb",
      "provenance": [],
      "collapsed_sections": []
    },
    "kernelspec": {
      "name": "python3",
      "display_name": "Python 3.9.2 64-bit",
      "metadata": {
        "interpreter": {
          "hash": "d0851c8d918f9ad433d63dff71dbacbe17259539d55e689a7d9cbf48e3dba898"
        }
      }
    }
  },
  "cells": [
    {
      "cell_type": "markdown",
      "metadata": {
        "id": "QNFa2NCHk-pq"
      },
      "source": [
        "# Promedio Diario $PM_{2.5}$\n",
        "\n",
        "Para nuestra transformación de datos, utilizaremos las siguientes librerias:\n"
      ]
    },
    {
      "cell_type": "code",
      "metadata": {
        "id": "l87p-m-xkFkE"
      },
      "source": [
        "import pandas as pd\n",
        "import numpy as np"
      ],
      "execution_count": 1,
      "outputs": []
    },
    {
      "cell_type": "markdown",
      "metadata": {
        "id": "CIg80lodlijH"
      },
      "source": [
        "- Cargando dataset a un DataFrame de pandas\r\n",
        "- Posteriormente normalizando la columna `Fecha` a tipo `datetime`"
      ]
    },
    {
      "cell_type": "code",
      "metadata": {
        "colab": {
          "base_uri": "https://localhost:8080/",
          "height": 195
        },
        "id": "71xK0YhikFkG",
        "outputId": "8508e9d8-0cfb-4e06-b477-d3b6a020a032"
      },
      "source": [
        "#Cargando archivos\n",
        "df = pd.read_csv('https://raw.githubusercontent.com/IrvingC48/BeduFase2-Proyecto_python/main/Datasets/PM2.5/PM25_depurado.csv')\n",
        "\n",
        "# Normalizando fechas\n",
        "df['FECHA'] = pd.to_datetime(df['FECHA'], unit='ns')\n",
        "df.head()"
      ],
      "execution_count": 2,
      "outputs": [
        {
          "output_type": "execute_result",
          "data": {
            "text/html": [
              "<div>\n",
              "<style scoped>\n",
              "    .dataframe tbody tr th:only-of-type {\n",
              "        vertical-align: middle;\n",
              "    }\n",
              "\n",
              "    .dataframe tbody tr th {\n",
              "        vertical-align: top;\n",
              "    }\n",
              "\n",
              "    .dataframe thead th {\n",
              "        text-align: right;\n",
              "    }\n",
              "</style>\n",
              "<table border=\"1\" class=\"dataframe\">\n",
              "  <thead>\n",
              "    <tr style=\"text-align: right;\">\n",
              "      <th></th>\n",
              "      <th>Unnamed: 0</th>\n",
              "      <th>FECHA</th>\n",
              "      <th>HORA</th>\n",
              "      <th>AJM</th>\n",
              "      <th>AJU</th>\n",
              "      <th>BJU</th>\n",
              "      <th>CAM</th>\n",
              "      <th>CCA</th>\n",
              "      <th>FAR</th>\n",
              "      <th>GAM</th>\n",
              "      <th>HGM</th>\n",
              "      <th>INN</th>\n",
              "      <th>MER</th>\n",
              "      <th>MON</th>\n",
              "      <th>NEZ</th>\n",
              "      <th>PED</th>\n",
              "      <th>SAC</th>\n",
              "      <th>SAG</th>\n",
              "      <th>SFE</th>\n",
              "      <th>TLA</th>\n",
              "      <th>UAX</th>\n",
              "      <th>UIZ</th>\n",
              "      <th>XAL</th>\n",
              "    </tr>\n",
              "  </thead>\n",
              "  <tbody>\n",
              "    <tr>\n",
              "      <th>0</th>\n",
              "      <td>0</td>\n",
              "      <td>2019-01-01</td>\n",
              "      <td>1</td>\n",
              "      <td>19.0</td>\n",
              "      <td>35.0</td>\n",
              "      <td>62.0</td>\n",
              "      <td>90.0</td>\n",
              "      <td>66.0</td>\n",
              "      <td>NaN</td>\n",
              "      <td>NaN</td>\n",
              "      <td>56.0</td>\n",
              "      <td>22.0</td>\n",
              "      <td>69.0</td>\n",
              "      <td>102.0</td>\n",
              "      <td>133.0</td>\n",
              "      <td>NaN</td>\n",
              "      <td>NaN</td>\n",
              "      <td>92.0</td>\n",
              "      <td>33.0</td>\n",
              "      <td>55.0</td>\n",
              "      <td>74.0</td>\n",
              "      <td>99.0</td>\n",
              "      <td>96.0</td>\n",
              "    </tr>\n",
              "    <tr>\n",
              "      <th>1</th>\n",
              "      <td>1</td>\n",
              "      <td>2019-01-01</td>\n",
              "      <td>2</td>\n",
              "      <td>17.0</td>\n",
              "      <td>24.0</td>\n",
              "      <td>88.0</td>\n",
              "      <td>104.0</td>\n",
              "      <td>84.0</td>\n",
              "      <td>NaN</td>\n",
              "      <td>NaN</td>\n",
              "      <td>61.0</td>\n",
              "      <td>14.0</td>\n",
              "      <td>95.0</td>\n",
              "      <td>108.0</td>\n",
              "      <td>164.0</td>\n",
              "      <td>NaN</td>\n",
              "      <td>NaN</td>\n",
              "      <td>100.0</td>\n",
              "      <td>40.0</td>\n",
              "      <td>52.0</td>\n",
              "      <td>115.0</td>\n",
              "      <td>99.0</td>\n",
              "      <td>164.0</td>\n",
              "    </tr>\n",
              "    <tr>\n",
              "      <th>2</th>\n",
              "      <td>2</td>\n",
              "      <td>2019-01-01</td>\n",
              "      <td>3</td>\n",
              "      <td>14.0</td>\n",
              "      <td>20.0</td>\n",
              "      <td>107.0</td>\n",
              "      <td>140.0</td>\n",
              "      <td>95.0</td>\n",
              "      <td>NaN</td>\n",
              "      <td>NaN</td>\n",
              "      <td>74.0</td>\n",
              "      <td>8.0</td>\n",
              "      <td>82.0</td>\n",
              "      <td>125.0</td>\n",
              "      <td>206.0</td>\n",
              "      <td>NaN</td>\n",
              "      <td>NaN</td>\n",
              "      <td>104.0</td>\n",
              "      <td>52.0</td>\n",
              "      <td>59.0</td>\n",
              "      <td>150.0</td>\n",
              "      <td>109.0</td>\n",
              "      <td>249.0</td>\n",
              "    </tr>\n",
              "    <tr>\n",
              "      <th>3</th>\n",
              "      <td>3</td>\n",
              "      <td>2019-01-01</td>\n",
              "      <td>4</td>\n",
              "      <td>6.0</td>\n",
              "      <td>15.0</td>\n",
              "      <td>101.0</td>\n",
              "      <td>162.0</td>\n",
              "      <td>97.0</td>\n",
              "      <td>NaN</td>\n",
              "      <td>NaN</td>\n",
              "      <td>90.0</td>\n",
              "      <td>9.0</td>\n",
              "      <td>110.0</td>\n",
              "      <td>92.0</td>\n",
              "      <td>273.0</td>\n",
              "      <td>NaN</td>\n",
              "      <td>NaN</td>\n",
              "      <td>144.0</td>\n",
              "      <td>25.0</td>\n",
              "      <td>58.0</td>\n",
              "      <td>180.0</td>\n",
              "      <td>112.0</td>\n",
              "      <td>200.0</td>\n",
              "    </tr>\n",
              "    <tr>\n",
              "      <th>4</th>\n",
              "      <td>4</td>\n",
              "      <td>2019-01-01</td>\n",
              "      <td>5</td>\n",
              "      <td>4.0</td>\n",
              "      <td>8.0</td>\n",
              "      <td>121.0</td>\n",
              "      <td>133.0</td>\n",
              "      <td>88.0</td>\n",
              "      <td>NaN</td>\n",
              "      <td>NaN</td>\n",
              "      <td>90.0</td>\n",
              "      <td>3.0</td>\n",
              "      <td>165.0</td>\n",
              "      <td>84.0</td>\n",
              "      <td>291.0</td>\n",
              "      <td>NaN</td>\n",
              "      <td>NaN</td>\n",
              "      <td>171.0</td>\n",
              "      <td>21.0</td>\n",
              "      <td>46.0</td>\n",
              "      <td>167.0</td>\n",
              "      <td>164.0</td>\n",
              "      <td>161.0</td>\n",
              "    </tr>\n",
              "  </tbody>\n",
              "</table>\n",
              "</div>"
            ],
            "text/plain": [
              "   Unnamed: 0      FECHA  HORA   AJM   AJU  ...   SFE   TLA    UAX    UIZ    XAL\n",
              "0           0 2019-01-01     1  19.0  35.0  ...  33.0  55.0   74.0   99.0   96.0\n",
              "1           1 2019-01-01     2  17.0  24.0  ...  40.0  52.0  115.0   99.0  164.0\n",
              "2           2 2019-01-01     3  14.0  20.0  ...  52.0  59.0  150.0  109.0  249.0\n",
              "3           3 2019-01-01     4   6.0  15.0  ...  25.0  58.0  180.0  112.0  200.0\n",
              "4           4 2019-01-01     5   4.0   8.0  ...  21.0  46.0  167.0  164.0  161.0\n",
              "\n",
              "[5 rows x 23 columns]"
            ]
          },
          "metadata": {
            "tags": []
          },
          "execution_count": 2
        }
      ]
    },
    {
      "cell_type": "markdown",
      "metadata": {
        "id": "HbciN4YvnU2Y"
      },
      "source": [
        "- Reacomodo del DataFrame , donde ahora tendremos una columna para las estaciones y sus correspondientes datos de medición\n",
        "- Eliminando los datos `NaN`\n",
        "- Comprobando que no queden datos `NaN` en el DataFrame"
      ]
    },
    {
      "cell_type": "code",
      "metadata": {
        "colab": {
          "base_uri": "https://localhost:8080/",
          "height": 296
        },
        "id": "XRTJlvbHkFkI",
        "outputId": "f9a2b9a2-7634-4204-d1e5-472b3ffe0f85"
      },
      "source": [
        "# Extraer nombre de columnas\n",
        "cols = df.columns.tolist()\n",
        "\n",
        "# Reacomodando dataframe\n",
        "df = pd.melt(df, id_vars=['FECHA', 'HORA'], value_vars=cols[3:], var_name='station', value_name='measurement')\n",
        "\n",
        "# df = df[~df['measurement'].isna()]\n",
        "df = df.dropna(axis=0, how='any').reset_index(drop=True)\n",
        "\n",
        "print(\"No. de columnas que contienen valores nulos \")\n",
        "print(len(df.columns[df.isna().any()]))\n",
        "\n",
        "print(\"No. de columnas que no contienen valores nulos\")\n",
        "print(len(df.columns[df.notna().all()]))\n",
        "\n",
        "print(\"No total de columnas en el dataframe\")\n",
        "print(len(df.columns))\n",
        "df.head()"
      ],
      "execution_count": 3,
      "outputs": [
        {
          "output_type": "stream",
          "text": [
            "No. de columnas que contienen valores nulos \n",
            "0\n",
            "No. de columnas que no contienen valores nulos\n",
            "4\n",
            "No total de columnas en el dataframe\n",
            "4\n"
          ],
          "name": "stdout"
        },
        {
          "output_type": "execute_result",
          "data": {
            "text/html": [
              "<div>\n",
              "<style scoped>\n",
              "    .dataframe tbody tr th:only-of-type {\n",
              "        vertical-align: middle;\n",
              "    }\n",
              "\n",
              "    .dataframe tbody tr th {\n",
              "        vertical-align: top;\n",
              "    }\n",
              "\n",
              "    .dataframe thead th {\n",
              "        text-align: right;\n",
              "    }\n",
              "</style>\n",
              "<table border=\"1\" class=\"dataframe\">\n",
              "  <thead>\n",
              "    <tr style=\"text-align: right;\">\n",
              "      <th></th>\n",
              "      <th>FECHA</th>\n",
              "      <th>HORA</th>\n",
              "      <th>station</th>\n",
              "      <th>measurement</th>\n",
              "    </tr>\n",
              "  </thead>\n",
              "  <tbody>\n",
              "    <tr>\n",
              "      <th>0</th>\n",
              "      <td>2019-01-01</td>\n",
              "      <td>1</td>\n",
              "      <td>AJM</td>\n",
              "      <td>19.0</td>\n",
              "    </tr>\n",
              "    <tr>\n",
              "      <th>1</th>\n",
              "      <td>2019-01-01</td>\n",
              "      <td>2</td>\n",
              "      <td>AJM</td>\n",
              "      <td>17.0</td>\n",
              "    </tr>\n",
              "    <tr>\n",
              "      <th>2</th>\n",
              "      <td>2019-01-01</td>\n",
              "      <td>3</td>\n",
              "      <td>AJM</td>\n",
              "      <td>14.0</td>\n",
              "    </tr>\n",
              "    <tr>\n",
              "      <th>3</th>\n",
              "      <td>2019-01-01</td>\n",
              "      <td>4</td>\n",
              "      <td>AJM</td>\n",
              "      <td>6.0</td>\n",
              "    </tr>\n",
              "    <tr>\n",
              "      <th>4</th>\n",
              "      <td>2019-01-01</td>\n",
              "      <td>5</td>\n",
              "      <td>AJM</td>\n",
              "      <td>4.0</td>\n",
              "    </tr>\n",
              "  </tbody>\n",
              "</table>\n",
              "</div>"
            ],
            "text/plain": [
              "       FECHA  HORA station  measurement\n",
              "0 2019-01-01     1     AJM         19.0\n",
              "1 2019-01-01     2     AJM         17.0\n",
              "2 2019-01-01     3     AJM         14.0\n",
              "3 2019-01-01     4     AJM          6.0\n",
              "4 2019-01-01     5     AJM          4.0"
            ]
          },
          "metadata": {
            "tags": []
          },
          "execution_count": 3
        }
      ]
    },
    {
      "cell_type": "markdown",
      "metadata": {
        "id": "KVw07qjronwJ"
      },
      "source": [
        "- Ordenando el dataframe segun la fecha y la estación"
      ]
    },
    {
      "cell_type": "code",
      "metadata": {
        "colab": {
          "base_uri": "https://localhost:8080/",
          "height": 195
        },
        "id": "EBvIP-4ckFkJ",
        "outputId": "b93faaed-528d-4b98-b137-d40c12fa8f72"
      },
      "source": [
        "df = df.sort_values(['FECHA', 'station']).reset_index(drop=True)\n",
        "df.head()"
      ],
      "execution_count": 4,
      "outputs": [
        {
          "output_type": "execute_result",
          "data": {
            "text/html": [
              "<div>\n",
              "<style scoped>\n",
              "    .dataframe tbody tr th:only-of-type {\n",
              "        vertical-align: middle;\n",
              "    }\n",
              "\n",
              "    .dataframe tbody tr th {\n",
              "        vertical-align: top;\n",
              "    }\n",
              "\n",
              "    .dataframe thead th {\n",
              "        text-align: right;\n",
              "    }\n",
              "</style>\n",
              "<table border=\"1\" class=\"dataframe\">\n",
              "  <thead>\n",
              "    <tr style=\"text-align: right;\">\n",
              "      <th></th>\n",
              "      <th>FECHA</th>\n",
              "      <th>HORA</th>\n",
              "      <th>station</th>\n",
              "      <th>measurement</th>\n",
              "    </tr>\n",
              "  </thead>\n",
              "  <tbody>\n",
              "    <tr>\n",
              "      <th>0</th>\n",
              "      <td>2019-01-01</td>\n",
              "      <td>1</td>\n",
              "      <td>AJM</td>\n",
              "      <td>19.0</td>\n",
              "    </tr>\n",
              "    <tr>\n",
              "      <th>1</th>\n",
              "      <td>2019-01-01</td>\n",
              "      <td>2</td>\n",
              "      <td>AJM</td>\n",
              "      <td>17.0</td>\n",
              "    </tr>\n",
              "    <tr>\n",
              "      <th>2</th>\n",
              "      <td>2019-01-01</td>\n",
              "      <td>3</td>\n",
              "      <td>AJM</td>\n",
              "      <td>14.0</td>\n",
              "    </tr>\n",
              "    <tr>\n",
              "      <th>3</th>\n",
              "      <td>2019-01-01</td>\n",
              "      <td>4</td>\n",
              "      <td>AJM</td>\n",
              "      <td>6.0</td>\n",
              "    </tr>\n",
              "    <tr>\n",
              "      <th>4</th>\n",
              "      <td>2019-01-01</td>\n",
              "      <td>5</td>\n",
              "      <td>AJM</td>\n",
              "      <td>4.0</td>\n",
              "    </tr>\n",
              "  </tbody>\n",
              "</table>\n",
              "</div>"
            ],
            "text/plain": [
              "       FECHA  HORA station  measurement\n",
              "0 2019-01-01     1     AJM         19.0\n",
              "1 2019-01-01     2     AJM         17.0\n",
              "2 2019-01-01     3     AJM         14.0\n",
              "3 2019-01-01     4     AJM          6.0\n",
              "4 2019-01-01     5     AJM          4.0"
            ]
          },
          "metadata": {
            "tags": []
          },
          "execution_count": 4
        }
      ]
    },
    {
      "cell_type": "markdown",
      "metadata": {
        "id": "b0czCHjevKnk"
      },
      "source": [
        "Ahora se busca eliminar, según el día y la estación, aquellas filas que tengan mediciones horarias menores a las requeridas por la normativa (18 mediciones). Por ejemplo, si la estación ACO en el 01 de enero de 2019 registró solamente 15 mediciones horarias, todas las mediciones de ese día para la estación ACO no será tomadas en cuenta para los posteriores análisis. \r\n",
        "\r\n",
        "Primero se debe elaborar una función que devuelva el dataframe que contenga solamente los registros válidos"
      ]
    },
    {
      "cell_type": "code",
      "metadata": {
        "id": "gHHeR-o-vO-M"
      },
      "source": [
        "def dia_estacion_valido(dataframe):\r\n",
        "  #Contar las mediciones horarias por día y estación\r\n",
        "  filtro= dataframe.groupby(['FECHA', 'station'],as_index=False).agg(N_h=('HORA','count'))\r\n",
        "  #Filtrar aquellas que no cumplen normativa\r\n",
        "  filtro= filtro.query('N_h < 17')\r\n",
        "  #Conservar las columnas de fecha y estación\r\n",
        "  filtro=filtro.loc[:,['FECHA','station']]\r\n",
        "  #Eliminar del dataframe original las mediciones que no cumplen normativa\r\n",
        "  filtro=pd.merge(dataframe,filtro, how='outer', indicator=True)\r\n",
        "  filtro=filtro[filtro['_merge'] == 'left_only']\r\n",
        "  return filtro"
      ],
      "execution_count": 5,
      "outputs": []
    },
    {
      "cell_type": "markdown",
      "metadata": {
        "id": "NSshJx7vvTuc"
      },
      "source": [
        "Con la función, se filtra las mediciones por día y por estación son válidas para los siguientes análisis."
      ]
    },
    {
      "cell_type": "code",
      "metadata": {
        "colab": {
          "base_uri": "https://localhost:8080/",
          "height": 402
        },
        "id": "PtDRKO7PvYV8",
        "outputId": "2e442c4d-ee6d-463b-c8ed-7c8140e2b480"
      },
      "source": [
        "df_filtrado= dia_estacion_valido(df)\r\n",
        "df_filtrado = df_filtrado.drop(columns=['_merge'])\r\n",
        "df_filtrado=df_filtrado.reset_index()\r\n",
        "df_filtrado = df_filtrado.drop(columns=['index'])\r\n",
        "df_filtrado"
      ],
      "execution_count": 26,
      "outputs": [
        {
          "output_type": "execute_result",
          "data": {
            "text/html": [
              "<div>\n",
              "<style scoped>\n",
              "    .dataframe tbody tr th:only-of-type {\n",
              "        vertical-align: middle;\n",
              "    }\n",
              "\n",
              "    .dataframe tbody tr th {\n",
              "        vertical-align: top;\n",
              "    }\n",
              "\n",
              "    .dataframe thead th {\n",
              "        text-align: right;\n",
              "    }\n",
              "</style>\n",
              "<table border=\"1\" class=\"dataframe\">\n",
              "  <thead>\n",
              "    <tr style=\"text-align: right;\">\n",
              "      <th></th>\n",
              "      <th>FECHA</th>\n",
              "      <th>HORA</th>\n",
              "      <th>station</th>\n",
              "      <th>measurement</th>\n",
              "    </tr>\n",
              "  </thead>\n",
              "  <tbody>\n",
              "    <tr>\n",
              "      <th>0</th>\n",
              "      <td>2019-01-01</td>\n",
              "      <td>1</td>\n",
              "      <td>AJM</td>\n",
              "      <td>19.0</td>\n",
              "    </tr>\n",
              "    <tr>\n",
              "      <th>1</th>\n",
              "      <td>2019-01-01</td>\n",
              "      <td>2</td>\n",
              "      <td>AJM</td>\n",
              "      <td>17.0</td>\n",
              "    </tr>\n",
              "    <tr>\n",
              "      <th>2</th>\n",
              "      <td>2019-01-01</td>\n",
              "      <td>3</td>\n",
              "      <td>AJM</td>\n",
              "      <td>14.0</td>\n",
              "    </tr>\n",
              "    <tr>\n",
              "      <th>3</th>\n",
              "      <td>2019-01-01</td>\n",
              "      <td>4</td>\n",
              "      <td>AJM</td>\n",
              "      <td>6.0</td>\n",
              "    </tr>\n",
              "    <tr>\n",
              "      <th>4</th>\n",
              "      <td>2019-01-01</td>\n",
              "      <td>5</td>\n",
              "      <td>AJM</td>\n",
              "      <td>4.0</td>\n",
              "    </tr>\n",
              "    <tr>\n",
              "      <th>...</th>\n",
              "      <td>...</td>\n",
              "      <td>...</td>\n",
              "      <td>...</td>\n",
              "      <td>...</td>\n",
              "    </tr>\n",
              "    <tr>\n",
              "      <th>230697</th>\n",
              "      <td>2020-12-11</td>\n",
              "      <td>20</td>\n",
              "      <td>UIZ</td>\n",
              "      <td>17.0</td>\n",
              "    </tr>\n",
              "    <tr>\n",
              "      <th>230698</th>\n",
              "      <td>2020-12-11</td>\n",
              "      <td>21</td>\n",
              "      <td>UIZ</td>\n",
              "      <td>12.0</td>\n",
              "    </tr>\n",
              "    <tr>\n",
              "      <th>230699</th>\n",
              "      <td>2020-12-11</td>\n",
              "      <td>22</td>\n",
              "      <td>UIZ</td>\n",
              "      <td>12.0</td>\n",
              "    </tr>\n",
              "    <tr>\n",
              "      <th>230700</th>\n",
              "      <td>2020-12-11</td>\n",
              "      <td>23</td>\n",
              "      <td>UIZ</td>\n",
              "      <td>15.0</td>\n",
              "    </tr>\n",
              "    <tr>\n",
              "      <th>230701</th>\n",
              "      <td>2020-12-11</td>\n",
              "      <td>24</td>\n",
              "      <td>UIZ</td>\n",
              "      <td>27.0</td>\n",
              "    </tr>\n",
              "  </tbody>\n",
              "</table>\n",
              "<p>230702 rows × 4 columns</p>\n",
              "</div>"
            ],
            "text/plain": [
              "            FECHA  HORA station  measurement\n",
              "0      2019-01-01     1     AJM         19.0\n",
              "1      2019-01-01     2     AJM         17.0\n",
              "2      2019-01-01     3     AJM         14.0\n",
              "3      2019-01-01     4     AJM          6.0\n",
              "4      2019-01-01     5     AJM          4.0\n",
              "...           ...   ...     ...          ...\n",
              "230697 2020-12-11    20     UIZ         17.0\n",
              "230698 2020-12-11    21     UIZ         12.0\n",
              "230699 2020-12-11    22     UIZ         12.0\n",
              "230700 2020-12-11    23     UIZ         15.0\n",
              "230701 2020-12-11    24     UIZ         27.0\n",
              "\n",
              "[230702 rows x 4 columns]"
            ]
          },
          "metadata": {
            "tags": []
          },
          "execution_count": 26
        }
      ]
    },
    {
      "cell_type": "markdown",
      "metadata": {
        "id": "atXZ7i2wvcUZ"
      },
      "source": [
        "Una vez con el dataframe inicial limpio, se procede a relacionar cada estación con su respectiva zona de activación. Primeramente se leen los datos"
      ]
    },
    {
      "cell_type": "code",
      "metadata": {
        "colab": {
          "base_uri": "https://localhost:8080/",
          "height": 195
        },
        "id": "B4pGbguFvuAw",
        "outputId": "10d7c9ed-f30a-4668-eb61-d827533e6ddf"
      },
      "source": [
        "# Cargando dataset de zonas\r\n",
        "df_zonas = pd.read_csv('https://raw.githubusercontent.com/IrvingC48/BeduFase2-Proyecto_python/main/Datasets/cat_estacion_depurado.csv')\r\n",
        "\r\n",
        "# Eliminando columna 'Unnamed: 0'\r\n",
        "df_zonas = df_zonas.drop(columns=['Unnamed: 0'])\r\n",
        "# Remplazando los - por NaN\r\n",
        "df_zonas = df_zonas.replace('-', np.nan)\r\n",
        "# Eliminando lo NaN's\r\n",
        "df_zonas = df_zonas.dropna(axis=0, how='any').reset_index(drop=True)\r\n",
        "# Renombrando la columna\r\n",
        "df_zonas = df_zonas.rename(columns={'cve_estac': 'station'})\r\n",
        "df_zonas.head()"
      ],
      "execution_count": 27,
      "outputs": [
        {
          "output_type": "execute_result",
          "data": {
            "text/html": [
              "<div>\n",
              "<style scoped>\n",
              "    .dataframe tbody tr th:only-of-type {\n",
              "        vertical-align: middle;\n",
              "    }\n",
              "\n",
              "    .dataframe tbody tr th {\n",
              "        vertical-align: top;\n",
              "    }\n",
              "\n",
              "    .dataframe thead th {\n",
              "        text-align: right;\n",
              "    }\n",
              "</style>\n",
              "<table border=\"1\" class=\"dataframe\">\n",
              "  <thead>\n",
              "    <tr style=\"text-align: right;\">\n",
              "      <th></th>\n",
              "      <th>station</th>\n",
              "      <th>nom_estac</th>\n",
              "      <th>Zona</th>\n",
              "    </tr>\n",
              "  </thead>\n",
              "  <tbody>\n",
              "    <tr>\n",
              "      <th>0</th>\n",
              "      <td>ACO</td>\n",
              "      <td>Acolman</td>\n",
              "      <td>NE</td>\n",
              "    </tr>\n",
              "    <tr>\n",
              "      <th>1</th>\n",
              "      <td>AJU</td>\n",
              "      <td>Ajusco</td>\n",
              "      <td>SO</td>\n",
              "    </tr>\n",
              "    <tr>\n",
              "      <th>2</th>\n",
              "      <td>AJM</td>\n",
              "      <td>Ajusco Medio</td>\n",
              "      <td>SO</td>\n",
              "    </tr>\n",
              "    <tr>\n",
              "      <th>3</th>\n",
              "      <td>ATI</td>\n",
              "      <td>Atizapan</td>\n",
              "      <td>NO</td>\n",
              "    </tr>\n",
              "    <tr>\n",
              "      <th>4</th>\n",
              "      <td>BJU</td>\n",
              "      <td>Benito Ju�rez</td>\n",
              "      <td>CE</td>\n",
              "    </tr>\n",
              "  </tbody>\n",
              "</table>\n",
              "</div>"
            ],
            "text/plain": [
              "  station      nom_estac Zona\n",
              "0     ACO        Acolman   NE\n",
              "1     AJU         Ajusco   SO\n",
              "2     AJM   Ajusco Medio   SO\n",
              "3     ATI       Atizapan   NO\n",
              "4     BJU  Benito Ju�rez   CE"
            ]
          },
          "metadata": {
            "tags": []
          },
          "execution_count": 27
        }
      ]
    },
    {
      "cell_type": "markdown",
      "metadata": {
        "id": "D-iW5csSv0gq"
      },
      "source": [
        "Se unen los registros con su zona correspondiente"
      ]
    },
    {
      "cell_type": "code",
      "metadata": {
        "colab": {
          "base_uri": "https://localhost:8080/",
          "height": 195
        },
        "id": "zP1Z1tLpvw8K",
        "outputId": "93f5b6ae-0d5e-4cb3-c5fc-8d9058948fe3"
      },
      "source": [
        "df_filtrado = df_filtrado.merge(df_zonas[['station', 'Zona']], on='station')\r\n",
        "df_filtrado.head()"
      ],
      "execution_count": 28,
      "outputs": [
        {
          "output_type": "execute_result",
          "data": {
            "text/html": [
              "<div>\n",
              "<style scoped>\n",
              "    .dataframe tbody tr th:only-of-type {\n",
              "        vertical-align: middle;\n",
              "    }\n",
              "\n",
              "    .dataframe tbody tr th {\n",
              "        vertical-align: top;\n",
              "    }\n",
              "\n",
              "    .dataframe thead th {\n",
              "        text-align: right;\n",
              "    }\n",
              "</style>\n",
              "<table border=\"1\" class=\"dataframe\">\n",
              "  <thead>\n",
              "    <tr style=\"text-align: right;\">\n",
              "      <th></th>\n",
              "      <th>FECHA</th>\n",
              "      <th>HORA</th>\n",
              "      <th>station</th>\n",
              "      <th>measurement</th>\n",
              "      <th>Zona</th>\n",
              "    </tr>\n",
              "  </thead>\n",
              "  <tbody>\n",
              "    <tr>\n",
              "      <th>0</th>\n",
              "      <td>2019-01-01</td>\n",
              "      <td>1</td>\n",
              "      <td>AJM</td>\n",
              "      <td>19.0</td>\n",
              "      <td>SO</td>\n",
              "    </tr>\n",
              "    <tr>\n",
              "      <th>1</th>\n",
              "      <td>2019-01-01</td>\n",
              "      <td>2</td>\n",
              "      <td>AJM</td>\n",
              "      <td>17.0</td>\n",
              "      <td>SO</td>\n",
              "    </tr>\n",
              "    <tr>\n",
              "      <th>2</th>\n",
              "      <td>2019-01-01</td>\n",
              "      <td>3</td>\n",
              "      <td>AJM</td>\n",
              "      <td>14.0</td>\n",
              "      <td>SO</td>\n",
              "    </tr>\n",
              "    <tr>\n",
              "      <th>3</th>\n",
              "      <td>2019-01-01</td>\n",
              "      <td>4</td>\n",
              "      <td>AJM</td>\n",
              "      <td>6.0</td>\n",
              "      <td>SO</td>\n",
              "    </tr>\n",
              "    <tr>\n",
              "      <th>4</th>\n",
              "      <td>2019-01-01</td>\n",
              "      <td>5</td>\n",
              "      <td>AJM</td>\n",
              "      <td>4.0</td>\n",
              "      <td>SO</td>\n",
              "    </tr>\n",
              "  </tbody>\n",
              "</table>\n",
              "</div>"
            ],
            "text/plain": [
              "       FECHA  HORA station  measurement Zona\n",
              "0 2019-01-01     1     AJM         19.0   SO\n",
              "1 2019-01-01     2     AJM         17.0   SO\n",
              "2 2019-01-01     3     AJM         14.0   SO\n",
              "3 2019-01-01     4     AJM          6.0   SO\n",
              "4 2019-01-01     5     AJM          4.0   SO"
            ]
          },
          "metadata": {
            "tags": []
          },
          "execution_count": 28
        }
      ]
    },
    {
      "cell_type": "markdown",
      "metadata": {
        "id": "qoZvY6w5v822"
      },
      "source": [
        "Con los datos válidos para realizar las operaciones siguientes y ya con la relación de cada estación con su respectiva zona de activación, se procede a calcular el promedio diario de concentración y el índice de calidad del aire en cada zona y en cada día"
      ]
    },
    {
      "cell_type": "markdown",
      "metadata": {
        "id": "SQ5x65IopRo2"
      },
      "source": [
        "### Calculando el promedio diario\n",
        "Para el cálculo del promedio diario de $PM_{2.5}$ se utilizó la metodología descrita en la `NOM-025-SSA1-2014`, siguiendo la siguiente ecuación:\n",
        "\n",
        "$$\\bar{x}= \\frac{1}{n} \\displaystyle\\sum_{i=1}^n x_i$$\n",
        "$\\bar{x}:$ promedio de 24 horas, \n",
        "\n",
        "$n:$ número de concentraciones horarias válidas\n",
        "\n",
        "$x_i:$ concentraciones horarias válidas\n",
        "\n",
        "- Camo datos extra obteniendo los valores minimos y maximos\n",
        "- Tambien contabilizando cuantas horas fueron utilizadas para dicho promedio, columna(`N`)"
      ]
    },
    {
      "cell_type": "code",
      "metadata": {
        "colab": {
          "base_uri": "https://localhost:8080/",
          "height": 195
        },
        "id": "S9WEgTBEkFkK",
        "outputId": "6992543a-e783-41ca-98c4-45f6ee751c06"
      },
      "source": [
        "# Calculando promedio diario, contando numero de horas usadas, obteniendo el maximo y minimo\n",
        "df_PM2524h = df_filtrado.groupby(['FECHA', 'Zona'], as_index=False).agg(PromDiario=('measurement', lambda x: round(x.mean(),1)), #En este caso, se redondea a un decimal\n",
        "                                                                    Max = ('measurement', 'max'),\n",
        "                                                                    Min = ('measurement', 'min'))\n",
        "df_PM2524h.head()"
      ],
      "execution_count": 29,
      "outputs": [
        {
          "output_type": "execute_result",
          "data": {
            "text/html": [
              "<div>\n",
              "<style scoped>\n",
              "    .dataframe tbody tr th:only-of-type {\n",
              "        vertical-align: middle;\n",
              "    }\n",
              "\n",
              "    .dataframe tbody tr th {\n",
              "        vertical-align: top;\n",
              "    }\n",
              "\n",
              "    .dataframe thead th {\n",
              "        text-align: right;\n",
              "    }\n",
              "</style>\n",
              "<table border=\"1\" class=\"dataframe\">\n",
              "  <thead>\n",
              "    <tr style=\"text-align: right;\">\n",
              "      <th></th>\n",
              "      <th>FECHA</th>\n",
              "      <th>Zona</th>\n",
              "      <th>PromDiario</th>\n",
              "      <th>Max</th>\n",
              "      <th>Min</th>\n",
              "    </tr>\n",
              "  </thead>\n",
              "  <tbody>\n",
              "    <tr>\n",
              "      <th>0</th>\n",
              "      <td>2019-01-01</td>\n",
              "      <td>CE</td>\n",
              "      <td>67.8</td>\n",
              "      <td>165.0</td>\n",
              "      <td>8.0</td>\n",
              "    </tr>\n",
              "    <tr>\n",
              "      <th>1</th>\n",
              "      <td>2019-01-01</td>\n",
              "      <td>NE</td>\n",
              "      <td>93.1</td>\n",
              "      <td>393.0</td>\n",
              "      <td>12.0</td>\n",
              "    </tr>\n",
              "    <tr>\n",
              "      <th>2</th>\n",
              "      <td>2019-01-01</td>\n",
              "      <td>NO</td>\n",
              "      <td>56.9</td>\n",
              "      <td>162.0</td>\n",
              "      <td>13.0</td>\n",
              "    </tr>\n",
              "    <tr>\n",
              "      <th>3</th>\n",
              "      <td>2019-01-01</td>\n",
              "      <td>SE</td>\n",
              "      <td>84.8</td>\n",
              "      <td>180.0</td>\n",
              "      <td>11.0</td>\n",
              "    </tr>\n",
              "    <tr>\n",
              "      <th>4</th>\n",
              "      <td>2019-01-01</td>\n",
              "      <td>SO</td>\n",
              "      <td>27.6</td>\n",
              "      <td>97.0</td>\n",
              "      <td>2.0</td>\n",
              "    </tr>\n",
              "  </tbody>\n",
              "</table>\n",
              "</div>"
            ],
            "text/plain": [
              "       FECHA Zona  PromDiario    Max   Min\n",
              "0 2019-01-01   CE        67.8  165.0   8.0\n",
              "1 2019-01-01   NE        93.1  393.0  12.0\n",
              "2 2019-01-01   NO        56.9  162.0  13.0\n",
              "3 2019-01-01   SE        84.8  180.0  11.0\n",
              "4 2019-01-01   SO        27.6   97.0   2.0"
            ]
          },
          "metadata": {
            "tags": []
          },
          "execution_count": 29
        }
      ]
    },
    {
      "cell_type": "markdown",
      "metadata": {
        "id": "5SjYTDj8qhL3"
      },
      "source": [
        "### Calculando Índice de calidad del aire\n",
        "\n",
        "Donde:\n",
        "$$\\text{Índice}= (k \\times (C \\times BP_{Lo}))+I_{Lo}$$\n",
        "\n",
        "$$k= \\frac{I_{Hi}-I_{Lo}}{BP_{Hi}-BP_{Lo}}$$\n",
        "\n",
        " \n",
        "$\\text{Índice}:$ Valor del índice para el contaminante deseado.<br>\n",
        "$C:$ valor redondeado para la concentración del contaminante.<br>\n",
        "$k:$ constante de proporcionalidad estimada.<br>\n",
        "$BP_{Hi}:$ valor del punto de corte que es mayor o igual a la concentración a evaluar.<br>\n",
        "$BP_{Lo}:$ valor del punto de corte que es menor o igual a la concentración a evaluar.<br>\n",
        "$I_{Hi}:$ valor del índice que corresponde al valor de $BP_{Hi}$<br>\n",
        "$I_{Lo}:$ valor del índice que corresponde al valor de $BP_{Lo}$<br>"
      ]
    },
    {
      "cell_type": "code",
      "metadata": {
        "id": "f7H-UcN3kFkM"
      },
      "source": [
        "def AQI(df):\n",
        "    CP = df['PromDiario']\n",
        "    i = 0\n",
        "\n",
        "    if 0.0 <= CP <= 12.0:\n",
        "        k = (50-0)/(12-0)\n",
        "        i = k * (CP - 0) + 0\n",
        "    if 12.1 <= CP <= 45.0:\n",
        "        k = (100-51)/(45-12.1)\n",
        "        i = k * (CP - 12.1) + 51\n",
        "    if 45.1 <= CP <= 97.4:\n",
        "        k = (150-101)/(97.4-45.1)\n",
        "        i = k * (CP - 45.1) + 101\n",
        "    if 97.5 <= CP <= 150.4:\n",
        "        k = (200-151)/(150.4-97.5)\n",
        "        i = k * (CP - 97.5) + 151\n",
        "    if 150.5 <= CP <= 250.4:\n",
        "        k = (300-201)/(250.4-150.5)\n",
        "        i = k * (CP - 150.5) + 201\n",
        "    if 250.5 <= CP <= 350.4:\n",
        "        k = (400-301)/(350.4-250.5)\n",
        "        i = k * (CP - 250.5) + 301\n",
        "    if 350.5 <= CP <= 500.4:\n",
        "        k = (500-401)/(500.4-350.5)\n",
        "        i = k * (CP - 350.5) + 401\n",
        "\n",
        "    return round(i, 3)"
      ],
      "execution_count": 30,
      "outputs": []
    },
    {
      "cell_type": "code",
      "metadata": {
        "colab": {
          "base_uri": "https://localhost:8080/",
          "height": 195
        },
        "id": "4BA8FdWOkFkN",
        "outputId": "1c068779-6fab-4254-ad41-459023e834f8"
      },
      "source": [
        "df_PM2524h['indice'] = df_PM2524h.apply(AQI, axis=1)\n",
        "df_PM2524h.head()"
      ],
      "execution_count": 31,
      "outputs": [
        {
          "output_type": "execute_result",
          "data": {
            "text/html": [
              "<div>\n",
              "<style scoped>\n",
              "    .dataframe tbody tr th:only-of-type {\n",
              "        vertical-align: middle;\n",
              "    }\n",
              "\n",
              "    .dataframe tbody tr th {\n",
              "        vertical-align: top;\n",
              "    }\n",
              "\n",
              "    .dataframe thead th {\n",
              "        text-align: right;\n",
              "    }\n",
              "</style>\n",
              "<table border=\"1\" class=\"dataframe\">\n",
              "  <thead>\n",
              "    <tr style=\"text-align: right;\">\n",
              "      <th></th>\n",
              "      <th>FECHA</th>\n",
              "      <th>Zona</th>\n",
              "      <th>PromDiario</th>\n",
              "      <th>Max</th>\n",
              "      <th>Min</th>\n",
              "      <th>indice</th>\n",
              "    </tr>\n",
              "  </thead>\n",
              "  <tbody>\n",
              "    <tr>\n",
              "      <th>0</th>\n",
              "      <td>2019-01-01</td>\n",
              "      <td>CE</td>\n",
              "      <td>67.8</td>\n",
              "      <td>165.0</td>\n",
              "      <td>8.0</td>\n",
              "      <td>122.268</td>\n",
              "    </tr>\n",
              "    <tr>\n",
              "      <th>1</th>\n",
              "      <td>2019-01-01</td>\n",
              "      <td>NE</td>\n",
              "      <td>93.1</td>\n",
              "      <td>393.0</td>\n",
              "      <td>12.0</td>\n",
              "      <td>145.971</td>\n",
              "    </tr>\n",
              "    <tr>\n",
              "      <th>2</th>\n",
              "      <td>2019-01-01</td>\n",
              "      <td>NO</td>\n",
              "      <td>56.9</td>\n",
              "      <td>162.0</td>\n",
              "      <td>13.0</td>\n",
              "      <td>112.055</td>\n",
              "    </tr>\n",
              "    <tr>\n",
              "      <th>3</th>\n",
              "      <td>2019-01-01</td>\n",
              "      <td>SE</td>\n",
              "      <td>84.8</td>\n",
              "      <td>180.0</td>\n",
              "      <td>11.0</td>\n",
              "      <td>138.195</td>\n",
              "    </tr>\n",
              "    <tr>\n",
              "      <th>4</th>\n",
              "      <td>2019-01-01</td>\n",
              "      <td>SO</td>\n",
              "      <td>27.6</td>\n",
              "      <td>97.0</td>\n",
              "      <td>2.0</td>\n",
              "      <td>74.085</td>\n",
              "    </tr>\n",
              "  </tbody>\n",
              "</table>\n",
              "</div>"
            ],
            "text/plain": [
              "       FECHA Zona  PromDiario    Max   Min   indice\n",
              "0 2019-01-01   CE        67.8  165.0   8.0  122.268\n",
              "1 2019-01-01   NE        93.1  393.0  12.0  145.971\n",
              "2 2019-01-01   NO        56.9  162.0  13.0  112.055\n",
              "3 2019-01-01   SE        84.8  180.0  11.0  138.195\n",
              "4 2019-01-01   SO        27.6   97.0   2.0   74.085"
            ]
          },
          "metadata": {
            "tags": []
          },
          "execution_count": 31
        }
      ]
    },
    {
      "cell_type": "markdown",
      "metadata": {
        "id": "1Zk0qA4os36v"
      },
      "source": [
        "Con el índice de calidad del aire, se crea otra función para determinar la categoría de calidad del aire descrita por la norma mexicana."
      ]
    },
    {
      "cell_type": "code",
      "metadata": {
        "id": "HhLxTvbGw2DT"
      },
      "source": [
        "def AQI_categoria(df):\r\n",
        "    indice = df['indice']\r\n",
        "    if indice <= 50.0:\r\n",
        "      clase='Buena'\r\n",
        "    elif indice <= 100.0:\r\n",
        "      clase='Regular'\r\n",
        "    elif indice <= 150.0:\r\n",
        "      clase= 'Mala'\r\n",
        "    elif indice <= 200.0:\r\n",
        "      clase = 'Muy mala'\r\n",
        "    else: \r\n",
        "      clase = 'Extremadamente mala'\r\n",
        "    \r\n",
        "    return clase"
      ],
      "execution_count": 32,
      "outputs": []
    },
    {
      "cell_type": "markdown",
      "metadata": {
        "id": "n0F8swwFxLwT"
      },
      "source": [
        "Se aplica la función para determinar la categoría a cada promedio diario calculado."
      ]
    },
    {
      "cell_type": "code",
      "metadata": {
        "colab": {
          "base_uri": "https://localhost:8080/",
          "height": 195
        },
        "id": "jV8r2Wc8xPZb",
        "outputId": "57fcc955-4a2a-47fa-aaa4-1b89199c013b"
      },
      "source": [
        "df_PM2524h['clase'] = df_PM2524h.apply(AQI_categoria, axis=1)\r\n",
        "df_PM2524h.head()"
      ],
      "execution_count": 33,
      "outputs": [
        {
          "output_type": "execute_result",
          "data": {
            "text/html": [
              "<div>\n",
              "<style scoped>\n",
              "    .dataframe tbody tr th:only-of-type {\n",
              "        vertical-align: middle;\n",
              "    }\n",
              "\n",
              "    .dataframe tbody tr th {\n",
              "        vertical-align: top;\n",
              "    }\n",
              "\n",
              "    .dataframe thead th {\n",
              "        text-align: right;\n",
              "    }\n",
              "</style>\n",
              "<table border=\"1\" class=\"dataframe\">\n",
              "  <thead>\n",
              "    <tr style=\"text-align: right;\">\n",
              "      <th></th>\n",
              "      <th>FECHA</th>\n",
              "      <th>Zona</th>\n",
              "      <th>PromDiario</th>\n",
              "      <th>Max</th>\n",
              "      <th>Min</th>\n",
              "      <th>indice</th>\n",
              "      <th>clase</th>\n",
              "    </tr>\n",
              "  </thead>\n",
              "  <tbody>\n",
              "    <tr>\n",
              "      <th>0</th>\n",
              "      <td>2019-01-01</td>\n",
              "      <td>CE</td>\n",
              "      <td>67.8</td>\n",
              "      <td>165.0</td>\n",
              "      <td>8.0</td>\n",
              "      <td>122.268</td>\n",
              "      <td>Mala</td>\n",
              "    </tr>\n",
              "    <tr>\n",
              "      <th>1</th>\n",
              "      <td>2019-01-01</td>\n",
              "      <td>NE</td>\n",
              "      <td>93.1</td>\n",
              "      <td>393.0</td>\n",
              "      <td>12.0</td>\n",
              "      <td>145.971</td>\n",
              "      <td>Mala</td>\n",
              "    </tr>\n",
              "    <tr>\n",
              "      <th>2</th>\n",
              "      <td>2019-01-01</td>\n",
              "      <td>NO</td>\n",
              "      <td>56.9</td>\n",
              "      <td>162.0</td>\n",
              "      <td>13.0</td>\n",
              "      <td>112.055</td>\n",
              "      <td>Mala</td>\n",
              "    </tr>\n",
              "    <tr>\n",
              "      <th>3</th>\n",
              "      <td>2019-01-01</td>\n",
              "      <td>SE</td>\n",
              "      <td>84.8</td>\n",
              "      <td>180.0</td>\n",
              "      <td>11.0</td>\n",
              "      <td>138.195</td>\n",
              "      <td>Mala</td>\n",
              "    </tr>\n",
              "    <tr>\n",
              "      <th>4</th>\n",
              "      <td>2019-01-01</td>\n",
              "      <td>SO</td>\n",
              "      <td>27.6</td>\n",
              "      <td>97.0</td>\n",
              "      <td>2.0</td>\n",
              "      <td>74.085</td>\n",
              "      <td>Regular</td>\n",
              "    </tr>\n",
              "  </tbody>\n",
              "</table>\n",
              "</div>"
            ],
            "text/plain": [
              "       FECHA Zona  PromDiario    Max   Min   indice    clase\n",
              "0 2019-01-01   CE        67.8  165.0   8.0  122.268     Mala\n",
              "1 2019-01-01   NE        93.1  393.0  12.0  145.971     Mala\n",
              "2 2019-01-01   NO        56.9  162.0  13.0  112.055     Mala\n",
              "3 2019-01-01   SE        84.8  180.0  11.0  138.195     Mala\n",
              "4 2019-01-01   SO        27.6   97.0   2.0   74.085  Regular"
            ]
          },
          "metadata": {
            "tags": []
          },
          "execution_count": 33
        }
      ]
    },
    {
      "cell_type": "code",
      "metadata": {
        "id": "Vm8iCpdfyFS-"
      },
      "source": [
        "data_PM2524h.to_csv('../Datasets/PM25/PDEstacion_PM25.csv', index=False)"
      ],
      "execution_count": null,
      "outputs": []
    }
  ]
}