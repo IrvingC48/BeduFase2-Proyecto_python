{
  "nbformat": 4,
  "nbformat_minor": 0,
  "metadata": {
    "colab": {
      "name": "ProyectoPython.ipynb",
      "provenance": []
    },
    "kernelspec": {
      "name": "python3",
      "display_name": "Python 3.9.2 64-bit",
      "metadata": {
        "interpreter": {
          "hash": "d0851c8d918f9ad433d63dff71dbacbe17259539d55e689a7d9cbf48e3dba898"
        }
      }
    }
  },
  "cells": [
    {
      "cell_type": "markdown",
      "metadata": {
        "id": "MENFxADXXH_s"
      },
      "source": [
        "# Análisis Exploratorio de datos\n",
        "\n",
        "### OBJETIVO\n",
        "\n",
        "*   Entender los datos que se utilizarán en nuestro estudio\n",
        "*   Conocer el tamaño de los datasets\n",
        "*   Descubrir las columnas de nuestro conjunto de datos e identificar el tipo de dato de cada una de ellas"
      ]
    },
    {
      "source": [
        "Para los objetivos del estudio, utilizamos datos abiertos sobre la calidad del aire, disponibles desde la página del gobierno de la ciudad de México [aire.cdmx.gob.mx](http://www.aire.cdmx.gob.mx/default.php?opc='aKBh')\n",
        "\n",
        "En estas bases de datos se pueden encontrar las concentraciones de $PM_{2.5}$ y $PM_{10}$ expresadas en $𝜇g/m^3$ registradas en las estaciones de monitoreo del Valle de México. Para nuestro análisis utilizamos la información de los años 2019 y 2020. De igual forma se utilizó un dataset con las ubicaciones de las estaciones de monitoreo y la zona del Valle de México a la que corresponde, este dataset se creó con la información del `SIMAT` y la `RAMA`."
      ],
      "cell_type": "markdown",
      "metadata": {}
    },
    {
      "source": [
        "## Carga general de datos\n",
        "\n",
        "Para nuestra exploración de datos, utilizaremos la siguiente libreria:"
      ],
      "cell_type": "markdown",
      "metadata": {}
    },
    {
      "cell_type": "code",
      "metadata": {
        "id": "lorK4qBmXEzB"
      },
      "source": [
        "import pandas as pd"
      ],
      "execution_count": 1,
      "outputs": []
    },
    {
      "cell_type": "markdown",
      "metadata": {
        "id": "4hq_9kB-EIGs"
      },
      "source": [
        "Con la función de `read_csv` leemos los archivos `csv` que se encuentran en nuestro repositorio de github "
      ]
    },
    {
      "cell_type": "code",
      "metadata": {
        "id": "dVhLcAQApTrl"
      },
      "source": [
        "df2019PM10 = pd.read_csv(\"../Datasets/PM10/2019PM10.csv\")\n",
        "df2020PM10 = pd.read_csv(\"../Datasets/PM10/2020PM10.csv\")\n",
        "\n",
        "df2019PM25 = pd.read_csv(\"../Datasets/PM2.5/2019PM25.csv\")\n",
        "df2020PM25 = pd.read_csv(\"../Datasets/PM2.5/2020PM25.csv\")\n",
        "\n",
        "dfcatalogo = pd.read_csv(\"../Datasets/cat_estacion.csv\",encoding='latin-1')\n"
      ],
      "execution_count": 2,
      "outputs": []
    },
    {
      "cell_type": "markdown",
      "metadata": {
        "id": "AfOixL44I5jy"
      },
      "source": [
        "## Tamaño del conjunto de datos\n",
        "\n",
        "Utizamos la función de `shape` para conocer el numero de columnas y filas de nuestros datasets."
      ]
    },
    {
      "cell_type": "code",
      "metadata": {
        "colab": {
          "base_uri": "https://localhost:8080/"
        },
        "id": "Mkyx6T9JUDRQ",
        "outputId": "6184ea1c-b863-4960-f131-ae5a68dbf880"
      },
      "source": [
        "df2019PM10.shape"
      ],
      "execution_count": 3,
      "outputs": [
        {
          "output_type": "execute_result",
          "data": {
            "text/plain": [
              "(8760, 29)"
            ]
          },
          "metadata": {},
          "execution_count": 3
        }
      ]
    },
    {
      "cell_type": "code",
      "metadata": {
        "colab": {
          "base_uri": "https://localhost:8080/"
        },
        "id": "5PDayLWgUF0p",
        "outputId": "06be14d5-51ed-41bc-feca-96fe72f945de"
      },
      "source": [
        "df2020PM10.shape"
      ],
      "execution_count": 4,
      "outputs": [
        {
          "output_type": "execute_result",
          "data": {
            "text/plain": [
              "(8784, 29)"
            ]
          },
          "metadata": {},
          "execution_count": 4
        }
      ]
    },
    {
      "cell_type": "code",
      "metadata": {
        "colab": {
          "base_uri": "https://localhost:8080/"
        },
        "id": "bFvD3kecUMLd",
        "outputId": "64ec6ca6-ff01-454d-b27e-7e58d76dc347"
      },
      "source": [
        "df2019PM25.shape"
      ],
      "execution_count": 5,
      "outputs": [
        {
          "output_type": "execute_result",
          "data": {
            "text/plain": [
              "(8760, 26)"
            ]
          },
          "metadata": {},
          "execution_count": 5
        }
      ]
    },
    {
      "cell_type": "code",
      "metadata": {
        "colab": {
          "base_uri": "https://localhost:8080/"
        },
        "id": "c04vfPa7UQwV",
        "outputId": "07bd896d-f2c2-49cf-acea-211b6336b705"
      },
      "source": [
        "df2020PM25.shape"
      ],
      "execution_count": 6,
      "outputs": [
        {
          "output_type": "execute_result",
          "data": {
            "text/plain": [
              "(8040, 26)"
            ]
          },
          "metadata": {},
          "execution_count": 6
        }
      ]
    },
    {
      "cell_type": "code",
      "metadata": {
        "colab": {
          "base_uri": "https://localhost:8080/"
        },
        "id": "ZHYUcKRohUEp",
        "outputId": "b523e1f7-3370-42d7-fc16-5d36720e8a0f"
      },
      "source": [
        "dfcatalogo.shape"
      ],
      "execution_count": 7,
      "outputs": [
        {
          "output_type": "execute_result",
          "data": {
            "text/plain": [
              "(69, 8)"
            ]
          },
          "metadata": {},
          "execution_count": 7
        }
      ]
    },
    {
      "cell_type": "markdown",
      "metadata": {
        "id": "HZycZDCdFDXs"
      },
      "source": [
        "## Descripción de los datos\n",
        "\n",
        "A continuación se muestran una serie de funciones para conocer nuestro conjunto de datos: \n",
        "*  La función de `dtypes` nos permite saber el tipo de dato de nuestras columnas.\n",
        "*  Con la función `info` podemos visualizar los primeros 5 renglones y los últimos 5. También podemos observar el número de columnas y filas.\n",
        "*  La función `head` nos permite observar los primeros renglones de nuestro dataset y te da la facilidad de observar el número de renglones que quieras.\n",
        "*  La función `tail` nos permite observar los ultimos renglones de nuestro dataset y al igual que la función `head` te da la facilidad de observar el número de renglones que quieras.\n",
        "\n",
        "\n"
      ]
    },
    {
      "cell_type": "code",
      "metadata": {
        "colab": {
          "base_uri": "https://localhost:8080/"
        },
        "id": "aHTYY0NgcfxQ",
        "outputId": "e15ea7da-a158-4e80-9cd4-24599f2ad550"
      },
      "source": [
        "df2019PM10.dtypes"
      ],
      "execution_count": 8,
      "outputs": [
        {
          "output_type": "execute_result",
          "data": {
            "text/plain": [
              "FECHA    object\n",
              "HORA      int64\n",
              "ACO       int64\n",
              "AJM       int64\n",
              "ATI       int64\n",
              "BJU       int64\n",
              "CAM       int64\n",
              "CHO       int64\n",
              "CUA       int64\n",
              "CUT       int64\n",
              "FAC       int64\n",
              "FAR       int64\n",
              "GAM       int64\n",
              "HGM       int64\n",
              "INN       int64\n",
              "IZT       int64\n",
              "MER       int64\n",
              "MGH       int64\n",
              "MPA       int64\n",
              "PED       int64\n",
              "SAC       int64\n",
              "SAG       int64\n",
              "SFE       int64\n",
              "TAH       int64\n",
              "TLA       int64\n",
              "TLI       int64\n",
              "UIZ       int64\n",
              "VIF       int64\n",
              "XAL       int64\n",
              "dtype: object"
            ]
          },
          "metadata": {},
          "execution_count": 8
        }
      ]
    },
    {
      "cell_type": "code",
      "metadata": {
        "colab": {
          "base_uri": "https://localhost:8080/"
        },
        "id": "xpstWg1wZxA3",
        "outputId": "03578dcd-ac40-4293-8b88-10c0114a3a67"
      },
      "source": [
        "df2020PM10.info"
      ],
      "execution_count": 9,
      "outputs": [
        {
          "output_type": "execute_result",
          "data": {
            "text/plain": [
              "<bound method DataFrame.info of            FECHA  HORA  ACO  AJM  ATI  BJU  CAM  CHO  CUA  CUT  ...  PED  SAC  \\\n",
              "0     01/01/2020     1  -99  -99  102   62  -99  -99  116  138  ...   55  -99   \n",
              "1     01/01/2020     2  -99  -99  113   61  -99  -99  200  137  ...   70  -99   \n",
              "2     01/01/2020     3  -99  -99  123   63  -99  -99  136  192  ...   82  -99   \n",
              "3     01/01/2020     4  -99  -99  101   66  -99  -99  143  201  ...   86  -99   \n",
              "4     01/01/2020     5  -99  -99   76  103  -99  -99   88  160  ...   84  -99   \n",
              "...          ...   ...  ...  ...  ...  ...  ...  ...  ...  ...  ...  ...  ...   \n",
              "8779  31/12/2020    20   64  -99   28   20  -99  -99  -99   56  ...    9  -99   \n",
              "8780  31/12/2020    21   47  -99   10   27  -99  -99  -99   45  ...   17  -99   \n",
              "8781  31/12/2020    22   43  -99   18   24  -99  -99  -99   39  ...   28  -99   \n",
              "8782  31/12/2020    23   43  -99   40   28  -99  -99  -99   44  ...   53  -99   \n",
              "8783  31/12/2020    24   33  -99   20   49  -99  -99  -99   77  ...  -99  -99   \n",
              "\n",
              "      SAG  SFE  TAH  TLA  TLI  UIZ  VIF  XAL  \n",
              "0     -99   37  184   64  -99   92  276  -99  \n",
              "1     -99   46  210   66  -99  116  201  -99  \n",
              "2     -99   37  164   74  -99  115  402  -99  \n",
              "3     -99   38  120   78  -99   70  313  -99  \n",
              "4     -99   37   97   65  -99   70  311  -99  \n",
              "...   ...  ...  ...  ...  ...  ...  ...  ...  \n",
              "8779   61   29  -99   27  -99   24   54  -99  \n",
              "8780   49   30  -99   20  -99   20   52  -99  \n",
              "8781   52   29  -99   28  -99   21   52  -99  \n",
              "8782   62   28  -99   33  -99   42  178  -99  \n",
              "8783   94   27   67   37  -99   43  215  -99  \n",
              "\n",
              "[8784 rows x 29 columns]>"
            ]
          },
          "metadata": {},
          "execution_count": 9
        }
      ]
    },
    {
      "cell_type": "code",
      "metadata": {
        "colab": {
          "base_uri": "https://localhost:8080/",
          "height": 815
        },
        "id": "17w9u_OOpXQT",
        "outputId": "18871188-67f3-46b3-c4fe-d99109e7f176"
      },
      "source": [
        "df2019PM25.head(25)\r\n"
      ],
      "execution_count": 10,
      "outputs": [
        {
          "output_type": "execute_result",
          "data": {
            "text/plain": [
              "         FECHA  HORA  AJM  AJU  BJU  CAM  CCA  COY  FAR  GAM  ...  NEZ  PED  \\\n",
              "0   01/01/2019     1   19   35   62   90   66  -99  -99  -99  ...  133  -99   \n",
              "1   01/01/2019     2   17   24   88  104   84  -99  -99  -99  ...  164  -99   \n",
              "2   01/01/2019     3   14   20  107  140   95  -99  -99  -99  ...  206  -99   \n",
              "3   01/01/2019     4    6   15  101  162   97  -99  -99  -99  ...  273  -99   \n",
              "4   01/01/2019     5    4    8  121  133   88  -99  -99  -99  ...  291  -99   \n",
              "5   01/01/2019     6    7    7   93  106   77  -99  -99  -99  ...  387  -99   \n",
              "6   01/01/2019     7   12    8   84   98   51  -99  -99  -99  ...  393  -99   \n",
              "7   01/01/2019     8   15    7  101   82   39  -99  -99  -99  ...  291  -99   \n",
              "8   01/01/2019     9   24    3   89   54   26  -99  -99  -99  ...  264  -99   \n",
              "9   01/01/2019    10   24  -99   88   76   26  -99  -99  -99  ...  182  -99   \n",
              "10  01/01/2019    11   49  -99  102   77   66  -99  -99  -99  ...  139  -99   \n",
              "11  01/01/2019    12   52    9  105   77   88  -99  -99  -99  ...   81  -99   \n",
              "12  01/01/2019    13   75   27   84   45   96  -99  -99  -99  ...   41  -99   \n",
              "13  01/01/2019    14   76   17   85  -99   45  -99  -99  -99  ...   40  -99   \n",
              "14  01/01/2019    15   46   16   63   37   37  -99  -99  -99  ...   25  -99   \n",
              "15  01/01/2019    16   34   19   40   58   47  -99  -99  -99  ...   19  -99   \n",
              "16  01/01/2019    17   19   13   31   54   32  -99  -99  -99  ...   14  -99   \n",
              "17  01/01/2019    18   10   18   16   19   13  -99  -99  -99  ...   21  -99   \n",
              "18  01/01/2019    19   13   21   11   13   17  -99  -99  -99  ...   12  -99   \n",
              "19  01/01/2019    20    6   24    8   18   13  -99  -99  -99  ...   15  -99   \n",
              "20  01/01/2019    21    8   11   25   26   20  -99  -99  -99  ...   25  -99   \n",
              "21  01/01/2019    22   27   10   34   27   17  -99  -99  -99  ...   31  -99   \n",
              "22  01/01/2019    23   23    8   33   26   22  -99  -99  -99  ...   37  -99   \n",
              "23  01/01/2019    24   23   10   25   32   20  -99  -99  -99  ...  118  -99   \n",
              "24  02/01/2019     1   21    4   24   32   19  -99  -99  -99  ...   71  -99   \n",
              "\n",
              "    SAC  SAG  SFE  SJA  TLA  UAX  UIZ  XAL  \n",
              "0   -99   92   33  -99   55   74   99   96  \n",
              "1   -99  100   40  -99   52  115   99  164  \n",
              "2   -99  104   52  -99   59  150  109  249  \n",
              "3   -99  144   25  -99   58  180  112  200  \n",
              "4   -99  171   21  -99   46  167  164  161  \n",
              "5   -99  138   15  -99   51  165  168  186  \n",
              "6   -99  125   10  -99   47  158  167  179  \n",
              "7   -99  134   14  -99   29  159  156  152  \n",
              "8   -99  135   13  -99   47  142  139  156  \n",
              "9   -99  177   45  -99  104  125  142  160  \n",
              "10  -99  120   52  -99  151   93  130  147  \n",
              "11  -99   84   45  -99   60   89   98   88  \n",
              "12  -99   49   41  -99   53   80   45   55  \n",
              "13  -99   38   41  -99   45   77   59   40  \n",
              "14  -99   36   35  -99   38   57   55   36  \n",
              "15  -99   33   53  -99   29   39   34   36  \n",
              "16  -99   22   60  -99   34   19   15   28  \n",
              "17  -99   18   42  -99   26   11   16   24  \n",
              "18  -99   42   35  -99   14   19   34   15  \n",
              "19  -99   45   35  -99   17   19   16   25  \n",
              "20  -99   40   25  -99   25   32   23   40  \n",
              "21  -99   30   25  -99   31   37   32   53  \n",
              "22  -99   14   28  -99   27   37   41   38  \n",
              "23  -99   40   28  -99   21   30   41   39  \n",
              "24  -99   24   27  -99   26   28   36   33  \n",
              "\n",
              "[25 rows x 26 columns]"
            ],
            "text/html": "<div>\n<style scoped>\n    .dataframe tbody tr th:only-of-type {\n        vertical-align: middle;\n    }\n\n    .dataframe tbody tr th {\n        vertical-align: top;\n    }\n\n    .dataframe thead th {\n        text-align: right;\n    }\n</style>\n<table border=\"1\" class=\"dataframe\">\n  <thead>\n    <tr style=\"text-align: right;\">\n      <th></th>\n      <th>FECHA</th>\n      <th>HORA</th>\n      <th>AJM</th>\n      <th>AJU</th>\n      <th>BJU</th>\n      <th>CAM</th>\n      <th>CCA</th>\n      <th>COY</th>\n      <th>FAR</th>\n      <th>GAM</th>\n      <th>...</th>\n      <th>NEZ</th>\n      <th>PED</th>\n      <th>SAC</th>\n      <th>SAG</th>\n      <th>SFE</th>\n      <th>SJA</th>\n      <th>TLA</th>\n      <th>UAX</th>\n      <th>UIZ</th>\n      <th>XAL</th>\n    </tr>\n  </thead>\n  <tbody>\n    <tr>\n      <th>0</th>\n      <td>01/01/2019</td>\n      <td>1</td>\n      <td>19</td>\n      <td>35</td>\n      <td>62</td>\n      <td>90</td>\n      <td>66</td>\n      <td>-99</td>\n      <td>-99</td>\n      <td>-99</td>\n      <td>...</td>\n      <td>133</td>\n      <td>-99</td>\n      <td>-99</td>\n      <td>92</td>\n      <td>33</td>\n      <td>-99</td>\n      <td>55</td>\n      <td>74</td>\n      <td>99</td>\n      <td>96</td>\n    </tr>\n    <tr>\n      <th>1</th>\n      <td>01/01/2019</td>\n      <td>2</td>\n      <td>17</td>\n      <td>24</td>\n      <td>88</td>\n      <td>104</td>\n      <td>84</td>\n      <td>-99</td>\n      <td>-99</td>\n      <td>-99</td>\n      <td>...</td>\n      <td>164</td>\n      <td>-99</td>\n      <td>-99</td>\n      <td>100</td>\n      <td>40</td>\n      <td>-99</td>\n      <td>52</td>\n      <td>115</td>\n      <td>99</td>\n      <td>164</td>\n    </tr>\n    <tr>\n      <th>2</th>\n      <td>01/01/2019</td>\n      <td>3</td>\n      <td>14</td>\n      <td>20</td>\n      <td>107</td>\n      <td>140</td>\n      <td>95</td>\n      <td>-99</td>\n      <td>-99</td>\n      <td>-99</td>\n      <td>...</td>\n      <td>206</td>\n      <td>-99</td>\n      <td>-99</td>\n      <td>104</td>\n      <td>52</td>\n      <td>-99</td>\n      <td>59</td>\n      <td>150</td>\n      <td>109</td>\n      <td>249</td>\n    </tr>\n    <tr>\n      <th>3</th>\n      <td>01/01/2019</td>\n      <td>4</td>\n      <td>6</td>\n      <td>15</td>\n      <td>101</td>\n      <td>162</td>\n      <td>97</td>\n      <td>-99</td>\n      <td>-99</td>\n      <td>-99</td>\n      <td>...</td>\n      <td>273</td>\n      <td>-99</td>\n      <td>-99</td>\n      <td>144</td>\n      <td>25</td>\n      <td>-99</td>\n      <td>58</td>\n      <td>180</td>\n      <td>112</td>\n      <td>200</td>\n    </tr>\n    <tr>\n      <th>4</th>\n      <td>01/01/2019</td>\n      <td>5</td>\n      <td>4</td>\n      <td>8</td>\n      <td>121</td>\n      <td>133</td>\n      <td>88</td>\n      <td>-99</td>\n      <td>-99</td>\n      <td>-99</td>\n      <td>...</td>\n      <td>291</td>\n      <td>-99</td>\n      <td>-99</td>\n      <td>171</td>\n      <td>21</td>\n      <td>-99</td>\n      <td>46</td>\n      <td>167</td>\n      <td>164</td>\n      <td>161</td>\n    </tr>\n    <tr>\n      <th>5</th>\n      <td>01/01/2019</td>\n      <td>6</td>\n      <td>7</td>\n      <td>7</td>\n      <td>93</td>\n      <td>106</td>\n      <td>77</td>\n      <td>-99</td>\n      <td>-99</td>\n      <td>-99</td>\n      <td>...</td>\n      <td>387</td>\n      <td>-99</td>\n      <td>-99</td>\n      <td>138</td>\n      <td>15</td>\n      <td>-99</td>\n      <td>51</td>\n      <td>165</td>\n      <td>168</td>\n      <td>186</td>\n    </tr>\n    <tr>\n      <th>6</th>\n      <td>01/01/2019</td>\n      <td>7</td>\n      <td>12</td>\n      <td>8</td>\n      <td>84</td>\n      <td>98</td>\n      <td>51</td>\n      <td>-99</td>\n      <td>-99</td>\n      <td>-99</td>\n      <td>...</td>\n      <td>393</td>\n      <td>-99</td>\n      <td>-99</td>\n      <td>125</td>\n      <td>10</td>\n      <td>-99</td>\n      <td>47</td>\n      <td>158</td>\n      <td>167</td>\n      <td>179</td>\n    </tr>\n    <tr>\n      <th>7</th>\n      <td>01/01/2019</td>\n      <td>8</td>\n      <td>15</td>\n      <td>7</td>\n      <td>101</td>\n      <td>82</td>\n      <td>39</td>\n      <td>-99</td>\n      <td>-99</td>\n      <td>-99</td>\n      <td>...</td>\n      <td>291</td>\n      <td>-99</td>\n      <td>-99</td>\n      <td>134</td>\n      <td>14</td>\n      <td>-99</td>\n      <td>29</td>\n      <td>159</td>\n      <td>156</td>\n      <td>152</td>\n    </tr>\n    <tr>\n      <th>8</th>\n      <td>01/01/2019</td>\n      <td>9</td>\n      <td>24</td>\n      <td>3</td>\n      <td>89</td>\n      <td>54</td>\n      <td>26</td>\n      <td>-99</td>\n      <td>-99</td>\n      <td>-99</td>\n      <td>...</td>\n      <td>264</td>\n      <td>-99</td>\n      <td>-99</td>\n      <td>135</td>\n      <td>13</td>\n      <td>-99</td>\n      <td>47</td>\n      <td>142</td>\n      <td>139</td>\n      <td>156</td>\n    </tr>\n    <tr>\n      <th>9</th>\n      <td>01/01/2019</td>\n      <td>10</td>\n      <td>24</td>\n      <td>-99</td>\n      <td>88</td>\n      <td>76</td>\n      <td>26</td>\n      <td>-99</td>\n      <td>-99</td>\n      <td>-99</td>\n      <td>...</td>\n      <td>182</td>\n      <td>-99</td>\n      <td>-99</td>\n      <td>177</td>\n      <td>45</td>\n      <td>-99</td>\n      <td>104</td>\n      <td>125</td>\n      <td>142</td>\n      <td>160</td>\n    </tr>\n    <tr>\n      <th>10</th>\n      <td>01/01/2019</td>\n      <td>11</td>\n      <td>49</td>\n      <td>-99</td>\n      <td>102</td>\n      <td>77</td>\n      <td>66</td>\n      <td>-99</td>\n      <td>-99</td>\n      <td>-99</td>\n      <td>...</td>\n      <td>139</td>\n      <td>-99</td>\n      <td>-99</td>\n      <td>120</td>\n      <td>52</td>\n      <td>-99</td>\n      <td>151</td>\n      <td>93</td>\n      <td>130</td>\n      <td>147</td>\n    </tr>\n    <tr>\n      <th>11</th>\n      <td>01/01/2019</td>\n      <td>12</td>\n      <td>52</td>\n      <td>9</td>\n      <td>105</td>\n      <td>77</td>\n      <td>88</td>\n      <td>-99</td>\n      <td>-99</td>\n      <td>-99</td>\n      <td>...</td>\n      <td>81</td>\n      <td>-99</td>\n      <td>-99</td>\n      <td>84</td>\n      <td>45</td>\n      <td>-99</td>\n      <td>60</td>\n      <td>89</td>\n      <td>98</td>\n      <td>88</td>\n    </tr>\n    <tr>\n      <th>12</th>\n      <td>01/01/2019</td>\n      <td>13</td>\n      <td>75</td>\n      <td>27</td>\n      <td>84</td>\n      <td>45</td>\n      <td>96</td>\n      <td>-99</td>\n      <td>-99</td>\n      <td>-99</td>\n      <td>...</td>\n      <td>41</td>\n      <td>-99</td>\n      <td>-99</td>\n      <td>49</td>\n      <td>41</td>\n      <td>-99</td>\n      <td>53</td>\n      <td>80</td>\n      <td>45</td>\n      <td>55</td>\n    </tr>\n    <tr>\n      <th>13</th>\n      <td>01/01/2019</td>\n      <td>14</td>\n      <td>76</td>\n      <td>17</td>\n      <td>85</td>\n      <td>-99</td>\n      <td>45</td>\n      <td>-99</td>\n      <td>-99</td>\n      <td>-99</td>\n      <td>...</td>\n      <td>40</td>\n      <td>-99</td>\n      <td>-99</td>\n      <td>38</td>\n      <td>41</td>\n      <td>-99</td>\n      <td>45</td>\n      <td>77</td>\n      <td>59</td>\n      <td>40</td>\n    </tr>\n    <tr>\n      <th>14</th>\n      <td>01/01/2019</td>\n      <td>15</td>\n      <td>46</td>\n      <td>16</td>\n      <td>63</td>\n      <td>37</td>\n      <td>37</td>\n      <td>-99</td>\n      <td>-99</td>\n      <td>-99</td>\n      <td>...</td>\n      <td>25</td>\n      <td>-99</td>\n      <td>-99</td>\n      <td>36</td>\n      <td>35</td>\n      <td>-99</td>\n      <td>38</td>\n      <td>57</td>\n      <td>55</td>\n      <td>36</td>\n    </tr>\n    <tr>\n      <th>15</th>\n      <td>01/01/2019</td>\n      <td>16</td>\n      <td>34</td>\n      <td>19</td>\n      <td>40</td>\n      <td>58</td>\n      <td>47</td>\n      <td>-99</td>\n      <td>-99</td>\n      <td>-99</td>\n      <td>...</td>\n      <td>19</td>\n      <td>-99</td>\n      <td>-99</td>\n      <td>33</td>\n      <td>53</td>\n      <td>-99</td>\n      <td>29</td>\n      <td>39</td>\n      <td>34</td>\n      <td>36</td>\n    </tr>\n    <tr>\n      <th>16</th>\n      <td>01/01/2019</td>\n      <td>17</td>\n      <td>19</td>\n      <td>13</td>\n      <td>31</td>\n      <td>54</td>\n      <td>32</td>\n      <td>-99</td>\n      <td>-99</td>\n      <td>-99</td>\n      <td>...</td>\n      <td>14</td>\n      <td>-99</td>\n      <td>-99</td>\n      <td>22</td>\n      <td>60</td>\n      <td>-99</td>\n      <td>34</td>\n      <td>19</td>\n      <td>15</td>\n      <td>28</td>\n    </tr>\n    <tr>\n      <th>17</th>\n      <td>01/01/2019</td>\n      <td>18</td>\n      <td>10</td>\n      <td>18</td>\n      <td>16</td>\n      <td>19</td>\n      <td>13</td>\n      <td>-99</td>\n      <td>-99</td>\n      <td>-99</td>\n      <td>...</td>\n      <td>21</td>\n      <td>-99</td>\n      <td>-99</td>\n      <td>18</td>\n      <td>42</td>\n      <td>-99</td>\n      <td>26</td>\n      <td>11</td>\n      <td>16</td>\n      <td>24</td>\n    </tr>\n    <tr>\n      <th>18</th>\n      <td>01/01/2019</td>\n      <td>19</td>\n      <td>13</td>\n      <td>21</td>\n      <td>11</td>\n      <td>13</td>\n      <td>17</td>\n      <td>-99</td>\n      <td>-99</td>\n      <td>-99</td>\n      <td>...</td>\n      <td>12</td>\n      <td>-99</td>\n      <td>-99</td>\n      <td>42</td>\n      <td>35</td>\n      <td>-99</td>\n      <td>14</td>\n      <td>19</td>\n      <td>34</td>\n      <td>15</td>\n    </tr>\n    <tr>\n      <th>19</th>\n      <td>01/01/2019</td>\n      <td>20</td>\n      <td>6</td>\n      <td>24</td>\n      <td>8</td>\n      <td>18</td>\n      <td>13</td>\n      <td>-99</td>\n      <td>-99</td>\n      <td>-99</td>\n      <td>...</td>\n      <td>15</td>\n      <td>-99</td>\n      <td>-99</td>\n      <td>45</td>\n      <td>35</td>\n      <td>-99</td>\n      <td>17</td>\n      <td>19</td>\n      <td>16</td>\n      <td>25</td>\n    </tr>\n    <tr>\n      <th>20</th>\n      <td>01/01/2019</td>\n      <td>21</td>\n      <td>8</td>\n      <td>11</td>\n      <td>25</td>\n      <td>26</td>\n      <td>20</td>\n      <td>-99</td>\n      <td>-99</td>\n      <td>-99</td>\n      <td>...</td>\n      <td>25</td>\n      <td>-99</td>\n      <td>-99</td>\n      <td>40</td>\n      <td>25</td>\n      <td>-99</td>\n      <td>25</td>\n      <td>32</td>\n      <td>23</td>\n      <td>40</td>\n    </tr>\n    <tr>\n      <th>21</th>\n      <td>01/01/2019</td>\n      <td>22</td>\n      <td>27</td>\n      <td>10</td>\n      <td>34</td>\n      <td>27</td>\n      <td>17</td>\n      <td>-99</td>\n      <td>-99</td>\n      <td>-99</td>\n      <td>...</td>\n      <td>31</td>\n      <td>-99</td>\n      <td>-99</td>\n      <td>30</td>\n      <td>25</td>\n      <td>-99</td>\n      <td>31</td>\n      <td>37</td>\n      <td>32</td>\n      <td>53</td>\n    </tr>\n    <tr>\n      <th>22</th>\n      <td>01/01/2019</td>\n      <td>23</td>\n      <td>23</td>\n      <td>8</td>\n      <td>33</td>\n      <td>26</td>\n      <td>22</td>\n      <td>-99</td>\n      <td>-99</td>\n      <td>-99</td>\n      <td>...</td>\n      <td>37</td>\n      <td>-99</td>\n      <td>-99</td>\n      <td>14</td>\n      <td>28</td>\n      <td>-99</td>\n      <td>27</td>\n      <td>37</td>\n      <td>41</td>\n      <td>38</td>\n    </tr>\n    <tr>\n      <th>23</th>\n      <td>01/01/2019</td>\n      <td>24</td>\n      <td>23</td>\n      <td>10</td>\n      <td>25</td>\n      <td>32</td>\n      <td>20</td>\n      <td>-99</td>\n      <td>-99</td>\n      <td>-99</td>\n      <td>...</td>\n      <td>118</td>\n      <td>-99</td>\n      <td>-99</td>\n      <td>40</td>\n      <td>28</td>\n      <td>-99</td>\n      <td>21</td>\n      <td>30</td>\n      <td>41</td>\n      <td>39</td>\n    </tr>\n    <tr>\n      <th>24</th>\n      <td>02/01/2019</td>\n      <td>1</td>\n      <td>21</td>\n      <td>4</td>\n      <td>24</td>\n      <td>32</td>\n      <td>19</td>\n      <td>-99</td>\n      <td>-99</td>\n      <td>-99</td>\n      <td>...</td>\n      <td>71</td>\n      <td>-99</td>\n      <td>-99</td>\n      <td>24</td>\n      <td>27</td>\n      <td>-99</td>\n      <td>26</td>\n      <td>28</td>\n      <td>36</td>\n      <td>33</td>\n    </tr>\n  </tbody>\n</table>\n<p>25 rows × 26 columns</p>\n</div>"
          },
          "metadata": {},
          "execution_count": 10
        }
      ]
    },
    {
      "cell_type": "code",
      "metadata": {
        "colab": {
          "base_uri": "https://localhost:8080/",
          "height": 141
        },
        "id": "BsiIjOonhG_Y",
        "outputId": "dbae2a1c-e018-4348-c17b-f91e8545b7b3"
      },
      "source": [
        "df2020PM25.tail(3)"
      ],
      "execution_count": 11,
      "outputs": [
        {
          "output_type": "execute_result",
          "data": {
            "text/plain": [
              "           FECHA  HORA  AJM  AJU  BJU  CAM  CCA  COY  FAR  GAM  ...  NEZ  PED  \\\n",
              "8037  30/11/2020    22  -99   19   17  -99   28  -99   12   17  ...  -99   19   \n",
              "8038  30/11/2020    23  -99   11   23  -99   22  -99   14   16  ...  -99   20   \n",
              "8039  30/11/2020    24  -99    4   22  -99   23  -99   13   16  ...  -99   24   \n",
              "\n",
              "      SAC  SAG  SFE  SJA  TLA  UAX  UIZ  XAL  \n",
              "8037   19   17   24  -99   15   24  -99  -99  \n",
              "8038   11   21   24  -99   21   18  -99  -99  \n",
              "8039   16   20   26  -99   23   24  -99  -99  \n",
              "\n",
              "[3 rows x 26 columns]"
            ],
            "text/html": "<div>\n<style scoped>\n    .dataframe tbody tr th:only-of-type {\n        vertical-align: middle;\n    }\n\n    .dataframe tbody tr th {\n        vertical-align: top;\n    }\n\n    .dataframe thead th {\n        text-align: right;\n    }\n</style>\n<table border=\"1\" class=\"dataframe\">\n  <thead>\n    <tr style=\"text-align: right;\">\n      <th></th>\n      <th>FECHA</th>\n      <th>HORA</th>\n      <th>AJM</th>\n      <th>AJU</th>\n      <th>BJU</th>\n      <th>CAM</th>\n      <th>CCA</th>\n      <th>COY</th>\n      <th>FAR</th>\n      <th>GAM</th>\n      <th>...</th>\n      <th>NEZ</th>\n      <th>PED</th>\n      <th>SAC</th>\n      <th>SAG</th>\n      <th>SFE</th>\n      <th>SJA</th>\n      <th>TLA</th>\n      <th>UAX</th>\n      <th>UIZ</th>\n      <th>XAL</th>\n    </tr>\n  </thead>\n  <tbody>\n    <tr>\n      <th>8037</th>\n      <td>30/11/2020</td>\n      <td>22</td>\n      <td>-99</td>\n      <td>19</td>\n      <td>17</td>\n      <td>-99</td>\n      <td>28</td>\n      <td>-99</td>\n      <td>12</td>\n      <td>17</td>\n      <td>...</td>\n      <td>-99</td>\n      <td>19</td>\n      <td>19</td>\n      <td>17</td>\n      <td>24</td>\n      <td>-99</td>\n      <td>15</td>\n      <td>24</td>\n      <td>-99</td>\n      <td>-99</td>\n    </tr>\n    <tr>\n      <th>8038</th>\n      <td>30/11/2020</td>\n      <td>23</td>\n      <td>-99</td>\n      <td>11</td>\n      <td>23</td>\n      <td>-99</td>\n      <td>22</td>\n      <td>-99</td>\n      <td>14</td>\n      <td>16</td>\n      <td>...</td>\n      <td>-99</td>\n      <td>20</td>\n      <td>11</td>\n      <td>21</td>\n      <td>24</td>\n      <td>-99</td>\n      <td>21</td>\n      <td>18</td>\n      <td>-99</td>\n      <td>-99</td>\n    </tr>\n    <tr>\n      <th>8039</th>\n      <td>30/11/2020</td>\n      <td>24</td>\n      <td>-99</td>\n      <td>4</td>\n      <td>22</td>\n      <td>-99</td>\n      <td>23</td>\n      <td>-99</td>\n      <td>13</td>\n      <td>16</td>\n      <td>...</td>\n      <td>-99</td>\n      <td>24</td>\n      <td>16</td>\n      <td>20</td>\n      <td>26</td>\n      <td>-99</td>\n      <td>23</td>\n      <td>24</td>\n      <td>-99</td>\n      <td>-99</td>\n    </tr>\n  </tbody>\n</table>\n<p>3 rows × 26 columns</p>\n</div>"
          },
          "metadata": {},
          "execution_count": 11
        }
      ]
    },
    {
      "cell_type": "code",
      "metadata": {
        "colab": {
          "base_uri": "https://localhost:8080/"
        },
        "id": "56zcS5uThXtL",
        "outputId": "37446ccb-37a4-4262-966a-ce3250617326"
      },
      "source": [
        "dfcatalogo.dtypes"
      ],
      "execution_count": 12,
      "outputs": [
        {
          "output_type": "execute_result",
          "data": {
            "text/plain": [
              "cve_estac      object\n",
              "nom_estac      object\n",
              "longitud      float64\n",
              "latitud       float64\n",
              "alt           float64\n",
              "obs_estac      object\n",
              "id_station    float64\n",
              "Zona           object\n",
              "dtype: object"
            ]
          },
          "metadata": {},
          "execution_count": 12
        }
      ]
    },
    {
      "cell_type": "code",
      "metadata": {
        "colab": {
          "base_uri": "https://localhost:8080/",
          "height": 815
        },
        "id": "q8x5l-3ShjnF",
        "outputId": "15e91595-30de-433c-eeb0-112f912651b7"
      },
      "source": [
        "dfcatalogo.head(25)"
      ],
      "execution_count": 13,
      "outputs": [
        {
          "output_type": "execute_result",
          "data": {
            "text/plain": [
              "   cve_estac                             nom_estac   longitud    latitud  \\\n",
              "0        ACO                               Acolman -98.912003  19.635501   \n",
              "1        AJU                                Ajusco -99.162611  19.154286   \n",
              "2        AJM                          Ajusco Medio -99.207744  19.272161   \n",
              "3        ARA                              Aragï¿½n -99.074549  19.470218   \n",
              "4        ATI                              Atizapan -99.254133  19.576963   \n",
              "5        AZC                          Azcapotzalco -99.198657  19.487728   \n",
              "6        BJU                       Benito Juï¿½rez -99.159596  19.370464   \n",
              "7        CAM                             Camarones -99.169794  19.468404   \n",
              "8        CCA  Centro de Ciencias de la Atmï¿½sfera -99.176111  19.326111   \n",
              "9        CES                  Cerro de la Estrella -99.074678  19.334731   \n",
              "10       CFE         Museo Tecnolï¿½gico de la CFE -99.194279  19.414393   \n",
              "11       CHO                                Chalco -98.886088  19.266948   \n",
              "12       COR                                CORENA -99.026040  19.265346   \n",
              "13       COY                            Coyoacï¿½n -99.157101  19.350258   \n",
              "14       CUA                            Cuajimalpa -99.291705  19.365313   \n",
              "15       CUI                          Cuitlï¿½huac -99.165849  19.469859   \n",
              "16       CUT                          Cuautitlï¿½n -99.198602  19.722186   \n",
              "17       DIC                               Diconsa -99.185774  19.298819   \n",
              "18       EAJ                     Ecoguardas Ajusco -99.203971  19.271222   \n",
              "19       EDL               Exconv. Desierto Leones -99.310635  19.313357   \n",
              "20       FAC                         FES Acatlï¿½n -99.243524  19.482473   \n",
              "21       FAN                      Felipe ï¿½ngeles -99.174920  19.299126   \n",
              "22       GAM                     Gustavo A. Madero -99.094517  19.482700   \n",
              "23       HAN                              Hangares -99.083623  19.420518   \n",
              "24       HGM          Hospital General de Mï¿½xico -99.152207  19.411617   \n",
              "\n",
              "       alt                       obs_estac    id_station Zona  \n",
              "0   2198.0                             NaN  4.841500e+11   NE  \n",
              "1   2942.0                             NaN  4.840900e+11   SO  \n",
              "2   2548.0                             NaN  4.840900e+11   SO  \n",
              "3   2200.0  Finalizï¿½ operaciï¿½n en 2010  4.840900e+11    -  \n",
              "4   2341.0                             NaN  4.841500e+11   NO  \n",
              "5   2279.0  Finalizï¿½ operaciï¿½n en 2010  4.840900e+11    -  \n",
              "6   2249.0  Finalizï¿½ operaciï¿½n en 2005  4.840900e+11   CE  \n",
              "7   2233.0                             NaN  4.840900e+11   NO  \n",
              "8   2294.0                             NaN  4.840900e+11   SO  \n",
              "9   2219.0  Finalizï¿½ operaciï¿½n en 2010  4.840900e+11    -  \n",
              "10  2287.0  Finalizï¿½ operaciï¿½n en 1996  4.840900e+11    -  \n",
              "11  2253.0                             NaN  4.841500e+11   SE  \n",
              "12  2242.0                             NaN  4.840900e+11   SE  \n",
              "13  2260.0                             NaN  4.840900e+11   SO  \n",
              "14  2704.0                             NaN  4.840900e+11   SO  \n",
              "15  2255.0  Finalizï¿½ operaciï¿½n en 1993  4.840900e+11    -  \n",
              "16  2263.0                             NaN  4.841510e+11   NO  \n",
              "17  2305.0                             NaN  4.840900e+11   SO  \n",
              "18  2584.0                             NaN  4.840900e+11   SO  \n",
              "19  2980.0                             NaN  4.840900e+11   SO  \n",
              "20  2299.0                             NaN  4.841510e+11    -  \n",
              "21  2279.0  Finalizï¿½ operaciï¿½n en 1996  4.840900e+11    -  \n",
              "22  2227.0                             NaN  4.840900e+11   NE  \n",
              "23  2235.0  Finalizï¿½ operaciï¿½n en 2006  4.840900e+11    -  \n",
              "24  2234.0                             NaN  4.840900e+11   CE  "
            ],
            "text/html": "<div>\n<style scoped>\n    .dataframe tbody tr th:only-of-type {\n        vertical-align: middle;\n    }\n\n    .dataframe tbody tr th {\n        vertical-align: top;\n    }\n\n    .dataframe thead th {\n        text-align: right;\n    }\n</style>\n<table border=\"1\" class=\"dataframe\">\n  <thead>\n    <tr style=\"text-align: right;\">\n      <th></th>\n      <th>cve_estac</th>\n      <th>nom_estac</th>\n      <th>longitud</th>\n      <th>latitud</th>\n      <th>alt</th>\n      <th>obs_estac</th>\n      <th>id_station</th>\n      <th>Zona</th>\n    </tr>\n  </thead>\n  <tbody>\n    <tr>\n      <th>0</th>\n      <td>ACO</td>\n      <td>Acolman</td>\n      <td>-98.912003</td>\n      <td>19.635501</td>\n      <td>2198.0</td>\n      <td>NaN</td>\n      <td>4.841500e+11</td>\n      <td>NE</td>\n    </tr>\n    <tr>\n      <th>1</th>\n      <td>AJU</td>\n      <td>Ajusco</td>\n      <td>-99.162611</td>\n      <td>19.154286</td>\n      <td>2942.0</td>\n      <td>NaN</td>\n      <td>4.840900e+11</td>\n      <td>SO</td>\n    </tr>\n    <tr>\n      <th>2</th>\n      <td>AJM</td>\n      <td>Ajusco Medio</td>\n      <td>-99.207744</td>\n      <td>19.272161</td>\n      <td>2548.0</td>\n      <td>NaN</td>\n      <td>4.840900e+11</td>\n      <td>SO</td>\n    </tr>\n    <tr>\n      <th>3</th>\n      <td>ARA</td>\n      <td>Aragï¿½n</td>\n      <td>-99.074549</td>\n      <td>19.470218</td>\n      <td>2200.0</td>\n      <td>Finalizï¿½ operaciï¿½n en 2010</td>\n      <td>4.840900e+11</td>\n      <td>-</td>\n    </tr>\n    <tr>\n      <th>4</th>\n      <td>ATI</td>\n      <td>Atizapan</td>\n      <td>-99.254133</td>\n      <td>19.576963</td>\n      <td>2341.0</td>\n      <td>NaN</td>\n      <td>4.841500e+11</td>\n      <td>NO</td>\n    </tr>\n    <tr>\n      <th>5</th>\n      <td>AZC</td>\n      <td>Azcapotzalco</td>\n      <td>-99.198657</td>\n      <td>19.487728</td>\n      <td>2279.0</td>\n      <td>Finalizï¿½ operaciï¿½n en 2010</td>\n      <td>4.840900e+11</td>\n      <td>-</td>\n    </tr>\n    <tr>\n      <th>6</th>\n      <td>BJU</td>\n      <td>Benito Juï¿½rez</td>\n      <td>-99.159596</td>\n      <td>19.370464</td>\n      <td>2249.0</td>\n      <td>Finalizï¿½ operaciï¿½n en 2005</td>\n      <td>4.840900e+11</td>\n      <td>CE</td>\n    </tr>\n    <tr>\n      <th>7</th>\n      <td>CAM</td>\n      <td>Camarones</td>\n      <td>-99.169794</td>\n      <td>19.468404</td>\n      <td>2233.0</td>\n      <td>NaN</td>\n      <td>4.840900e+11</td>\n      <td>NO</td>\n    </tr>\n    <tr>\n      <th>8</th>\n      <td>CCA</td>\n      <td>Centro de Ciencias de la Atmï¿½sfera</td>\n      <td>-99.176111</td>\n      <td>19.326111</td>\n      <td>2294.0</td>\n      <td>NaN</td>\n      <td>4.840900e+11</td>\n      <td>SO</td>\n    </tr>\n    <tr>\n      <th>9</th>\n      <td>CES</td>\n      <td>Cerro de la Estrella</td>\n      <td>-99.074678</td>\n      <td>19.334731</td>\n      <td>2219.0</td>\n      <td>Finalizï¿½ operaciï¿½n en 2010</td>\n      <td>4.840900e+11</td>\n      <td>-</td>\n    </tr>\n    <tr>\n      <th>10</th>\n      <td>CFE</td>\n      <td>Museo Tecnolï¿½gico de la CFE</td>\n      <td>-99.194279</td>\n      <td>19.414393</td>\n      <td>2287.0</td>\n      <td>Finalizï¿½ operaciï¿½n en 1996</td>\n      <td>4.840900e+11</td>\n      <td>-</td>\n    </tr>\n    <tr>\n      <th>11</th>\n      <td>CHO</td>\n      <td>Chalco</td>\n      <td>-98.886088</td>\n      <td>19.266948</td>\n      <td>2253.0</td>\n      <td>NaN</td>\n      <td>4.841500e+11</td>\n      <td>SE</td>\n    </tr>\n    <tr>\n      <th>12</th>\n      <td>COR</td>\n      <td>CORENA</td>\n      <td>-99.026040</td>\n      <td>19.265346</td>\n      <td>2242.0</td>\n      <td>NaN</td>\n      <td>4.840900e+11</td>\n      <td>SE</td>\n    </tr>\n    <tr>\n      <th>13</th>\n      <td>COY</td>\n      <td>Coyoacï¿½n</td>\n      <td>-99.157101</td>\n      <td>19.350258</td>\n      <td>2260.0</td>\n      <td>NaN</td>\n      <td>4.840900e+11</td>\n      <td>SO</td>\n    </tr>\n    <tr>\n      <th>14</th>\n      <td>CUA</td>\n      <td>Cuajimalpa</td>\n      <td>-99.291705</td>\n      <td>19.365313</td>\n      <td>2704.0</td>\n      <td>NaN</td>\n      <td>4.840900e+11</td>\n      <td>SO</td>\n    </tr>\n    <tr>\n      <th>15</th>\n      <td>CUI</td>\n      <td>Cuitlï¿½huac</td>\n      <td>-99.165849</td>\n      <td>19.469859</td>\n      <td>2255.0</td>\n      <td>Finalizï¿½ operaciï¿½n en 1993</td>\n      <td>4.840900e+11</td>\n      <td>-</td>\n    </tr>\n    <tr>\n      <th>16</th>\n      <td>CUT</td>\n      <td>Cuautitlï¿½n</td>\n      <td>-99.198602</td>\n      <td>19.722186</td>\n      <td>2263.0</td>\n      <td>NaN</td>\n      <td>4.841510e+11</td>\n      <td>NO</td>\n    </tr>\n    <tr>\n      <th>17</th>\n      <td>DIC</td>\n      <td>Diconsa</td>\n      <td>-99.185774</td>\n      <td>19.298819</td>\n      <td>2305.0</td>\n      <td>NaN</td>\n      <td>4.840900e+11</td>\n      <td>SO</td>\n    </tr>\n    <tr>\n      <th>18</th>\n      <td>EAJ</td>\n      <td>Ecoguardas Ajusco</td>\n      <td>-99.203971</td>\n      <td>19.271222</td>\n      <td>2584.0</td>\n      <td>NaN</td>\n      <td>4.840900e+11</td>\n      <td>SO</td>\n    </tr>\n    <tr>\n      <th>19</th>\n      <td>EDL</td>\n      <td>Exconv. Desierto Leones</td>\n      <td>-99.310635</td>\n      <td>19.313357</td>\n      <td>2980.0</td>\n      <td>NaN</td>\n      <td>4.840900e+11</td>\n      <td>SO</td>\n    </tr>\n    <tr>\n      <th>20</th>\n      <td>FAC</td>\n      <td>FES Acatlï¿½n</td>\n      <td>-99.243524</td>\n      <td>19.482473</td>\n      <td>2299.0</td>\n      <td>NaN</td>\n      <td>4.841510e+11</td>\n      <td>-</td>\n    </tr>\n    <tr>\n      <th>21</th>\n      <td>FAN</td>\n      <td>Felipe ï¿½ngeles</td>\n      <td>-99.174920</td>\n      <td>19.299126</td>\n      <td>2279.0</td>\n      <td>Finalizï¿½ operaciï¿½n en 1996</td>\n      <td>4.840900e+11</td>\n      <td>-</td>\n    </tr>\n    <tr>\n      <th>22</th>\n      <td>GAM</td>\n      <td>Gustavo A. Madero</td>\n      <td>-99.094517</td>\n      <td>19.482700</td>\n      <td>2227.0</td>\n      <td>NaN</td>\n      <td>4.840900e+11</td>\n      <td>NE</td>\n    </tr>\n    <tr>\n      <th>23</th>\n      <td>HAN</td>\n      <td>Hangares</td>\n      <td>-99.083623</td>\n      <td>19.420518</td>\n      <td>2235.0</td>\n      <td>Finalizï¿½ operaciï¿½n en 2006</td>\n      <td>4.840900e+11</td>\n      <td>-</td>\n    </tr>\n    <tr>\n      <th>24</th>\n      <td>HGM</td>\n      <td>Hospital General de Mï¿½xico</td>\n      <td>-99.152207</td>\n      <td>19.411617</td>\n      <td>2234.0</td>\n      <td>NaN</td>\n      <td>4.840900e+11</td>\n      <td>CE</td>\n    </tr>\n  </tbody>\n</table>\n</div>"
          },
          "metadata": {},
          "execution_count": 13
        }
      ]
    },
    {
      "source": [
        "Aplicando las funciones previamente descritas, observamos lo siguiente de cada uno de nuestros datasets:\n",
        "\n",
        "- En total, los 5 datasets en formato `csv` se encuentran conformados, como se muestra a continuación:\n",
        "\n",
        "<div style=\"text-align:center; padding: 1px; margin: 5px;\"><img src='../img/tabla1_aed.jpg'></div\n",
        "\n",
        "- Los datasets de `2019PM10`, `2020PM10`, `2019PM25` y `2020PM25` comparten la misma estructura. Lo que los diferencía es que unos tienen más estaciones de monitoreo, por ejemplo, los datasets de $PM_{10}$ tienen **27** estaciones registradas y los de $PM_{2.5}$ tienen **24** estaciones. A continuación se describen las columnas que conforman a estos datasets.\n",
        "\n",
        "<div style=\"text-align:center; padding: 1px; margin: 5px;\"><img src='../img/tabla2_aed.jpg'></div\n",
        "\n",
        "- El dataset de cat_estacion se utilizó como catálogo para poder ubicar a qué zona pertenecen las estaciones de monitoreo y su ubicación geográfica, en la siguiente tabla se describen los atributos que la conforman:\n",
        "\n",
        "<div style=\"text-align:center; padding: 1px; margin: 5px;\"><img src='../img/tabla3_aed.jpg'></div"
      ],
      "cell_type": "markdown",
      "metadata": {}
    }
  ]
}